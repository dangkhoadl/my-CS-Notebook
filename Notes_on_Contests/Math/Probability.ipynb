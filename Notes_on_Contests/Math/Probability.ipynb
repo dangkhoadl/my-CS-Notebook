{
 "cells": [
  {
   "cell_type": "markdown",
   "metadata": {},
   "source": [
    "# [Overrandomized](https://codingcompetitions.withgoogle.com/codejam/round/000000000019fef4/00000000003179a1)\n",
    "\n",
    "# Analyze\n",
    "## Input\n",
    "- Given an integer M\n",
    "    + return a random number in range [1, M]\n",
    "    + All digit is encoded as a string len 10. Eg:\n",
    "        + `CODEJAMFUN` ->\n",
    "        + C = 0, O = 1, D = 2\n",
    "\n",
    "## Intuition 1\n",
    "- Probability to see digit 1,2,3,...,9, 0 decreasing\n",
    "    - Most appeared character -> digit 1\n",
    "    - 2nd Most appeared character -> digit 2\n",
    "    - ...\n",
    "    - Least appeared character -> digit 0\n",
    "\n",
    "#### Simulate"
   ]
  },
  {
   "cell_type": "code",
   "execution_count": 43,
   "metadata": {},
   "outputs": [],
   "source": [
    "from random import randint\n",
    "from collections import defaultdict\n",
    "\n",
    "\n",
    "def simulate(U, N=10000):\n",
    "    '''U = number of digit'''\n",
    "    # count digit appearances\n",
    "    digit_cnt = defaultdict(int)\n",
    "    \n",
    "    for n in range(1000):\n",
    "        M = randint(1, 10**U-1)\n",
    "        R = randint(1, M)\n",
    "        \n",
    "        for digit in str(R):\n",
    "            digit_cnt[int(digit)] += 1\n",
    "    \n",
    "    # Sort by appearances\n",
    "    return {k: v for k, v in sorted(digit_cnt.items(), key=lambda item: item[1], reverse=True)}\n",
    "\n",
    "\n",
    "def plot_data(data: defaultdict(int)):\n",
    "    from matplotlib import pyplot as plt\n",
    "    \n",
    "    plt.bar(\n",
    "        x=range(len(data)), height=list(data.values()),\n",
    "        align='center')\n",
    "\n",
    "    plt.xticks(\n",
    "        ticks=range(len(data)),\n",
    "        labels=list(data.keys()))\n",
    "\n",
    "    plt.show()"
   ]
  },
  {
   "cell_type": "code",
   "execution_count": 45,
   "metadata": {},
   "outputs": [
    {
     "data": {
      "image/png": "[encoded data removed]",
      "text/plain": [
       "<Figure size 432x288 with 1 Axes>"
      ]
     },
     "metadata": {
      "needs_background": "light"
     },
     "output_type": "display_data"
    }
   ],
   "source": [
    "# 1 - 99\n",
    "digit_cnt = simulate(2)\n",
    "plot_data(digit_cnt)"
   ]
  },
  {
   "cell_type": "code",
   "execution_count": 46,
   "metadata": {},
   "outputs": [
    {
     "data": {
      "image/png": "[encoded data removed]",
      "text/plain": [
       "<Figure size 432x288 with 1 Axes>"
      ]
     },
     "metadata": {
      "needs_background": "light"
     },
     "output_type": "display_data"
    }
   ],
   "source": [
    "# 1 - 999\n",
    "digit_cnt = simulate(3)\n",
    "plot_data(digit_cnt)"
   ]
  },
  {
   "cell_type": "markdown",
   "metadata": {},
   "source": [
    "## Intuition 2\n",
    "- Probability to see digit 1,2,3,...,9 decreasing sharply as we just consider only leftmost (leading) digit\n",
    "- 0 wont appear\n",
    "\n",
    "#### Simulate"
   ]
  },
  {
   "cell_type": "code",
   "execution_count": 47,
   "metadata": {},
   "outputs": [],
   "source": [
    "from random import randint\n",
    "from collections import defaultdict\n",
    "\n",
    "\n",
    "def simulate(U, N=10000):\n",
    "    '''U = number of digit'''\n",
    "    # count digit appearances\n",
    "    digit_cnt = defaultdict(int)\n",
    "    \n",
    "    for n in range(1000):\n",
    "        M = randint(1, 10**U-1)\n",
    "        R = randint(1, M)\n",
    "        \n",
    "        digit_cnt[int(str(R)[0])] += 1\n",
    "    \n",
    "    # Sort by appearances\n",
    "    return {k: v for k, v in sorted(digit_cnt.items(), key=lambda item: item[1], reverse=True)}\n",
    "\n",
    "\n",
    "def plot_data(data: defaultdict(int)):\n",
    "    from matplotlib import pyplot as plt\n",
    "    \n",
    "    plt.bar(\n",
    "        x=range(len(data)), height=list(data.values()),\n",
    "        align='center')\n",
    "\n",
    "    plt.xticks(\n",
    "        ticks=range(len(data)),\n",
    "        labels=list(data.keys()))\n",
    "\n",
    "    plt.show()"
   ]
  },
  {
   "cell_type": "code",
   "execution_count": 48,
   "metadata": {},
   "outputs": [
    {
     "data": {
      "image/png": "[encoded data removed]",
      "text/plain": [
       "<Figure size 432x288 with 1 Axes>"
      ]
     },
     "metadata": {
      "needs_background": "light"
     },
     "output_type": "display_data"
    }
   ],
   "source": [
    "# 1 - 99\n",
    "digit_cnt = simulate(2)\n",
    "plot_data(digit_cnt)"
   ]
  },
  {
   "cell_type": "code",
   "execution_count": 49,
   "metadata": {},
   "outputs": [
    {
     "data": {
      "image/png": "[encoded data removed]",
      "text/plain": [
       "<Figure size 432x288 with 1 Axes>"
      ]
     },
     "metadata": {
      "needs_background": "light"
     },
     "output_type": "display_data"
    }
   ],
   "source": [
    "# 1 - 999\n",
    "digit_cnt = simulate(3)\n",
    "plot_data(digit_cnt)"
   ]
  },
  {
   "cell_type": "markdown",
   "metadata": {},
   "source": [
    "# Solution\n",
    "\n",
    "```cpp\n",
    "int U;\n",
    "vector<int> Q;\n",
    "vector<string> R;\n",
    "void readInput() {\n",
    "    cin >> U;\n",
    "    Q.resize(10000);\n",
    "    R.resize(10000);\n",
    "    for(int i=0; i<10000; ++i) {\n",
    "        cin >> Q[i] >> R[i];\n",
    "    }\n",
    "}\n",
    "\n",
    "\n",
    "string sol() {\n",
    "    unordered_map<char, int> cnt;\n",
    "    for(auto &s:R) {\n",
    "        cnt[s[0]] += 1;\n",
    "    }\n",
    "\n",
    "    vector<pair<char, int>> tmp(cnt.begin(), cnt.end());\n",
    "    sort(tmp.begin(), tmp.end(), [](pair<char, int> &a, pair<char, int> &b){return a.second > b.second;});\n",
    "\n",
    "    unordered_set<char> is_in;\n",
    "    string ans(10, '?');\n",
    "    for(int i=1; i<10; ++i) {\n",
    "        ans[i] = tmp[i-1].first;\n",
    "        is_in.insert(tmp[i-1].first);\n",
    "    }\n",
    "\n",
    "    for(string &r:R) for(char &c:r) {\n",
    "        if(is_in.count(c) == NULL) {\n",
    "            ans[0] = c;\n",
    "            break;\n",
    "        }\n",
    "    }\n",
    "\n",
    "    return ans;\n",
    "}\n",
    "\n",
    "\n",
    "void solve(unsigned long long fdfsfv_t) {\n",
    "    cout << \"Case #\" << fdfsfv_t  << \": \" << sol() << endl;\n",
    "}\n",
    "```"
   ]
  }
 ],
 "metadata": {
  "kernelspec": {
   "display_name": "Python 3.7",
   "language": "python",
   "name": "py37"
  },
  "language_info": {
   "codemirror_mode": {
    "name": "ipython",
    "version": 3
   },
   "file_extension": ".py",
   "mimetype": "text/x-python",
   "name": "python",
   "nbconvert_exporter": "python",
   "pygments_lexer": "ipython3",
   "version": "3.7.9"
  }
 },
 "nbformat": 4,
 "nbformat_minor": 4
}
