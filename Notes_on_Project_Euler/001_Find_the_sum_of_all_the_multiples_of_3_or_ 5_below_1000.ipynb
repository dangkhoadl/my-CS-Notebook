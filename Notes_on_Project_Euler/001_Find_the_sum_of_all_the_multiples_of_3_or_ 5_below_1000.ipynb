{
 "cells": [
  {
   "cell_type": "markdown",
   "metadata": {},
   "source": [
    "## [Problem 1. Find the sum of all the multiples of 3 or 5 below 1000](https://projecteuler.net/problem=1)\n",
    "\n",
    "\n",
    "#### Bruteforce O(n)\n",
    "```C++\n",
    "void solve() {\n",
    "    int ans = 0;\n",
    "    for(int i=1; i<=1000; ++i) {\n",
    "        if(i%3==0 || i%5==0) ans += i;\n",
    "    }\n",
    "    cout << ans;\n",
    "}\n",
    "```\n",
    "\n",
    "\n",
    "#### Math O(1)\n",
    "- n = 3\n",
    "    + 3+6+9+12+......+999 = 3*(1+2+3+4+...+333)\n",
    "- n = 5\n",
    "    + 5+10+15+...+995=5*(1+2+....+199)\n",
    "- formular\n",
    "    + 1+2+3+...+ p = $\\frac{p(p+1)}{2}$\n",
    "    + => n*(1+2+3+...+ p) = $\\frac{np(p+1)}{2}$\n",
    "- f(3) || f(5) = f(3) + f(5) - f(15) \n",
    "\n",
    "```C++\n",
    "int target = 1000;\n",
    "int sum_divisible_by(int n) {\n",
    "    int p = target/n;\n",
    "    return n*(p*(p+1))/2;\n",
    "}\n",
    "\n",
    "void solve() {\n",
    "    cout << sum_divisible_by(3) + sum_divisible_by(5) - sum_divisible_by(15);\n",
    "}\n",
    "```"
   ]
  }
 ],
 "metadata": {
  "kernelspec": {
   "display_name": "Python 3.7",
   "language": "python",
   "name": "py37"
  },
  "language_info": {
   "codemirror_mode": {
    "name": "ipython",
    "version": 3
   },
   "file_extension": ".py",
   "mimetype": "text/x-python",
   "name": "python",
   "nbconvert_exporter": "python",
   "pygments_lexer": "ipython3",
   "version": "3.7.9"
  }
 },
 "nbformat": 4,
 "nbformat_minor": 2
}
