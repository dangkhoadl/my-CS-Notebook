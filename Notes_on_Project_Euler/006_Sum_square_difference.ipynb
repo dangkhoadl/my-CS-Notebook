{
 "cells": [
  {
   "cell_type": "markdown",
   "metadata": {},
   "source": [
    "## [Sum square difference](https://projecteuler.net/problem=6)\n",
    "\n",
    "The sum of the squares of the first ten natural numbers is  \n",
    "$$1^2+2^2+ ... + 10^2 = 385$$  \n",
    "The square of the sum of the first ten natural numbers is,  \n",
    "$$(1+2+...+10)^2=55^2=3025$$  \n",
    "Hence the difference between the sum of the squares (1st 10 natural numbers)  \n",
    "$$3025-385=2640$$  \n",
    "Find the difference between the sum of the squares of the first one hundred natural numbers and the square of the sum."
   ]
  },
  {
   "cell_type": "markdown",
   "metadata": {},
   "source": [
    "## Solution\n",
    "- $\\sum_{k=1}^nk=\\frac{n(n+1)}{2}$\n",
    "- $\\sum_{k=1}^nk^2=\\frac{n(n+1)(2n+1)}{6}$\n",
    "\n",
    "```C++\n",
    "int N = 100;\n",
    "void solve() {\n",
    "    int sum_of_k = N*(N+1)/2; \n",
    "    int sum_of_k_sq = N*(N+1)*(2*N+1)/6; \n",
    "\n",
    "    cout << sum_of_k*sum_of_k - sum_of_k_sq;\n",
    "}\n",
    "```"
   ]
  },
  {
   "cell_type": "markdown",
   "metadata": {},
   "source": [
    "## Proof\n",
    "#### Find the $f(n) = 1^2 + 2^2 + 3^1 + ... + n^2$\n",
    "- Assume $f(n) = an^3 + bn^2 + cn + d$. Find a,b,c,d\n",
    "- We have:\n",
    "    + f(0) = 0 => d = 0\n",
    "    + f(1) = 1 => a + b + c + d = 1\n",
    "    + f(2) = 5 => 8a + 4b + 2c + d = 5\n",
    "    + f(3) = 14 => 27a + 9b + 3c + d = 14\n",
    "- Solve the system of equations\n",
    "    + $a=\\frac{1}{3}$\n",
    "    + $b=\\frac{1}{2}$\n",
    "    + $c=\\frac{1}{6}$\n",
    "    + $d = 0$\n",
    "- => $f(n)=\\frac{1}{3}n^3 + \\frac{1}{2}n^2 + \\frac{1}{6}n=\\frac{n(n+1)(2n+1)}{6}$\n",
    "\n",
    "#### Proof\n",
    "- We have to prove: $f(n + 1) = f(n) + (n + 1)^2$\n",
    "- $LHS = \\frac{(n+1)(n+2)(2n+3)}{6}$\n",
    "- $RHS = \\frac{n(n+1)(2n+1)}{6}+(n+1)^2$\n",
    "- $LHS=RHS$"
   ]
  }
 ],
 "metadata": {
  "kernelspec": {
   "display_name": "Python 3.7",
   "language": "python",
   "name": "py37"
  },
  "language_info": {
   "codemirror_mode": {
    "name": "ipython",
    "version": 3
   },
   "file_extension": ".py",
   "mimetype": "text/x-python",
   "name": "python",
   "nbconvert_exporter": "python",
   "pygments_lexer": "ipython3",
   "version": "3.7.9"
  }
 },
 "nbformat": 4,
 "nbformat_minor": 2
}
