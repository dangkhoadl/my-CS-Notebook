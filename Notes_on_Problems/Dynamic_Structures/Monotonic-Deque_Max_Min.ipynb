{
 "cells": [
  {
   "cell_type": "markdown",
   "metadata": {},
   "source": [
    "# [Sliding Window size K Maximum](https://leetcode.com/problems/sliding-window-maximum/)\n",
    "- Given an array A\n",
    "- There is a sliding window of size K moving from the very left of the array to the very right\n",
    "- Each time the sliding window moves right by one position. Return the max sliding window.\n",
    "\n",
    "#### Example\n",
    "\n",
    "```\n",
    "Input: nums = [1,3,-1,-3,5,3,6,7], and k = 3\n",
    "Output: [3,3,5,5,6,7] \n",
    "Explanation: \n",
    "\n",
    "Window position                Max\n",
    "---------------               -----\n",
    "[1  3  -1] -3  5  3  6  7       3\n",
    " 1 [3  -1  -3] 5  3  6  7       3\n",
    " 1  3 [-1  -3  5] 3  6  7       5\n",
    " 1  3  -1 [-3  5  3] 6  7       5\n",
    " 1  3  -1  -3 [5  3  6] 7       6\n",
    " 1  3  -1  -3  5 [3  6  7]      7\n",
    "```\n",
    "\n",
    "#### Solution: Monotonic Queue\n",
    "- Maintain a deque D that\n",
    "    + maintain the info (i, a[i]) -> can simplify by maintain only (i)\n",
    "    + Maintain a deque\n",
    "        + In decreasing order `[front] Max > > > a[r] [back]`\n",
    "        + All element must be in the window size K\n",
    "\n",
    "\n",
    "```C++\n",
    "class Solution {\n",
    "public:\n",
    "    vector<int> maxSlidingWindow(vector<int>& A, int k) {\n",
    "        deque<int> deque_max;\n",
    "        vector<int> ans;\n",
    "\n",
    "        for(int r=0; r<A.size(); ++ r) {\n",
    "            int l = r - k + 1;\n",
    "\n",
    "            // Update back + r: Remove all candidates < A[r] at back and add a[r] to back\n",
    "            while(!deque_max.empty() && A[deque_max.back()] < A[r]) deque_max.pop_back();\n",
    "            deque_max.push_back(r);\n",
    "\n",
    "            // Update front + l: shrink left pointer - Remove all element that out of window\n",
    "            while(!deque_max.empty() && deque_max.front() < l) deque_max.pop_front();\n",
    "\n",
    "            // relax\n",
    "            if(l>=0) ans.push_back(A[deque_max.front()]);\n",
    "        }\n",
    "        return ans;\n",
    "    }\n",
    "};\n",
    "```"
   ]
  }
 ],
 "metadata": {
  "kernelspec": {
   "display_name": "Python 3.8",
   "language": "python",
   "name": "py38"
  },
  "language_info": {
   "codemirror_mode": {
    "name": "ipython",
    "version": 3
   },
   "file_extension": ".py",
   "mimetype": "text/x-python",
   "name": "python",
   "nbconvert_exporter": "python",
   "pygments_lexer": "ipython3",
   "version": "3.8.13"
  }
 },
 "nbformat": 4,
 "nbformat_minor": 2
}
