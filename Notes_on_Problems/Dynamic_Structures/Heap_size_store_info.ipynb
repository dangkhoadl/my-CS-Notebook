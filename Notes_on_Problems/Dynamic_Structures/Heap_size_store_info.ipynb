{
 "cells": [
  {
   "cell_type": "markdown",
   "metadata": {},
   "source": [
    "# [Problem](https://codingcompetitions.withgoogle.com/kickstart/round/00000000008f4332/0000000000941e56)\n",
    "- **Given**\n",
    "    + Array `C` size `N`\n",
    "- **Find**\n",
    "    + for each index `i` return `H[i]`. Such that\n",
    "        + `H[i]` = count(c) and `H[i]` $\\leq$ c, $\\forall c$ in C[0:i]\n",
    "\n",
    "#### Limits\n",
    "- $1 \\leq N \\leq 1e5$\n",
    "\n",
    "#### Example 1\n",
    "\n",
    "```\n",
    "// Input\n",
    "3\n",
    "5 1 2\n",
    "\n",
    "// Output\n",
    "1 1 2\n",
    "```\n",
    "\n",
    "#### Example 2\n",
    "\n",
    "```\n",
    "// Input\n",
    "6\n",
    "1 3 3 2 2 15\n",
    "\n",
    "// Output\n",
    "1 1 2 2 2 3\n",
    "```"
   ]
  },
  {
   "cell_type": "markdown",
   "metadata": {},
   "source": [
    "# Solution\n",
    "- Follow the math equation\n",
    "- Use min_heap **size** to store count(c), pop all items that < heap size\n",
    "\n",
    "```C++\n",
    "int N;\n",
    "vector<int> C;\n",
    "\n",
    "\n",
    "vector<int> sol() {\n",
    "    vector<int> ans;\n",
    "    priority_queue<int, vector<int>, greater<int>> min_heap;\n",
    "    for(int i=0; i<N; ++i) {\n",
    "        min_heap.push(C[i]);\n",
    "\n",
    "        // heap size: h-index\n",
    "        while(min_heap.top() < min_heap.size()) min_heap.pop();\n",
    "\n",
    "        ans.push_back(min_heap.size());\n",
    "    }\n",
    "\n",
    "    return ans;\n",
    "}\n",
    "```"
   ]
  }
 ],
 "metadata": {
  "kernelspec": {
   "display_name": "Python 3.7",
   "language": "python",
   "name": "py37"
  },
  "language_info": {
   "codemirror_mode": {
    "name": "ipython",
    "version": 3
   },
   "file_extension": ".py",
   "mimetype": "text/x-python",
   "name": "python",
   "nbconvert_exporter": "python",
   "pygments_lexer": "ipython3",
   "version": "3.7.9"
  }
 },
 "nbformat": 4,
 "nbformat_minor": 4
}
