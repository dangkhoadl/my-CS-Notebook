{
 "cells": [
  {
   "cell_type": "markdown",
   "metadata": {},
   "source": [
    "# [Remove K Digits](https://leetcode.com/problems/remove-k-digits/description/)\n",
    "\n",
    "- **Given**:\n",
    "    + A string `num` contain `0-9` digits\n",
    "    + `k`: Number of digit need to remove\n",
    "- **Return**: Possible smallest (lexiographical) number\n",
    "\n",
    "#### Examples\n",
    "\n",
    "```\n",
    "Input: num = \"1432219\", k = 3\n",
    "Output: \"1219\"\n",
    "\n",
    "Input: num = \"10200\", k = 1\n",
    "Output: \"200\"\n",
    "\n",
    "Input: num = \"10\", k = 2\n",
    "Output: \"0\"\n",
    "```\n",
    "\n",
    "## Solution\n",
    "- Maintain a **Monotonic** small stack, **Greedily** removes k back numbers that > adding digits while adding digit\n",
    "\n",
    "#### Code\n",
    "\n",
    "```Cpp\n",
    "class Solution {\n",
    "public:\n",
    "    string removeKdigits(const string &num, int k) {\n",
    "        int stack_len = num.size() - k;\n",
    "        int removes = k;\n",
    "\n",
    "        // Monotonic Stack\n",
    "        string ans = \"\";\n",
    "        for(const char &d: num) {\n",
    "            // Pop stack\n",
    "            while(!ans.empty() && ans.back() > d && removes > 0) {\n",
    "                ans.pop_back();\n",
    "                removes -= 1;\n",
    "            }\n",
    "            \n",
    "            // Push stack\n",
    "            ans += d;\n",
    "        }\n",
    "        ans.erase(stack_len);\n",
    "\n",
    "\n",
    "        // Trim leading zeros\n",
    "        int i = 0;\n",
    "        while(i<ans.size() && ans[i]=='0') i += 1;\n",
    "        ans.erase(0, i);\n",
    "\n",
    "        return ans == \"\" ? \"0\" : ans;\n",
    "    }\n",
    "};\n",
    "```"
   ]
  }
 ],
 "metadata": {
  "kernelspec": {
   "display_name": "Python 3.8",
   "language": "python",
   "name": "py38"
  },
  "language_info": {
   "codemirror_mode": {
    "name": "ipython",
    "version": 3
   },
   "file_extension": ".py",
   "mimetype": "text/x-python",
   "name": "python",
   "nbconvert_exporter": "python",
   "pygments_lexer": "ipython3",
   "version": "3.8.13"
  }
 },
 "nbformat": 4,
 "nbformat_minor": 4
}
