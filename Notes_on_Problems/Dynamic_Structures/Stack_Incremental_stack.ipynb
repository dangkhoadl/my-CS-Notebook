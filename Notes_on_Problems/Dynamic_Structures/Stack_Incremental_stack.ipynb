{
 "cells": [
  {
   "cell_type": "markdown",
   "metadata": {},
   "source": [
    "# [Design a Stack With Increment Operation](https://leetcode.com/problems/design-a-stack-with-increment-operation/)\n",
    "- **Design** a stack with `maxSize` such that\n",
    "    + `push(x)`: Adds x to the top of the stack\n",
    "        + if `maxSize` reached, not add\n",
    "    + `pop()`: Pops and returns the top of stack\n",
    "        + if stack empty return -1\n",
    "    + `inc(int k, int val)`: Increments the bottom k elements of the stack by val\n",
    "        + if k > stack size: increase all elements in the stack by `val`\n",
    "\n",
    "#### Solution\n",
    "- **Lazy Propagation** idea\n",
    "    + Only needed to update element[k] of the stack\n",
    "    + Lazily update the rests: Pop element k -> pass the inc val to k-1\n",
    "    + Store the incremental values separately in an auxilary stack/array\n",
    "\n",
    "```Cpp\n",
    "class CustomStack {\n",
    "private:\n",
    "    int _N;\n",
    "    stack<int> _stack;\n",
    "    vector<int> _inc;\n",
    "public:\n",
    "    CustomStack(int maxSize) {\n",
    "        _N = maxSize;\n",
    "        _inc.clear();\n",
    "        while(!_stack.empty()) _stack.pop();\n",
    "    }\n",
    "\n",
    "    void push(int x) {\n",
    "        if(_stack.size() == _N) return;\n",
    "\n",
    "        _stack.push(x);\n",
    "        _inc.push_back(0);\n",
    "    }\n",
    "\n",
    "    int pop() {\n",
    "        if(_stack.empty()) return -1;\n",
    "\n",
    "        int val = _stack.top(); _stack.pop();\n",
    "        int inc_val = _inc.back(); _inc.pop_back();\n",
    "\n",
    "        // lazy prop\n",
    "        if(!_inc.empty()) _inc.back() += inc_val;\n",
    "        return val + inc_val;\n",
    "    }\n",
    "\n",
    "    void increment(int k, int val) {\n",
    "        if(_inc.empty()) return;\n",
    "        (k >= _inc.size()) ? _inc.back() += val : _inc[k-1] += val;\n",
    "    }\n",
    "};\n",
    "```"
   ]
  }
 ],
 "metadata": {
  "kernelspec": {
   "display_name": "Python 3.8",
   "language": "python",
   "name": "py38"
  },
  "language_info": {
   "codemirror_mode": {
    "name": "ipython",
    "version": 3
   },
   "file_extension": ".py",
   "mimetype": "text/x-python",
   "name": "python",
   "nbconvert_exporter": "python",
   "pygments_lexer": "ipython3",
   "version": "3.8.13"
  }
 },
 "nbformat": 4,
 "nbformat_minor": 4
}
