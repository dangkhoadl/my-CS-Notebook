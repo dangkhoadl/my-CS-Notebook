{
 "cells": [
  {
   "cell_type": "markdown",
   "metadata": {},
   "source": [
    "## [Search a 2D Matrix](https://leetcode.com/problems/search-a-2d-matrix/)\n",
    "\n",
    "- Write an efficient algorithm that searches for a value in an m x n matrix. This matrix has the following properties:\n",
    "    + Integers in each row are sorted from left to right.\n",
    "    + The first integer of each row is greater than the last integer of the previous row.\n",
    "    \n",
    "- **Example**\n",
    "\n",
    "```\n",
    "Input:\n",
    "matrix = [\n",
    "  [1,   3,  5,  7],\n",
    "  [10, 11, 16, 20],\n",
    "  [23, 30, 34, 50]\n",
    "]\n",
    "target = 3\n",
    "Output: true\n",
    "\n",
    "Input:\n",
    "matrix = [\n",
    "  [1,   3,  5,  7],\n",
    "  [10, 11, 16, 20],\n",
    "  [23, 30, 34, 50]\n",
    "]\n",
    "target = 13\n",
    "Output: false\n",
    "```\n",
    "\n",
    "#### Solution\n",
    "\n",
    "```C++\n",
    "class Solution {\n",
    "public:\n",
    "    int N, M;\n",
    "    vector<vector<int>> a;\n",
    "\n",
    "    bool binSearch(int x, int l, int r) {\n",
    "        if(l>r) return false;\n",
    "        int m = l+(r-l)/2;\n",
    "        int i = m/M;\n",
    "        int j = m%M;\n",
    "\n",
    "        if(a[i][j] == x) return true;\n",
    "        if(a[i][j] < x) return binSearch(x,m+1,r);\n",
    "        return binSearch(x,l,m-1);\n",
    "    }\n",
    "    bool searchMatrix(vector<vector<int>>& matrix, int target) {\n",
    "        a = matrix;\n",
    "        N = a.size();\n",
    "        if(N == 0) return false;\n",
    "        M = a[0].size();\n",
    "\n",
    "        return binSearch(target, 0, N*M-1);\n",
    "    }\n",
    "};\n",
    "```"
   ]
  }
 ],
 "metadata": {
  "kernelspec": {
   "display_name": "Python 3.7",
   "language": "python",
   "name": "py37"
  },
  "language_info": {
   "codemirror_mode": {
    "name": "ipython",
    "version": 3
   },
   "file_extension": ".py",
   "mimetype": "text/x-python",
   "name": "python",
   "nbconvert_exporter": "python",
   "pygments_lexer": "ipython3",
   "version": "3.7.9"
  }
 },
 "nbformat": 4,
 "nbformat_minor": 2
}
