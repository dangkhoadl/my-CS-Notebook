{
 "cells": [
  {
   "cell_type": "markdown",
   "metadata": {},
   "source": [
    "## [Search a 2D Matrix II](https://leetcode.com/problems/search-a-2d-matrix-ii/)\n",
    "\n",
    "- Write an efficient algorithm that searches for a value in an m x n matrix. This matrix has the following properties:\n",
    "    + Integers in each row are sorted in ascending from left to right.\n",
    "    + Integers in each column are sorted in ascending from top to bottom.\n",
    "- **Example**\n",
    "\n",
    "```\n",
    "[\n",
    "  [1,   4,  7, 11, 15],\n",
    "  [2,   5,  8, 12, 19],\n",
    "  [3,   6,  9, 16, 22],\n",
    "  [10, 13, 14, 17, 24],\n",
    "  [18, 21, 23, 26, 30]\n",
    "]\n",
    "\n",
    "Given target = 5, return true.\n",
    "Given target = 20, return false.\n",
    "```"
   ]
  },
  {
   "cell_type": "markdown",
   "metadata": {},
   "source": [
    "#### Divide and Conquer Solution \n",
    "\n",
    "| <img src=\"./img/3.jpg\" alt=\"drawing\" width=\"600\"/> \t| <img src=\"./img/4.jpg\" alt=\"drawing\" width=\"600\"/> \t|\n",
    "|---\t|-----\t|\n",
    "\n",
    "```C++\n",
    "class Solution {\n",
    "public:\n",
    "    int N, M;\n",
    "\n",
    "    bool search_rec(vector<vector<int>> &A, int x, int i_l, int j_l, int i_r, int j_r) {\n",
    "        if(i_l > i_r || j_l > j_r) return false;\n",
    "\n",
    "        int i_m = i_l + (i_r-i_l)/2;\n",
    "        int j_m = j_l + (j_r-j_l)/2;;\n",
    "\n",
    "        if(A[i_m][j_m] == x) return true;\n",
    "\n",
    "        // skip cell 1\n",
    "        if(A[i_m][j_m] < x) \n",
    "            return  search_rec(A, x, i_l, j_m+1, i_m, j_r) || \n",
    "                    search_rec(A, x, i_m+1, j_l, i_r, j_r);\n",
    "\n",
    "        // Skip cell 4\n",
    "        return  search_rec(A, x, i_l, j_l, i_m-1, j_r) || \n",
    "                search_rec(A, x, i_m, j_l, i_r, j_m-1); \n",
    "    }\n",
    "\n",
    "    bool searchMatrix(vector<vector<int>>& matrix, int target) {\n",
    "        N = matrix.size();\n",
    "        if(N == 0) return false;\n",
    "        M = matrix[0].size();\n",
    "\n",
    "        return search_rec(matrix, target, 0,0, N-1,M-1);\n",
    "    }\n",
    "};\n",
    "```"
   ]
  },
  {
   "cell_type": "markdown",
   "metadata": {},
   "source": [
    "#### Optimal Solution O(n+m)\n",
    "\n",
    "```C++\n",
    "class Solution {\n",
    "public:\n",
    "    int N, M;\n",
    "\n",
    "    bool search(vector<vector<int>> &A, int x, int i, int j) {\n",
    "        if(i<0 || j>=M) return false;\n",
    "        if(A[i][j] == x) return true;\n",
    "\n",
    "        if(x < A[i][j]) return search(A, x, i-1, j);\n",
    "        return search(A, x, i, j+1);\n",
    "    }\n",
    "\n",
    "    bool searchMatrix(vector<vector<int>>& matrix, int target) {\n",
    "        N = matrix.size();\n",
    "        if(N == 0) return false;\n",
    "        M = matrix[0].size();\n",
    "\n",
    "        return search(matrix, target, N-1, 0);\n",
    "    }\n",
    "};\n",
    "```"
   ]
  }
 ],
 "metadata": {
  "kernelspec": {
   "display_name": "Python 3.8",
   "language": "python",
   "name": "py38"
  },
  "language_info": {
   "codemirror_mode": {
    "name": "ipython",
    "version": 3
   },
   "file_extension": ".py",
   "mimetype": "text/x-python",
   "name": "python",
   "nbconvert_exporter": "python",
   "pygments_lexer": "ipython3",
   "version": "3.8.13"
  }
 },
 "nbformat": 4,
 "nbformat_minor": 2
}
