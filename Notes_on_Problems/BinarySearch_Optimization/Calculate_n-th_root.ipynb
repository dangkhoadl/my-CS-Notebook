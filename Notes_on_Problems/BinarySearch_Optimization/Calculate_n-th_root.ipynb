{
 "cells": [
  {
   "cell_type": "markdown",
   "metadata": {},
   "source": [
    "## Calculate n-th root\n",
    "- Implement an API to calculate the general n-th root root values (https://www.calculator.net/root-calculator.html)\n",
    "    + API: double root(double x, int n)\n",
    "    + Acceptable error: abs(err) < 0.001\n",
    "    + x > 0, n > 0\n",
    "- Example\n",
    "\n",
    "```\n",
    "    root(27,3) = 3\n",
    "    root(16,4) = 2\n",
    "    root(96.27,3) = 4.5831\n",
    "```\n",
    "#### Solution - O(log(n))\n",
    "- Guess and check\n",
    "    + Range of y: [0:0.0001:x]\n",
    "    + $\\sqrt[\\leftroot{-2}\\uproot{2}n]{x} = y$ <=> $x = y^n$\n",
    "    + Guess y and check if $|x - y^n| < 0.001$: return y\n",
    "        - if $y^n < x$: search on the right - increase y\n",
    "        - if $y^n > x$: search on the left - reduce y\n",
    "        \n",
    "```C++\n",
    "double root(double x, unsigned int n) {\n",
    "    double left = 0;\n",
    "    double right = x;\n",
    "\n",
    "    double y;\n",
    "    while(left <= right) {\n",
    "        y = left + (right-left)/2;\n",
    "        \n",
    "        // if |x - y^n| < 0.001: return y\n",
    "        if(fabs(pow(y,n) - x) < 0.001)\n",
    "            return y;\n",
    "        \n",
    "        // if y^n < x search on the right - increase y\n",
    "        if(pow(y,n) < x)\n",
    "            left = y + 0.0001;\n",
    "        \n",
    "        // if y^n > x search on the left - reduce y\n",
    "        else\n",
    "            right = y - 0.0001;\n",
    "    }\n",
    "    return left;\n",
    "}\n",
    "```"
   ]
  }
 ],
 "metadata": {
  "kernelspec": {
   "display_name": "Python 3.8",
   "language": "python",
   "name": "py38"
  },
  "language_info": {
   "codemirror_mode": {
    "name": "ipython",
    "version": 3
   },
   "file_extension": ".py",
   "mimetype": "text/x-python",
   "name": "python",
   "nbconvert_exporter": "python",
   "pygments_lexer": "ipython3",
   "version": "3.8.13"
  }
 },
 "nbformat": 4,
 "nbformat_minor": 4
}
