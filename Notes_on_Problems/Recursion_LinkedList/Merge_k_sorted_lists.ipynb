{
 "cells": [
  {
   "cell_type": "markdown",
   "metadata": {},
   "source": [
    "## [Merge k Sorted Lists](https://leetcode.com/problems/merge-k-sorted-lists/)\n",
    "\n",
    "- Example\n",
    "```\n",
    "Input:\n",
    "[\n",
    "    1->4->5,\n",
    "    1->3->4,\n",
    "    2->6\n",
    "]\n",
    "Output: 1->1->2->3->4->4->5->6\n",
    "```\n",
    "\n",
    "#### Solution\n",
    "- Divide and Conquer\n",
    "<img src=\"./img/1.jpg\" alt=\"drawing\" width=\"650\"/>\n",
    "\n",
    "#### Code\n",
    "```C++\n",
    "class Solution {\n",
    "private:\n",
    "    ListNode* merge(ListNode* &l1, ListNode* &l2) {\n",
    "        if(l1 == NULL) return l2;\n",
    "        if(l2 == NULL) return l1;\n",
    "\n",
    "        if(l1->val < l2->val) {\n",
    "            l1->next = merge(l1->next, l2);\n",
    "            return l1;\n",
    "        } else {\n",
    "            l2->next = merge(l1, l2->next);\n",
    "            return l2;\n",
    "        }\n",
    "    }\n",
    "    void mergeLists(vector<ListNode*>& lists, int N) {\n",
    "        if(N == 0) return;\n",
    "        for(int i=0; i<N/2+1; ++i) {\n",
    "            if(i == N-i) continue;\n",
    "            lists[i] = merge(lists[i], lists[N-i]);\n",
    "        }\n",
    "        mergeLists(lists, N/2);\n",
    "    }\n",
    "public:\n",
    "    ListNode* mergeKLists(vector<ListNode*>& lists) {\n",
    "        if(lists.size() == 0) return NULL;\n",
    "\n",
    "        mergeLists(lists, lists.size() -1);\n",
    "        return lists[0];\n",
    "    }\n",
    "};\n",
    "```"
   ]
  }
 ],
 "metadata": {
  "kernelspec": {
   "display_name": "Python 3.6",
   "language": "python",
   "name": "py36"
  },
  "language_info": {
   "codemirror_mode": {
    "name": "ipython",
    "version": 3
   },
   "file_extension": ".py",
   "mimetype": "text/x-python",
   "name": "python",
   "nbconvert_exporter": "python",
   "pygments_lexer": "ipython3",
   "version": "3.6.6"
  }
 },
 "nbformat": 4,
 "nbformat_minor": 2
}
