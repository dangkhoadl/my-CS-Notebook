{
 "cells": [
  {
   "cell_type": "markdown",
   "metadata": {},
   "source": [
    "## Linked list Node\n",
    "```C++\n",
    "struct  ListNode {\n",
    "    int val;\n",
    "    ListNode* next;\n",
    "    ListNode(int x) : val(x), next(NULL) {}\n",
    "};\n",
    "```"
   ]
  },
  {
   "cell_type": "markdown",
   "metadata": {},
   "source": [
    "## Basic API\n",
    "```C++\n",
    "ListNode* buildList(const vector<int>& vec) {\n",
    "    if(vec.size() == 0) return NULL;\n",
    "\n",
    "    ListNode *head = new ListNode(vec[0]);\n",
    "    ListNode *cur = head;\n",
    "\n",
    "    for(int i=1; i<vec.size(); ++i) {\n",
    "        cur->next = new ListNode(vec[i]);\n",
    "        cur = cur->next;\n",
    "    }\n",
    "\n",
    "    return head;\n",
    "}\n",
    "\n",
    "void printList(ListNode* head) {\n",
    "    while(head != NULL) {\n",
    "        cout << head->val << ' ';\n",
    "        head = head->next;\n",
    "    }\n",
    "    cout << endl;\n",
    "}\n",
    "```"
   ]
  },
  {
   "cell_type": "markdown",
   "metadata": {},
   "source": [
    "## Merge 2 sorted lists - Inplace\n",
    "```C++\n",
    "ListNode* merge(ListNode* &l1, ListNode* &l2) {\n",
    "    if(l1 == NULL) return l2;\n",
    "    if(l2 == NULL) return l1;\n",
    "\n",
    "    // Case: l1 < l2 - Add l1 \n",
    "    if(l1->val < l2->val) {\n",
    "        l1->next = merge(l1->next, l2);\n",
    "        return l1;\n",
    "\n",
    "    // Case: l2 <= l1 - Add l2 \n",
    "    } else {\n",
    "        l2->next = merge(l1, l2->next);\n",
    "        return l2;\n",
    "    }\n",
    "}\n",
    "```"
   ]
  }
 ],
 "metadata": {
  "kernelspec": {
   "display_name": "Python 3.7",
   "language": "python",
   "name": "py37"
  },
  "language_info": {
   "codemirror_mode": {
    "name": "ipython",
    "version": 3
   },
   "file_extension": ".py",
   "mimetype": "text/x-python",
   "name": "python",
   "nbconvert_exporter": "python",
   "pygments_lexer": "ipython3",
   "version": "3.7.9"
  }
 },
 "nbformat": 4,
 "nbformat_minor": 2
}
