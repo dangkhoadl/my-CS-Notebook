{
 "cells": [
  {
   "cell_type": "markdown",
   "metadata": {},
   "source": [
    "## [Add 2 numbers](https://leetcode.com/problems/add-two-numbers)\n",
    "- You are given two non-empty linked lists representing two non-negative integers. The digits are stored in reverse order and each of their nodes contain a single digit. Add the two numbers and return it as a linked list.\n",
    "- You may assume the two numbers do not contain any leading zero, except the number 0 itself.\n",
    "- Example\n",
    "```\n",
    "Input: (2 -> 4 -> 3) + (5 -> 6 -> 4)\n",
    "Output: 7 -> 0 -> 8\n",
    "Explanation: 342 + 465 = 807.\n",
    "```"
   ]
  },
  {
   "cell_type": "markdown",
   "metadata": {},
   "source": [
    "## O(n)\n",
    "```C++\n",
    "class Solution {\n",
    "public:\n",
    "    ListNode* addTwoNumbers(ListNode* &l1, ListNode* &l2) {\n",
    "        // Create return list\n",
    "        ListNode *result = new ListNode(0);\n",
    "\n",
    "        // Init local variables\n",
    "        int carry = 0;\n",
    "        ListNode *cur = result;\n",
    "\n",
    "        while(l1 != NULL || l2 != NULL) {\n",
    "            // Get values\n",
    "            int val1 = l1!=NULL ? l1->val : 0;\n",
    "            int val2 = l2!=NULL ? l2->val : 0;\n",
    "\n",
    "            // Create a new computed node\n",
    "            int sum = val1 + val2 + carry;\n",
    "            cur->next = new ListNode(sum % 10);\n",
    "            carry = sum / 10;\n",
    "\n",
    "            // Move next\n",
    "            if(l1 != NULL) l1 = l1->next;\n",
    "            if(l2 != NULL) l2 = l2->next;\n",
    "            cur = cur->next;\n",
    "        }\n",
    "\n",
    "        // Update last node if carry still exist\n",
    "        if (carry > 0)\n",
    "            cur->next = new ListNode(carry);\n",
    "\n",
    "        // Return head of result list\n",
    "        return result->next;\n",
    "    }\n",
    "};\n",
    "```"
   ]
  }
 ],
 "metadata": {
  "kernelspec": {
   "display_name": "Python 3.7",
   "language": "python",
   "name": "py37"
  },
  "language_info": {
   "codemirror_mode": {
    "name": "ipython",
    "version": 3
   },
   "file_extension": ".py",
   "mimetype": "text/x-python",
   "name": "python",
   "nbconvert_exporter": "python",
   "pygments_lexer": "ipython3",
   "version": "3.7.9"
  }
 },
 "nbformat": 4,
 "nbformat_minor": 2
}
