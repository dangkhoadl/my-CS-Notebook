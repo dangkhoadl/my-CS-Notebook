{
 "cells": [
  {
   "cell_type": "markdown",
   "metadata": {},
   "source": [
    "## Hare and tortoise\n",
    "#### Detect if there is a cycle\n",
    "```C++\n",
    "int tor = 0;\n",
    "int hare = 0;\n",
    "\n",
    "do {\n",
    "    tor = a[tor];\n",
    "    hare = a[a[hare]];\n",
    "} while(tor != hare);\n",
    "```\n",
    "\n",
    "\n",
    "#### Find the entrance\n",
    "\n",
    "<img src=\"./img/2.jpg\" alt=\"drawing\" width=\"600\"/>\n",
    "\n",
    "\n",
    "```C++\n",
    "int p1 = 0;\n",
    "int p2 = tor;\n",
    "while (p1 != p2) {\n",
    "    p1 = a[p1];\n",
    "    p2 = a[p2];\n",
    "}\n",
    "\n",
    "return p1;\n",
    "```"
   ]
  }
 ],
 "metadata": {
  "kernelspec": {
   "display_name": "Python 3.8",
   "language": "python",
   "name": "py38"
  },
  "language_info": {
   "codemirror_mode": {
    "name": "ipython",
    "version": 3
   },
   "file_extension": ".py",
   "mimetype": "text/x-python",
   "name": "python",
   "nbconvert_exporter": "python",
   "pygments_lexer": "ipython3",
   "version": "3.8.13"
  }
 },
 "nbformat": 4,
 "nbformat_minor": 2
}
