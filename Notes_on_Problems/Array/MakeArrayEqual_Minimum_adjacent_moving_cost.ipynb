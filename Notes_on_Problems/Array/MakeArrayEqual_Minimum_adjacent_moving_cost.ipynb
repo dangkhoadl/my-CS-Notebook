{
 "cells": [
  {
   "cell_type": "markdown",
   "metadata": {},
   "source": [
    "# Problem\n",
    "- Given\n",
    "    + An array `A[0,N-1]` represent `N` queues\n",
    "        + Queue `i` has `A[i]` people queuing\n",
    "    + Our task is to make all queues equal by moving people\n",
    "        + One time can only move 1 people\n",
    "        + people from queue `i` can only move to `i-1` or `i+1`\n",
    "        + Each move cost 1\n",
    "\n",
    "- Find the minimum cost to make all queue len equal. If impossible return -1\n",
    "\n",
    "# Examples\n",
    "\n",
    "#### Example 1\n",
    "\n",
    "```\n",
    "Input: A = [0,6,0]\n",
    "Output: 4\n",
    "Explanation:\n",
    "    [0,6,0] -> [1,5,0] -> [2,4,0] -> [2,3,1] -> [2,2,2]\n",
    "```\n",
    "\n",
    "#### Example 2\n",
    "\n",
    "```\n",
    "Input: A = [0,0,6]\n",
    "Output: 6\n",
    "Explanation:\n",
    "    [0,0,6] -> [0,1,6] -> [1,0,5] -> [1,1,4] -> [2,0,4] -> [2,1,3] -> [2,2,2]\n",
    "```\n",
    "\n",
    "#### Example 3\n",
    "\n",
    "```\n",
    "Input: A = [6,1,2]\n",
    "Output: 4\n",
    "Explanation:\n",
    "    [6,1,2] -> [5,2,2] -> [5,1,3] -> [4,2,3] -> [3,3,3]\n",
    "```"
   ]
  },
  {
   "cell_type": "markdown",
   "metadata": {},
   "source": [
    "# Solution\n",
    "- Propagate the value of `i` to `i+1`\n",
    "- Eg:\n",
    "\n",
    "```\n",
    "[0,0,7,5] -> [3,-3,7,5] -> [3,3,1,5] -> [3,3,3,3]\n",
    "```\n",
    "\n",
    "#### Code\n",
    "\n",
    "```C++\n",
    "class Solution {\n",
    "public:\n",
    "    int calc_minimum_moving_cost(vector<int> &A) {\n",
    "        int N = A.size();\n",
    "\n",
    "        int sum = 0;\n",
    "        for(int i=0; i<N; ++i) sum += A[i];\n",
    "\n",
    "        if(sum % N != 0) return -1;\n",
    "        int val = sum / N;\n",
    "\n",
    "        int cost = 0;\n",
    "        for(int i=0; i<N-1; ++i) {\n",
    "            cost += abs(A[i] - val);\n",
    "            A[i+1] += (A[i] - val);\n",
    "        }\n",
    "        return cost;\n",
    "    }\n",
    "};\n",
    "```"
   ]
  }
 ],
 "metadata": {
  "kernelspec": {
   "display_name": "Python 3.8",
   "language": "python",
   "name": "py38"
  },
  "language_info": {
   "codemirror_mode": {
    "name": "ipython",
    "version": 3
   },
   "file_extension": ".py",
   "mimetype": "text/x-python",
   "name": "python",
   "nbconvert_exporter": "python",
   "pygments_lexer": "ipython3",
   "version": "3.8.13"
  }
 },
 "nbformat": 4,
 "nbformat_minor": 4
}
