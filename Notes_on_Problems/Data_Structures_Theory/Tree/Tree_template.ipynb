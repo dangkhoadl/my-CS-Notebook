{
 "cells": [
  {
   "cell_type": "markdown",
   "metadata": {},
   "source": [
    "```C++\n",
    "struct Node {\n",
    "    int value;\n",
    "\n",
    "    vector<Node*> children;\n",
    "\n",
    "    Node(): children({}) {}\n",
    "    Node(int val): value(val), children({}) {}\n",
    "};\n",
    "\n",
    "void dfs(Node* cur) {\n",
    "    cout << cur->value << ' ';\n",
    "\n",
    "    for(Node* child: cur->children) {\n",
    "        dfs(child);\n",
    "    }\n",
    "}\n",
    "\n",
    "void delete_tree(Node* cur) {\n",
    "    for(Node* child: cur->children) {\n",
    "        delete_tree(child);\n",
    "    }\n",
    "    delete cur;\n",
    "}\n",
    "\n",
    "\n",
    "// Root\n",
    "Node* root = new Node(1);\n",
    "\n",
    "// Insert\n",
    "Node* node_11 = new Node(11);\n",
    "root->children.push_back(node_11);\n",
    "\n",
    "Node* node_12 = new Node(12);\n",
    "root->children.push_back(node_12);\n",
    "\n",
    "Node* node_111 = new Node(111);\n",
    "root->children[0]->children.push_back(node_111);\n",
    "\n",
    "// Traverse\n",
    "dfs(root);\n",
    "\n",
    "// Delete\n",
    "delete_tree(root);\n",
    "```"
   ]
  }
 ],
 "metadata": {
  "kernelspec": {
   "display_name": "Python 3.7",
   "language": "python",
   "name": "py37"
  },
  "language_info": {
   "codemirror_mode": {
    "name": "ipython",
    "version": 3
   },
   "file_extension": ".py",
   "mimetype": "text/x-python",
   "name": "python",
   "nbconvert_exporter": "python",
   "pygments_lexer": "ipython3",
   "version": "3.7.9"
  }
 },
 "nbformat": 4,
 "nbformat_minor": 4
}
