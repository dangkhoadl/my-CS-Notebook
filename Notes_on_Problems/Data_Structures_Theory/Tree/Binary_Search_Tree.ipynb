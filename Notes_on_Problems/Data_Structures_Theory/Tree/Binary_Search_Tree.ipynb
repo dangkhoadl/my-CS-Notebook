{
 "cells": [
  {
   "cell_type": "markdown",
   "metadata": {},
   "source": [
    "## Binary Search Tree Struct\n",
    "```C++\n",
    "struct TreeNode {\n",
    "    int val;\n",
    "    TreeNode* left;\n",
    "    TreeNode* right;\n",
    "\n",
    "    TreeNode(int x) : val(x), left(NULL), right(NULL) {}\n",
    "};\n",
    "```"
   ]
  },
  {
   "cell_type": "markdown",
   "metadata": {},
   "source": [
    "## Insert\n",
    "\n",
    "```C++\n",
    "void insert(TreeNode *&cur, int val) {\n",
    "    // Insert\n",
    "    if(cur == NULL) {\n",
    "        cur = new TreeNode(val);\n",
    "        return;\n",
    "    }\n",
    "\n",
    "    // Find the correct position\n",
    "    if(val <=  cur->val) insert(cur->left, val);\n",
    "    else insert(cur->right, val);\n",
    "}\n",
    "```"
   ]
  }
 ],
 "metadata": {
  "kernelspec": {
   "display_name": "Python 3.7",
   "language": "python",
   "name": "py37"
  },
  "language_info": {
   "codemirror_mode": {
    "name": "ipython",
    "version": 3
   },
   "file_extension": ".py",
   "mimetype": "text/x-python",
   "name": "python",
   "nbconvert_exporter": "python",
   "pygments_lexer": "ipython3",
   "version": "3.7.9"
  }
 },
 "nbformat": 4,
 "nbformat_minor": 2
}
