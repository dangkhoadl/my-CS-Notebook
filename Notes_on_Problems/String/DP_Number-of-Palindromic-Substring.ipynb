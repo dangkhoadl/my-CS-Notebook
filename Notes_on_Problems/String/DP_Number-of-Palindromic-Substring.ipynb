{
 "cells": [
  {
   "cell_type": "markdown",
   "id": "236eb7a3",
   "metadata": {},
   "source": [
    "# [Palindromic Substrings](https://leetcode.com/problems/palindromic-substrings/)\n",
    "- Given a string s, return the **the number of** palindromic substring in s.\n",
    "    + `palindrome` = a string reads the same backward as forward.\n",
    "    + `substring` = a contiguous sequence of characters within the string.\n",
    "\n",
    "#### Examples\n",
    "\n",
    "```\n",
    "Input: s = \"abc\"\n",
    "Output: 3\n",
    "Explanation: Three palindromic strings: \"a\", \"b\", \"c\".\n",
    "\n",
    "Input: s = \"aaa\"\n",
    "Output: 6\n",
    "Explanation: Six palindromic strings: \"a\", \"a\", \"a\", \"aa\", \"aa\", \"aaa\".\n",
    "```\n",
    "\n",
    "#### Constraints\n",
    "- 1 $\\leq$ s.length $\\leq$ 1000\n",
    "- s consist of only digits and English letters."
   ]
  },
  {
   "cell_type": "markdown",
   "id": "fd2ba92d",
   "metadata": {},
   "source": [
    "## Solution\n",
    "- DP topdown - $O(n^2)$\n",
    "\n",
    "```Cpp\n",
    "class Solution {\n",
    "public:\n",
    "    int countSubstrings(const string &S) {\n",
    "        int n = S.size();\n",
    "        if(n == 0) return 0;\n",
    "\n",
    "        // dp[i][j] = 1 if S[i:j] is a palindrome, 0 if not \n",
    "        vector<vector<int>> dp(n, vector<int>(n, 0));\n",
    "        for(int i=0; i<n; ++i) dp[i][i] = 1;\n",
    "            // Case: palindrome 'c'\n",
    "\n",
    "        int cnt = n;\n",
    "\n",
    "        // loop by length [2:n+1]\n",
    "        for(int len=2; len<=n; ++len) {\n",
    "            for(int i=0; i+len-1 < n; ++i) {\n",
    "                int j = i + len - 1;\n",
    "\n",
    "                // Case: palindrome 'cc'\n",
    "                if(len == 2 && S[i] == S[j]) {\n",
    "                    dp[i][j] = 1;\n",
    "                }                \n",
    "\n",
    "                // Case: 'c...c', ... is a sub palindrome\n",
    "                else if(S[i] == S[j] && dp[i+1][j-1] > 0) {\n",
    "                    dp[i][j] = 1;\n",
    "                }\n",
    "\n",
    "                // Relax\n",
    "                if(dp[i][j] == 1) cnt += 1;\n",
    "            }\n",
    "        }\n",
    "\n",
    "        return cnt;\n",
    "    }\n",
    "};\n",
    "```\n"
   ]
  }
 ],
 "metadata": {
  "kernelspec": {
   "display_name": "Python 3.8",
   "language": "python",
   "name": "py38"
  },
  "language_info": {
   "codemirror_mode": {
    "name": "ipython",
    "version": 3
   },
   "file_extension": ".py",
   "mimetype": "text/x-python",
   "name": "python",
   "nbconvert_exporter": "python",
   "pygments_lexer": "ipython3",
   "version": "3.8.13"
  }
 },
 "nbformat": 4,
 "nbformat_minor": 5
}
