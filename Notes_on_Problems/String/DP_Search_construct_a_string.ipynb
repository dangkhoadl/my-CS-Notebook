{
 "cells": [
  {
   "cell_type": "markdown",
   "id": "46bed7be",
   "metadata": {},
   "source": [
    "# Problem\n",
    "- Given\n",
    "    + Array `A`\n",
    "    + String `S`\n",
    "- Return `True` if We can construct `S` from `A[i]` (non-overlapped)\n",
    "\n",
    "#### Examples\n",
    "\n",
    "```\n",
    "Input:\n",
    "    S = \"the_brown_fox_is_cool\"\n",
    "    A = [\"brown_\", \"the_\", \"the_brown_\", \"fox_\", \"is_cool\"]\n",
    "Output: True\n",
    "Explanation:\n",
    "    the brown + fox + is cool\n",
    "    (Or) the + brown + fox + is cool\n",
    "\n",
    "\n",
    "Input:\n",
    "    S = \"the_brown_fox_is_cool\"\n",
    "    A = [\"brown_\", \"the_\", \"the_brown_\", \"is_cool\"]\n",
    "Output: False\n",
    "\n",
    "\n",
    "Input:\n",
    "    S = \"the_brown_fox_is_cool\"\n",
    "    A = [\"rown_f\", \"the_b\", \"ox_\", \"is_\", \"cool\"]\n",
    "Output: True\n",
    "```"
   ]
  },
  {
   "cell_type": "markdown",
   "id": "b39b9a6f",
   "metadata": {},
   "source": [
    "## Solution 1 - Bottom Up + Cached DFS"
   ]
  },
  {
   "cell_type": "code",
   "execution_count": 1,
   "id": "d3a77f87",
   "metadata": {},
   "outputs": [],
   "source": [
    "from functools import lru_cache \n",
    "\n",
    "\n",
    "class Solution(object):\n",
    "    def __init__(self): pass\n",
    "\n",
    "    @lru_cache(maxsize=100)\n",
    "    def __dfs(self, cur):\n",
    "        if cur == self._S: return True\n",
    "        if cur not in self._S_prefixes: return False\n",
    "            # not S.startswith(cur)\n",
    "\n",
    "        for a in self._A:\n",
    "            if a == '': continue\n",
    "            if self.__dfs(cur + a): return True \n",
    "\n",
    "        return False\n",
    "\n",
    "    def solve(self, S, A):\n",
    "        self._S = S\n",
    "        self._A = A\n",
    "        self._n = len(S)\n",
    "        \n",
    "        # Clear DP cache\n",
    "        self.__dfs.cache_clear()\n",
    "\n",
    "        # Cache the prefixes\n",
    "        self._S_prefixes = set([ S[:i] for i in range(self._n-1) ])\n",
    "\n",
    "        # Greedy: Sort A by longer length\n",
    "        self._A = sorted(self._A, key=lambda x: len(x), reverse=True)\n",
    "        \n",
    "        # Solve\n",
    "        return self.__dfs('')"
   ]
  },
  {
   "cell_type": "code",
   "execution_count": 2,
   "id": "8c8faea8",
   "metadata": {},
   "outputs": [
    {
     "name": "stdout",
     "output_type": "stream",
     "text": [
      "True\n",
      "False\n",
      "True\n"
     ]
    }
   ],
   "source": [
    "sol = Solution()\n",
    "\n",
    "S = \"the_brown_fox_is_cool\"\n",
    "A = [\"brown_\", \"the_\", \"the_brown_\", \"fox_\", \"is_cool\"]\n",
    "print(sol.solve(S, A))\n",
    "\n",
    "S = \"the_brown_fox_is_cool\"\n",
    "A = [\"brown_\", \"the_\", \"the_brown_\", \"is_cool\"]\n",
    "print(sol.solve(S, A))\n",
    "\n",
    "S = \"the_brown_fox_is_cool\"\n",
    "A = [\"rown_f\", \"the_b\", \"ox_\", \"is_\", \"cool\"]\n",
    "print(sol.solve(S, A))"
   ]
  },
  {
   "cell_type": "markdown",
   "id": "ea820fed",
   "metadata": {},
   "source": [
    "## Solution 2 - Bottom Up + BFS"
   ]
  },
  {
   "cell_type": "code",
   "execution_count": 3,
   "id": "f4c68358",
   "metadata": {},
   "outputs": [],
   "source": [
    "class Solution(object):\n",
    "    def __init__(self): pass\n",
    "\n",
    "    def solve(self, S, A):\n",
    "        # Cache the prefixes\n",
    "        S_prefixes = set([ S[:i] for i in range(len(S)-1) ])\n",
    "\n",
    "        # Greedy: Sort A by longer length\n",
    "        A = sorted(A, key=lambda a: len(a), reverse=True)\n",
    "        \n",
    "        # Vis = Avoid repeated string\n",
    "        vis = set()\n",
    "  \n",
    "        # BFS\n",
    "        Q = ['']\n",
    "        front = 0\n",
    "        while front < len(Q):\n",
    "            cur = Q[front]\n",
    "            front += 1\n",
    "\n",
    "            for a in A:\n",
    "                if a == '': continue\n",
    "                if cur + a == S: return True\n",
    "                if (cur + a in S_prefixes) and (cur + a not in vis):\n",
    "                    Q.append(cur + a)\n",
    "                    vis.add(cur + a)\n",
    "        return False"
   ]
  },
  {
   "cell_type": "code",
   "execution_count": 4,
   "id": "5f8eeb03",
   "metadata": {},
   "outputs": [
    {
     "name": "stdout",
     "output_type": "stream",
     "text": [
      "['the_brown_', 'is_cool', 'brown_', 'the_', 'fox_']\n",
      "True\n",
      "['the_brown_', 'is_cool', 'brown_', 'the_']\n",
      "False\n",
      "['rown_f', 'the_b', 'cool', 'ox_', 'is_']\n",
      "True\n"
     ]
    }
   ],
   "source": [
    "sol = Solution()\n",
    "\n",
    "S = \"the_brown_fox_is_cool\"\n",
    "A = [\"brown_\", \"the_\", \"the_brown_\", \"fox_\", \"is_cool\"]\n",
    "print(sol.solve(S, A))\n",
    "\n",
    "S = \"the_brown_fox_is_cool\"\n",
    "A = [\"brown_\", \"the_\", \"the_brown_\", \"is_cool\"]\n",
    "print(sol.solve(S, A))\n",
    "\n",
    "S = \"the_brown_fox_is_cool\"\n",
    "A = [\"rown_f\", \"the_b\", \"ox_\", \"is_\", \"cool\"]\n",
    "print(sol.solve(S, A))"
   ]
  }
 ],
 "metadata": {
  "kernelspec": {
   "display_name": "Python 3.8",
   "language": "python",
   "name": "py38"
  },
  "language_info": {
   "codemirror_mode": {
    "name": "ipython",
    "version": 3
   },
   "file_extension": ".py",
   "mimetype": "text/x-python",
   "name": "python",
   "nbconvert_exporter": "python",
   "pygments_lexer": "ipython3",
   "version": "3.8.13"
  }
 },
 "nbformat": 4,
 "nbformat_minor": 5
}
