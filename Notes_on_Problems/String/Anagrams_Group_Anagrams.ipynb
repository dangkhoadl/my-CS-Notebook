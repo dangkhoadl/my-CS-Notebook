{
 "cells": [
  {
   "cell_type": "markdown",
   "metadata": {},
   "source": [
    "## [Group Anagrams](https://leetcode.com/problems/group-anagrams/)\n",
    "- Given an array of strings, group anagrams together.\n",
    "- **Example**\n",
    "\n",
    "```\n",
    "Input: [\"eat\", \"tea\", \"tan\", \"ate\", \"nat\", \"bat\"],\n",
    "Output:\n",
    "[\n",
    "  [\"ate\",\"eat\",\"tea\"],\n",
    "  [\"nat\",\"tan\"],\n",
    "  [\"bat\"]\n",
    "]\n",
    "```\n",
    "\n",
    "#### Solution\n",
    "\n",
    "```C++\n",
    "class Solution {\n",
    "public:\n",
    "    string count_sort(const string &s) {\n",
    "        // count\n",
    "        vector<int> cnt(26, 0);\n",
    "        for(const char &c:s) cnt[c-'a'] += 1;\n",
    "\n",
    "        // Count Sort\n",
    "        string res = \"\";\n",
    "        for(int i=0; i<26; ++i) res += to_string('a'+ i) + to_string(cnt[i]);\n",
    "            // a3b2c1\n",
    "        return res;\n",
    "    }\n",
    "    vector<vector<string>> groupAnagrams(vector<string>& strs) {\n",
    "        // Group Anagrams\n",
    "        unordered_map<string, vector<string>> anagrams;\n",
    "        for(auto &s: strs) anagrams[count_sort(s)].push_back(s);\n",
    "        \n",
    "        vector<vector<string>> ans;\n",
    "        for(auto &it: anagrams) ans.push_back(it.second);\n",
    "        return ans;\n",
    "    }\n",
    "};\n",
    "```\n"
   ]
  }
 ],
 "metadata": {
  "kernelspec": {
   "display_name": "Python 3.8",
   "language": "python",
   "name": "py38"
  },
  "language_info": {
   "codemirror_mode": {
    "name": "ipython",
    "version": 3
   },
   "file_extension": ".py",
   "mimetype": "text/x-python",
   "name": "python",
   "nbconvert_exporter": "python",
   "pygments_lexer": "ipython3",
   "version": "3.8.13"
  }
 },
 "nbformat": 4,
 "nbformat_minor": 4
}
