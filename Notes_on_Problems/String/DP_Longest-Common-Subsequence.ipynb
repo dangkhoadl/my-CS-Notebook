{
 "cells": [
  {
   "cell_type": "markdown",
   "metadata": {},
   "source": [
    "# [Longest Common Subsequence](https://leetcode.com/problems/longest-common-subsequence/)\n",
    "- Given 2 strings s1 and s2, return the length of their longest common subsequence.\n",
    "- A subsequence of a string is a new string generated from the original string\n",
    "    + with some characters(can be none) deleted \n",
    "    + and without changing the relative order of the remaining characters\n",
    "- Eg: `ace` is a subsequence of `abcde` while `aec` is not\n",
    "\n",
    "#### Example\n",
    "\n",
    "```\n",
    "Input: s1 = \"abcde\", s2 = \"ace\" \n",
    "Output: 3  \n",
    "Explanation: The longest common subsequence is \"ace\" and its length is 3.\n",
    "\n",
    "Input: s1 = \"abc\", s2 = \"abc\"\n",
    "Output: 3\n",
    "Explanation: The longest common subsequence is \"abc\" and its length is 3.\n",
    "\n",
    "Input: s1 = \"abc\", s2 = \"def\"\n",
    "Output: 0\n",
    "Explanation: There is no such common subsequence, so the result is 0.\n",
    "```\n",
    "\n",
    "## Solution\n",
    "- Bottom Up DP\n",
    "\n",
    "```cpp\n",
    "class Solution {\n",
    "public:\n",
    "    int longestCommonSubsequence(string &A, string &B) {\n",
    "        int n = A.size();\n",
    "        int m = B.size();\n",
    "\n",
    "        // dp[i][j]: optimal solution at prefix A[:i], B[:j]\n",
    "        vector<vector<int>> dp(n+1, vector<int>(m+1, 0));\n",
    "\n",
    "        // Update from left to right\n",
    "        for(int i=0; i<n; ++i) for(int j=0; j<m; ++j) {\n",
    "            // Case: common character -> update subsequence length\n",
    "            if(A[i] == B[j]) {\n",
    "                dp[i+1][j+1] = dp[i][j] + 1; \n",
    "            }\n",
    "\n",
    "            // Case: If not a common character -> Propagate subsequence\n",
    "            else {\n",
    "                dp[i+1][j+1] = max(dp[i+1][j], dp[i][j+1]);\n",
    "            }\n",
    "        }\n",
    "        return dp[n][m];\n",
    "    }\n",
    "};\n",
    "```"
   ]
  }
 ],
 "metadata": {
  "kernelspec": {
   "display_name": "Python 3.8",
   "language": "python",
   "name": "py38"
  },
  "language_info": {
   "codemirror_mode": {
    "name": "ipython",
    "version": 3
   },
   "file_extension": ".py",
   "mimetype": "text/x-python",
   "name": "python",
   "nbconvert_exporter": "python",
   "pygments_lexer": "ipython3",
   "version": "3.8.13"
  }
 },
 "nbformat": 4,
 "nbformat_minor": 4
}
