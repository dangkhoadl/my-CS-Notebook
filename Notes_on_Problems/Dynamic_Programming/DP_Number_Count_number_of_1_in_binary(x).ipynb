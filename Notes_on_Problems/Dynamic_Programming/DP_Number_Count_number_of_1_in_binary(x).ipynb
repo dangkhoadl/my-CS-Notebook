{
 "cells": [
  {
   "cell_type": "markdown",
   "metadata": {},
   "source": [
    "## [Count the number of bit '1' in binary(x)](https://leetcode.com/problems/counting-bits/)\n",
    "- For every numbers i in the range [0,num] calculate the number of '1' in their binary representation\n",
    "- Examples\n",
    "\n",
    "```\n",
    "Input: 2\n",
    "Output: [0,1,1]\n",
    "Explanation:\n",
    "     0\n",
    "     1\n",
    "    10\n",
    "\n",
    "Input: 5\n",
    "Output: [0,1,1,2,1,2]\n",
    "Explanation:\n",
    "      0\n",
    "      1\n",
    "     10\n",
    "     11\n",
    "    100\n",
    "    101\n",
    "```\n",
    "\n",
    "#### Solution O(n)\n",
    "- f(x): number of bit 1 in binary representation of x\n",
    "$$f(x) = f(x//2) + x\\%2$$\n",
    "\n",
    "```C++\n",
    "class Solution {\n",
    "public:\n",
    "    vector<int> dp;\n",
    "    int get(int x) {\n",
    "        // Base cases\n",
    "        if(x==0) return 0;\n",
    "        if(dp[x] != 0) return dp[x];\n",
    "\n",
    "        // Search\n",
    "        get(x-1);\n",
    "\n",
    "        // DP relation\n",
    "        dp[x] = get(x/2) + (x%2);\n",
    "        return dp[x];\n",
    "    }\n",
    "    vector<int> countBits(int num) {\n",
    "        dp.assign(num+1, 0);\n",
    "        get(num);\n",
    "        return dp;\n",
    "    }\n",
    "};\n",
    "```"
   ]
  }
 ],
 "metadata": {
  "kernelspec": {
   "display_name": "Python 3.8",
   "language": "python",
   "name": "py38"
  },
  "language_info": {
   "codemirror_mode": {
    "name": "ipython",
    "version": 3
   },
   "file_extension": ".py",
   "mimetype": "text/x-python",
   "name": "python",
   "nbconvert_exporter": "python",
   "pygments_lexer": "ipython3",
   "version": "3.8.13"
  }
 },
 "nbformat": 4,
 "nbformat_minor": 2
}
