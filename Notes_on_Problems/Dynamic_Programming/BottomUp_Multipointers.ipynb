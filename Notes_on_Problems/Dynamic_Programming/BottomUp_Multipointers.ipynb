{
 "cells": [
  {
   "cell_type": "markdown",
   "metadata": {},
   "source": [
    "## [Ugly Number II](https://leetcode.com/problems/ugly-number-ii/)\n",
    "\n",
    "- Write a program to find the n-th ugly number.\n",
    "- Ugly numbers are positive numbers whose prime factors only include `{2, 3, 5}`\n",
    "- 1 is typically treated as the 1st ugly number\n",
    "\n",
    "```\n",
    "Input: n = 10\n",
    "Output: 12\n",
    "Explanation: 1, 2, 3, 4, 5, 6, 8, 9, 10, 12 is the sequence of the first 10 ugly numbers.\n",
    "```\n",
    "\n",
    "#### Solution O(n)\n",
    "\n",
    "<img src=\"./img/16.jpg\" alt=\"drawing\" width=\"650\"/>\n",
    "\n",
    "```C++\n",
    "class Solution {\n",
    "public:\n",
    "\n",
    "    int min3(int x1, int x2, int x3) {\n",
    "        return min(x1, min(x2, x3));\n",
    "    }\n",
    "    int nthUglyNumber(int n) {\n",
    "        // dp[i] = i-th ugly number\n",
    "        vector<int> dp(n+1, INT_MAX);\n",
    "        dp[1] = 1;\n",
    "        \n",
    "        // Init Pointers\n",
    "        int t2=1, t3=1, t5=1;\n",
    "\n",
    "        for(int i=2; i<=n; ++i) {\n",
    "            // Select the next candidate\n",
    "            dp[i] = min3(dp[t2]*2, dp[t3]*3, dp[t5]*5);\n",
    "\n",
    "            // Update pointers: track and avoid duplicate numbers\n",
    "            if(dp[i] == dp[t2]*2) t2 += 1;\n",
    "            if(dp[i] == dp[t3]*3) t3 += 1;\n",
    "            if(dp[i] == dp[t5]*5) t5 += 1;\n",
    "        }\n",
    "        return dp[n];\n",
    "    }\n",
    "};\n",
    "```"
   ]
  }
 ],
 "metadata": {
  "kernelspec": {
   "display_name": "Python 3.8",
   "language": "python",
   "name": "py38"
  },
  "language_info": {
   "codemirror_mode": {
    "name": "ipython",
    "version": 3
   },
   "file_extension": ".py",
   "mimetype": "text/x-python",
   "name": "python",
   "nbconvert_exporter": "python",
   "pygments_lexer": "ipython3",
   "version": "3.8.13"
  }
 },
 "nbformat": 4,
 "nbformat_minor": 2
}
