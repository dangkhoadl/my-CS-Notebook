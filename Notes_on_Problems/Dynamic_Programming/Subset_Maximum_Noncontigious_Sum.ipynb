{
 "cells": [
  {
   "cell_type": "markdown",
   "metadata": {},
   "source": [
    "## [Problem](https://www.hackerrank.com/challenges/max-array-sum/problem)\n",
    "- Given an array of integers, find the subset of non-adjacent elements with the maximum sum. Calculate the sum of that subset.\n",
    "```C++\n",
    "int N;\n",
    "vector<int> a;\n",
    "```\n",
    "\n",
    "- Example: a = [-2, 1, 3, -4, 5]\n",
    "\n",
    "```\n",
    "Non contiguous subset      Sum\n",
    "[-2, 3, 5]                  6\n",
    "[-2, 3]                     1\n",
    "[-2, -4]                   -6\n",
    "[-2, 5]                     3\n",
    "[1, -4]                    -3\n",
    "[1, 5]                      6\n",
    "[3, 5]                      8\n",
    "\n",
    "    => max non-contiguous subset sum = 8\n",
    "```\n"
   ]
  },
  {
   "cell_type": "markdown",
   "metadata": {},
   "source": [
    "## Solution\n",
    "- DP State(i, c)\n",
    "    + i = Optimal solution end at i\n",
    "    + sk\n",
    "        + 0: not skip a[i]\n",
    "        + 1: skip a[i]\n",
    "- Cases\n",
    "    + Case 1: a[i] is selected - must skip a[i+1]\n",
    "    + Case 2: a[i] is skipped - Select an optimal sol from a[i+1], skip or not not skip a[i+1]\n",
    "    \n",
    "```C++\n",
    "int dp[10003][2];\n",
    "    // dp[i][0]: not skip a[i] \n",
    "    // dp[i][1]: skip a[i]\n",
    "int get(int i, int sk) {\n",
    "    int &res = dp[i][sk];\n",
    "\n",
    "    if(i >= N) return 0;\n",
    "    if(res != ninf) return res;\n",
    "\n",
    "    // Not skip a[i] - must skip a[i+1]\n",
    "    if(sk == 0) \n",
    "        res = max(res, a[i] + get(i+1, 1));\n",
    "    \n",
    "    // Skip a[i] - Can skip a[i+1] or not skip\n",
    "    if(sk == 1)\n",
    "        res = max(get(i+1, 1), get(i+1, 0));\n",
    "\n",
    "    return res;\n",
    "}\n",
    "int solveDP() {\n",
    "    // Init\n",
    "    ms(dp, -0x7f);\n",
    "\n",
    "    // Solve DP\n",
    "    return max(get(0,0), get(0,1));\n",
    "}\n",
    "```"
   ]
  }
 ],
 "metadata": {
  "kernelspec": {
   "display_name": "Python 3.8",
   "language": "python",
   "name": "py38"
  },
  "language_info": {
   "codemirror_mode": {
    "name": "ipython",
    "version": 3
   },
   "file_extension": ".py",
   "mimetype": "text/x-python",
   "name": "python",
   "nbconvert_exporter": "python",
   "pygments_lexer": "ipython3",
   "version": "3.8.13"
  }
 },
 "nbformat": 4,
 "nbformat_minor": 4
}
