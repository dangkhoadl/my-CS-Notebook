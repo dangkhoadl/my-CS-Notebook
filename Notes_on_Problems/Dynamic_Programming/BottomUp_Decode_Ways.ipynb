{
 "cells": [
  {
   "cell_type": "markdown",
   "metadata": {},
   "source": [
    "# [Decode Ways](https://leetcode.com/problems/decode-ways/)\n",
    "- Given\n",
    "    + A vaid decoding list (1-26):\n",
    "        ```\n",
    "        1 -> 'A'\n",
    "        2 -> 'B'\n",
    "        ...\n",
    "        26 -> 'Z'\n",
    "        ```\n",
    "\n",
    "    + A string `s` containing only digits\n",
    "- Determine the total number of ways to decode `s`\n",
    "\n",
    "#### Examples\n",
    "\n",
    "```\n",
    "Input: s = \"12\"\n",
    "Output: 2\n",
    "Explanation: It could be decoded as \"AB\" (1 2) or \"L\" (12).\n",
    "\n",
    "Input: s = \"226\"\n",
    "Output: 3\n",
    "Explanation: It could be decoded as \"BZ\" (2 26), \"VF\" (22 6), or \"BBF\" (2 2 6).\n",
    "\n",
    "Input: s = \"0\"\n",
    "Output: 0\n",
    "\n",
    "Input: s = \"1\"\n",
    "Output: 1\n",
    "```"
   ]
  },
  {
   "cell_type": "markdown",
   "metadata": {},
   "source": [
    "# Solution\n",
    "- Consider 2 cases\n",
    "    + 1 digit: built from `dp[i-1]`\n",
    "    + 2 digits: built from `dp[i-2]`\n",
    "\n",
    "\n",
    "```C++\n",
    "class Solution {\n",
    "public:\n",
    "    int numDecodings(string &S) {\n",
    "        int n = S.size();\n",
    "\n",
    "        // dp[i] optimal solution at S[i]\n",
    "        vector<int> dp(n, 0);\n",
    "\n",
    "        for(int i=0; i<n; ++i) {\n",
    "            // Case: 1 digit (1-9)\n",
    "            if(S[i] != '0') {\n",
    "                dp[i] += (i-1>=0) ? dp[i-1] : 1;\n",
    "            }\n",
    "\n",
    "            // Case: 2 digits (10-26)\n",
    "            if(i-1>=0 && 10 <= stoi(S.substr(i-1, 2)) && stoi(S.substr(i-1, 2)) <= 26) {\n",
    "                dp[i] += (i-2 >= 0) ? dp[i-2] : 1;\n",
    "            }\n",
    "        }\n",
    "        return dp[n-1];\n",
    "    }\n",
    "};\n",
    "```"
   ]
  }
 ],
 "metadata": {
  "kernelspec": {
   "display_name": "Python 3.8",
   "language": "python",
   "name": "py38"
  },
  "language_info": {
   "codemirror_mode": {
    "name": "ipython",
    "version": 3
   },
   "file_extension": ".py",
   "mimetype": "text/x-python",
   "name": "python",
   "nbconvert_exporter": "python",
   "pygments_lexer": "ipython3",
   "version": "3.8.13"
  }
 },
 "nbformat": 4,
 "nbformat_minor": 4
}
