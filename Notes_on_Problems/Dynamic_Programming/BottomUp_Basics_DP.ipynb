{
 "cells": [
  {
   "cell_type": "markdown",
   "metadata": {},
   "source": [
    "# [Minimum Cost For Tickets](https://leetcode.com/problems/minimum-cost-for-tickets/)\n",
    "\n",
    "- Given\n",
    "    + Array `days` size `N`. Which\n",
    "        + `days[i]`: A day of the year that you have to travel on that day\n",
    "        + $1 \\leq \\text{days[i]} \\leq 365$\n",
    "    + Array `costs` size `3`. Which\n",
    "        + A 1-day travel pass cost `costs[0]` dollars\n",
    "        + A 7-day travel pass cost `costs[1]` dollars\n",
    "        + A 30-day travel pass cost `costs[2]` dollars\n",
    " \n",
    "- Find the minimum cost that you need to travel every day in the given list of `days`\n",
    "\n",
    "# Examples\n",
    "\n",
    "#### Example 1\n",
    "\n",
    "```\n",
    "// Input\n",
    "days = [1,4,6,7,8,20], costs = [2,7,15]\n",
    "\n",
    "// Output\n",
    "11\n",
    "\n",
    "// Explanation \n",
    "On day 1, you bought a 1-day pass for costs[0] = 2, which covered day 1.\n",
    "On day 3, you bought a 7-day pass for costs[1] = 7, which covered days 3, 4, ..., 9.\n",
    "On day 20, you bought a 1-day pass for costs[0] = 2, which covered day 20.\n",
    "In total you spent 11 and covered all the days of your travel.\n",
    "```\n",
    "\n",
    "#### Example 2\n",
    "\n",
    "```\n",
    "// Input\n",
    "days = [1,2,3,4,5,6,7,8,9,10,30,31], costs = [2,7,15]\n",
    "\n",
    "// Output\n",
    "17\n",
    "\n",
    "// Explanation \n",
    "On day 1, you bought a 30-day pass for costs[2] = 15 which covered days 1, 2, ..., 30.\n",
    "On day 31, you bought a 1-day pass for costs[0] = 2 which covered day 31.\n",
    "In total you spent 17 and covered all the days of your travel.\n",
    "```"
   ]
  },
  {
   "cell_type": "markdown",
   "metadata": {},
   "source": [
    "# Solution\n",
    "\n",
    "```C++\n",
    "class Solution {\n",
    "public:\n",
    "    int mincostTickets(vector<int>&days, vector<int>& costs) {\n",
    "        int N = days.size();\n",
    "        vector<int> dp(400, INT_MAX-45);\n",
    "\n",
    "        unordered_set<int> exist(days.begin(), days.end());\n",
    "\n",
    "        dp[0] = 0;\n",
    "        for(int d=0; d<366; ++d) {\n",
    "            if(exist.count(d)) {\n",
    "                dp[d+1] = min(dp[d+1], dp[d] + costs[0]);\n",
    "                dp[d+7] = min(dp[d+7], dp[d] + costs[1]);\n",
    "                dp[d+30] = min(dp[d+30], dp[d] + costs[2]);\n",
    "            } else {\n",
    "                dp[d+1] = min(dp[d+1], dp[d]);\n",
    "            }\n",
    "        }\n",
    "        return dp[366];\n",
    "    }\n",
    "};\n",
    "```"
   ]
  }
 ],
 "metadata": {
  "kernelspec": {
   "display_name": "Python 3.8",
   "language": "python",
   "name": "py38"
  },
  "language_info": {
   "codemirror_mode": {
    "name": "ipython",
    "version": 3
   },
   "file_extension": ".py",
   "mimetype": "text/x-python",
   "name": "python",
   "nbconvert_exporter": "python",
   "pygments_lexer": "ipython3",
   "version": "3.8.13"
  }
 },
 "nbformat": 4,
 "nbformat_minor": 4
}
