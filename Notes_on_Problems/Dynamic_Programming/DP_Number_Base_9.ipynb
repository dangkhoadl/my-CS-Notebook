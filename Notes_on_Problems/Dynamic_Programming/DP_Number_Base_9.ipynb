{
 "cells": [
  {
   "cell_type": "markdown",
   "metadata": {},
   "source": [
    "## [Remove 9](https://leetcode.com/problems/remove-9/)\n",
    "- Start from integer 1, remove any integer that contains 9 such as 9, 19, 29...\n",
    "- So now, you will have a new integer sequence: 1, 2, 3, 4, 5, 6, 7, 8, 10, 11, ...\n",
    "- Given a positive integer n, you need to return the n-th integer after removing. Note that 1 will be the first integer.\n",
    "- Example\n",
    "\n",
    "```\n",
    "Input: 9\n",
    "Output: 10\n",
    "```\n",
    "\n",
    "\n",
    "#### Solution\n",
    "- Do some experiments\n",
    "\n",
    "```\n",
    "1, 2, 3, 4, 5, 6, 7, 8,\n",
    "10, 11, 12, 13, 14, 15, 16, 17, 18,\n",
    "20, 21, 22, 23, 24, 25, 26, 27, 28,\n",
    "...\n",
    "80, 81, 82, 83, 84, 85, 86, 87, 88,\n",
    "100, 101, 102, ...\n",
    "```\n",
    "\n",
    "- Those numbers are all base-9\n",
    "\n",
    "\n",
    "```C++\n",
    "class Solution {\n",
    "public:\n",
    "    string dec_to_base9(int n) {\n",
    "        string chars = \"012345678\";\n",
    "        string result = \"\";\n",
    "\n",
    "        while(n > 0) {\n",
    "            result = chars[n%9] + result;\n",
    "            n /= 9;\n",
    "        }\n",
    "\n",
    "        return result;\n",
    "    }\n",
    "    int newInteger(int n) {\n",
    "        return stoi(dec_to_base9(n));\n",
    "    }\n",
    "};\n",
    "```"
   ]
  }
 ],
 "metadata": {
  "kernelspec": {
   "display_name": "Python 3.8",
   "language": "python",
   "name": "py38"
  },
  "language_info": {
   "codemirror_mode": {
    "name": "ipython",
    "version": 3
   },
   "file_extension": ".py",
   "mimetype": "text/x-python",
   "name": "python",
   "nbconvert_exporter": "python",
   "pygments_lexer": "ipython3",
   "version": "3.8.13"
  }
 },
 "nbformat": 4,
 "nbformat_minor": 2
}
