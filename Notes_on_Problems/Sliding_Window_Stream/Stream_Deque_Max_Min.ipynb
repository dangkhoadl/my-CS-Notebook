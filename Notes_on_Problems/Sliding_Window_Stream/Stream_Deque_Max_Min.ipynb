{
 "cells": [
  {
   "cell_type": "markdown",
   "metadata": {},
   "source": [
    "# [Sliding Window size K Maximum](https://leetcode.com/problems/sliding-window-maximum/)\n",
    "- Given an array A\n",
    "- There is a sliding window of size K moving from the very left of the array to the very right\n",
    "- Each time the sliding window moves right by one position. Return the max sliding window.\n",
    "\n",
    "#### Example\n",
    "\n",
    "```\n",
    "Input: nums = [1,3,-1,-3,5,3,6,7], and k = 3\n",
    "Output: [3,3,5,5,6,7] \n",
    "Explanation: \n",
    "\n",
    "Window position                Max\n",
    "---------------               -----\n",
    "[1  3  -1] -3  5  3  6  7       3\n",
    " 1 [3  -1  -3] 5  3  6  7       3\n",
    " 1  3 [-1  -3  5] 3  6  7       5\n",
    " 1  3  -1 [-3  5  3] 6  7       5\n",
    " 1  3  -1  -3 [5  3  6] 7       6\n",
    " 1  3  -1  -3  5 [3  6  7]      7\n",
    "```\n",
    "\n",
    "#### Solution: Monotonic Queue\n",
    "- Maintain a deque D that\n",
    "    + maintain the info (i, a[i]) -> can simplify by maintain only (i)\n",
    "    + Maintain a deque\n",
    "        + In decreasing order `[front] Max > > > a[r] [back]`\n",
    "        + All element must be in the window size K\n",
    "\n",
    "\n",
    "```C++\n",
    "class Solution {\n",
    "public:\n",
    "    vector<int> maxSlidingWindow(vector<int> &a, int K) {\n",
    "        deque<int> D;\n",
    "\n",
    "        vector<int> ans;\n",
    "        for(int r=0; r<a.size(); ++r) {\n",
    "            int l = r - K;\n",
    "\n",
    "            // Update front: shrink left pointer - Remove all element that out of window\n",
    "            while(!D.empty() && D.front() <= l) D.pop_front();\n",
    "\n",
    "            // Update back: Remove all candidates < a[r] at back and add a[r] to back\n",
    "            while(!D.empty() && a[D.back()] < a[r]) D.pop_back();\n",
    "            D.push_back(r);\n",
    "\n",
    "            // get ans\n",
    "            if(r >= K-1) ans.push_back(a[D.front()]);\n",
    "        }\n",
    "\n",
    "        return ans;\n",
    "    }\n",
    "};\n",
    "```"
   ]
  }
 ],
 "metadata": {
  "kernelspec": {
   "display_name": "Python 3.7",
   "language": "python",
   "name": "py37"
  },
  "language_info": {
   "codemirror_mode": {
    "name": "ipython",
    "version": 3
   },
   "file_extension": ".py",
   "mimetype": "text/x-python",
   "name": "python",
   "nbconvert_exporter": "python",
   "pygments_lexer": "ipython3",
   "version": "3.7.9"
  }
 },
 "nbformat": 4,
 "nbformat_minor": 2
}
