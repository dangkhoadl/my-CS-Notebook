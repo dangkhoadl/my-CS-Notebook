{
 "cells": [
  {
   "cell_type": "markdown",
   "metadata": {},
   "source": [
    "## Proving Correctness\n",
    "- At each step, the greedy algorithm restricts the search space (Select the maximum remaining element instead of all remaining elements)\n",
    "    \n",
    "#### Deny Correctness\n",
    "- Prove that there is **at least one** optimum solution outside of the restricted search space\n",
    "- Eg: \n",
    "    - Find the largest number construct by concatenating a list of numbers\n",
    "    - Greedy strats: largest num -> smallest num\n",
    "        + Deny Correctness. Take [21, 2]\n",
    "        + optimum = 221 instead of 212 by Greedy strats\n",
    "\n",
    "#### Proving Correctness template\n",
    "- Take some optimum solution\n",
    "- If it belongs to the restricted seach space\n",
    "    + WE DONE\n",
    "- If it doesnt\n",
    "    + Tweak it until optimum"
   ]
  },
  {
   "cell_type": "markdown",
   "metadata": {},
   "source": [
    "## Money Change\n",
    "#### Problem\n",
    "- Give \n",
    "    + An amount of money M. \n",
    "    + A list of coin denominations.\n",
    "- Find the Min number of coins that changes M\n",
    "\n",
    "#### Assumption\n",
    "- Greedy: largest denomination -> smallest denomination\n",
    "\n",
    "#### Proof: coins = [1,5,10]\n",
    "- Lemma\n",
    "    - For any integer M\n",
    "    - Always exist an optimal way changing M \n",
    "    - With largest denomination D in [10,5,1]\n",
    "        + If $M<5$ => Always choose D = 1\n",
    "        + If $5 \\leq M < 10$ => Always choose D = 5\n",
    "        + If $10 \\leq M$ => Always choose D = 10\n",
    "- Proof\n",
    "    - $M<5, D=1$ : Using only [1] => Correct\n",
    "    - $5 \\leq M < 10, D=5$\n",
    "        + Suppose use [1] instead of [5]\n",
    "        + To change 5 -> use five [1] instead of one [5] => Not optimum\n",
    "    - $10 \\leq M, D=10$\n",
    "        + If we have two [5] => Replace by [10]\n",
    "        + If we have one [5] => There must be atleast five [1] to change M => Replace one [5] and five [1] by [10]\n",
    "        + If we have zero [5] => There must be at least ten [1] => Replace ten [1] by one [10]\n",
    "    - The lemma has been proved\n",
    "    \n",
    "#### Proof: coins = [1,4,6]\n",
    "- Lemma\n",
    "    - For any integer M\n",
    "    - Always exist an optimal way changing M \n",
    "    - With largest denomination D in [6,4,1]\n",
    "        + If $M<4$ => Always choose D = 1\n",
    "        + If $4 \\leq M < 6$ => Always choose D = 4\n",
    "        + If $6 \\leq M$ => Always choose D = 6\n",
    "- Proof by contradiction\n",
    "    + If M = 8, M=4+4 optimal than M=6+1+1\n",
    "    + The lemma is incorrect\n",
    "    \n",
    "#### => The Greedy approach only works for some specific denominations like [1,5,10]"
   ]
  }
 ],
 "metadata": {
  "kernelspec": {
   "display_name": "Python 3.7",
   "language": "python",
   "name": "py37"
  },
  "language_info": {
   "codemirror_mode": {
    "name": "ipython",
    "version": 3
   },
   "file_extension": ".py",
   "mimetype": "text/x-python",
   "name": "python",
   "nbconvert_exporter": "python",
   "pygments_lexer": "ipython3",
   "version": "3.7.9"
  }
 },
 "nbformat": 4,
 "nbformat_minor": 2
}
