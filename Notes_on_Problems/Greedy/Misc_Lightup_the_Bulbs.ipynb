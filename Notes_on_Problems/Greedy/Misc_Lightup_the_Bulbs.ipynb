{
 "cells": [
  {
   "cell_type": "markdown",
   "metadata": {},
   "source": [
    "# Problem\n",
    "- Given N bulbs. Each bulb have 2 states\n",
    "    + 0: Off\n",
    "    + 1: On\n",
    "- There is 2 operation\n",
    "    + reverse(start, end): 001 -> 100\n",
    "        + Each operation cost X\n",
    "    + toggle(start, end): 001 -> 110\n",
    "        + Each operation cost Y\n",
    "- Calculate the minum cost to turn on all light bulbs\n",
    "\n",
    "#### Example\n",
    "- Input\n",
    "    + N, X, Y\n",
    "    + Init state\n",
    "\n",
    "```\n",
    "5 1 10\n",
    "01000\n",
    "```\n",
    "\n",
    "- Output: 11\n",
    "- Explanation\n",
    "\n",
    "```\n",
    "First, Reverse substring (0, 1): “01000” -> “10000”, COST = 1\n",
    "Second, Invert substring (1, 4): “10000” -> “11111”, COST = 10\n",
    "Total cost = 1+10 => 11\n",
    "```\n",
    "\n",
    "## Solution\n",
    "\n",
    "```cpp\n",
    "int N;\n",
    "long X, Y;\n",
    "string S;\n",
    "\n",
    "long sol() {\n",
    "    int breaks = 0;\n",
    "\n",
    "    // Count break\n",
    "    breaks = (S[0] == '0') ? 1 : 0;\n",
    "    for(int i=0; i<N-1; ++i) {\n",
    "        if(S[i] == '1' && S[i+1] == '0') breaks += 1;\n",
    "    }\n",
    "\n",
    "    if(breaks == 0) return 0;\n",
    "    int ops = breaks - 1;\n",
    "    return ops*min(X,Y) + Y;\n",
    "}\n",
    "```"
   ]
  }
 ],
 "metadata": {
  "kernelspec": {
   "display_name": "Python 3.7",
   "language": "python",
   "name": "py37"
  },
  "language_info": {
   "codemirror_mode": {
    "name": "ipython",
    "version": 3
   },
   "file_extension": ".py",
   "mimetype": "text/x-python",
   "name": "python",
   "nbconvert_exporter": "python",
   "pygments_lexer": "ipython3",
   "version": "3.7.9"
  }
 },
 "nbformat": 4,
 "nbformat_minor": 4
}
