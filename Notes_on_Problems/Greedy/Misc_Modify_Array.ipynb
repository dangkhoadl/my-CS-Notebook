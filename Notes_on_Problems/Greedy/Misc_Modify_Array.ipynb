{
 "cells": [
  {
   "cell_type": "markdown",
   "metadata": {},
   "source": [
    "# Problem\n",
    "- Given:\n",
    "    + Array `A[i]`, size = `N`\n",
    "    + A number `K`\n",
    "- Find\n",
    "    + The minimum the difference between the maximum value and minimum value of the array\n",
    "    + Allow Modyfication: Each array element can either increase or decrease by K (only once), or keep the original value\n",
    "\n",
    "#### Examples\n",
    "```\n",
    "N K\n",
    "A0 A1 A2 ...\n",
    "```\n",
    "- Example 1\n",
    "\n",
    "```\n",
    "Input:\n",
    "3 6\n",
    "1 15 10\n",
    "\n",
    "Output:\n",
    "5\n",
    "```\n",
    "\n",
    "- Example 2\n",
    "\n",
    "```\n",
    "Input:\n",
    "6 3\n",
    "1 5 6 3 7 9\n",
    "\n",
    "Output:\n",
    "4\n",
    "\n",
    "```"
   ]
  },
  {
   "cell_type": "markdown",
   "metadata": {},
   "source": [
    "# Analysis\n",
    "- Only the max and min elements can keep the original value\n",
    "- Other must add or sub K to has the impact"
   ]
  },
  {
   "cell_type": "markdown",
   "metadata": {},
   "source": [
    "# Solution\n",
    "```Cpp\n",
    "int solve(vector<int> &A, int N, int K) {\n",
    "    if(N == 1) return 0;\n",
    "    \n",
    "    // Sort\n",
    "    sort(A.begin(), A.end());\n",
    "\n",
    "    // Init value\n",
    "    int ans = A[N-1] - A[0];\n",
    "    int min_val = A[0] + K;\n",
    "    int max_val = A[N-1] - K;\n",
    "    if (min_val > max_val) swap(min_val, max_val);\n",
    "\n",
    "    for(int i=1; i<N-1; ++i) {\n",
    "        int sub = A[i] - K;\n",
    "        int add = A[i] + K;\n",
    "\n",
    "        // If both subtraction and addition\n",
    "        // do not change diff\n",
    "        if (sub >= min_val || add <= max_val) continue;\n",
    "\n",
    "        // Update min_val, max_val\n",
    "        if (max_val - sub <= add - min_val)\n",
    "            min_val = sub;\n",
    "        else\n",
    "            max_val = add;\n",
    "    }\n",
    "\n",
    "    return min(ans, max_val - min_val);\n",
    "}\n",
    "```"
   ]
  }
 ],
 "metadata": {
  "kernelspec": {
   "display_name": "Python 3.8",
   "language": "python",
   "name": "py38"
  },
  "language_info": {
   "codemirror_mode": {
    "name": "ipython",
    "version": 3
   },
   "file_extension": ".py",
   "mimetype": "text/x-python",
   "name": "python",
   "nbconvert_exporter": "python",
   "pygments_lexer": "ipython3",
   "version": "3.8.13"
  }
 },
 "nbformat": 4,
 "nbformat_minor": 4
}
