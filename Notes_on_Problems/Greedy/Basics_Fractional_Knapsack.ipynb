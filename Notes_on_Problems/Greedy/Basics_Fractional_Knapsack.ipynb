{
 "cells": [
  {
   "cell_type": "markdown",
   "metadata": {},
   "source": [
    "# Problem\n",
    "- Have a list of items, value - weights\n",
    "- Maximum weight can carry is: max_weight\n",
    "- Determine the maximum value can take from items\n",
    "    + Each item can only take 1\n",
    "    + Can take a fractions of an item\n",
    "\n",
    "#### Analysis\n",
    "- Sort the items as value/weight increasing\n",
    "- Take the whole item as possible\n",
    "- If the last item does not fit the knapsack, take a fractions of it\n",
    "\n",
    "#### Solution\n",
    "```C++\n",
    "struct Item {\n",
    "    int value;\n",
    "    int weight;\n",
    "};\n",
    "int N, max_weight;\n",
    "vector<Item> items;\n",
    "\n",
    "\n",
    "int sol() {\n",
    "    // sort value/weight increasing\n",
    "    sort(items.begin(), items.end(),\n",
    "        [](const Item &a, const Item &b) {\n",
    "            return a.value*b.weight > b.value*a.weight;\n",
    "        });\n",
    "\n",
    "    // Select optimal items\n",
    "    int cur_weight = 0;\n",
    "    double cur_value = 0.0;\n",
    "    for(auto &item: items) {\n",
    "        // Select the whole item\n",
    "        if(cur_weight + item.weight <= max_weight) {\n",
    "            cur_weight += item.weight;\n",
    "            cur_value += item.value;\n",
    "        }\n",
    "        // Here come the last item we can take\n",
    "        // Select a fractions and stop\n",
    "        else {\n",
    "            cur_value += item.value * (double)(max_weight - cur_weight)/item.weight;\n",
    "            break;\n",
    "        }\n",
    "    }\n",
    "\n",
    "    return cur_value;\n",
    "}\n",
    "```\n",
    "\n"
   ]
  }
 ],
 "metadata": {
  "kernelspec": {
   "display_name": "Python 3.7",
   "language": "python",
   "name": "py37"
  },
  "language_info": {
   "codemirror_mode": {
    "name": "ipython",
    "version": 3
   },
   "file_extension": ".py",
   "mimetype": "text/x-python",
   "name": "python",
   "nbconvert_exporter": "python",
   "pygments_lexer": "ipython3",
   "version": "3.7.9"
  }
 },
 "nbformat": 4,
 "nbformat_minor": 4
}
