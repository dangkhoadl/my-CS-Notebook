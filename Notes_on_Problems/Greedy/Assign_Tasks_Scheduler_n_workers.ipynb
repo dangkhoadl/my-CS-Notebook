{
 "cells": [
  {
   "cell_type": "markdown",
   "metadata": {},
   "source": [
    "## [Task Scheduler](https://leetcode.com/problems/task-scheduler/)\n",
    "\n",
    "```C++\n",
    "class Solution {\n",
    "public:\n",
    "    int leastInterval(vector<char>& tasks, int n) {\n",
    "        unordered_map<char, int> cnt;\n",
    "\n",
    "        int rows = 0;\n",
    "        for(auto &task:tasks) {\n",
    "            cnt[task] += 1;\n",
    "            rows = max(rows, cnt[task]);\n",
    "        }\n",
    "\n",
    "        int ans = (rows-1)*(n+1);\n",
    "        for(auto &e:cnt) if(e.second == rows) ans += 1;\n",
    "        return max(ans, tasks.size());\n",
    "    }\n",
    "};\n",
    "```"
   ]
  }
 ],
 "metadata": {
  "kernelspec": {
   "display_name": "Python 3.7",
   "language": "python",
   "name": "py37"
  },
  "language_info": {
   "codemirror_mode": {
    "name": "ipython",
    "version": 3
   },
   "file_extension": ".py",
   "mimetype": "text/x-python",
   "name": "python",
   "nbconvert_exporter": "python",
   "pygments_lexer": "ipython3",
   "version": "3.7.9"
  }
 },
 "nbformat": 4,
 "nbformat_minor": 2
}
