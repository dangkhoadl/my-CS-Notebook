{
 "cells": [
  {
   "cell_type": "markdown",
   "metadata": {},
   "source": [
    "## [Queue Reconstruction by Height](https://leetcode.com/problems/queue-reconstruction-by-height/)\n",
    "- Suppose you have a random list of people standing in a queue. Each person is described by a pair of integers (h, k)\n",
    "    + h: the height of the person\n",
    "    + k: the number of people in front of this person who must have height $\\geq h$\n",
    "-  Write an algorithm to reconstruct the queue\n",
    "- **Example**\n",
    "\n",
    "```\n",
    "Input:\n",
    "[[7,0], [4,4], [7,1], [5,0], [6,1], [5,2]]\n",
    "\n",
    "Output:\n",
    "[[5,0], [7,0], [5,2], [6,1], [4,4], [7,1]]\n",
    "```"
   ]
  },
  {
   "cell_type": "markdown",
   "metadata": {},
   "source": [
    "#### Solution\n",
    "- Sort people in priorities\n",
    "    1. Height decreasing \n",
    "    2. Number of infront (>= height) people increasing\n",
    "- Put the people into queue as their prefered position\n",
    "    + It's alway guaranteed that their preferences is preserved strictly\n",
    "\n",
    "```\n",
    "people = (7,0) (4,4) (7,1) (5,0) (6,1) (5,2) \n",
    "sorted people = (7,0) (7,1) (6,1) (5,0) (5,2) (4,4) \n",
    "\n",
    "Put sorted people into queue\n",
    "    (7,0) \n",
    "    (7,0) (7,1) \n",
    "    (7,0) (6,1) (7,1) \n",
    "    (5,0) (7,0) (6,1) (7,1) \n",
    "    (5,0) (7,0) (5,2) (6,1) (7,1) \n",
    "    (5,0) (7,0) (5,2) (6,1) (4,4) (7,1) \n",
    "\n",
    "```\n",
    "\n",
    "```C++\n",
    "class Solution {\n",
    "public:\n",
    "    typedef pair<int,int> ii;\n",
    "    vector<ii> resconstruct(vector<ii>& people) {\n",
    "        // Sort priorities\n",
    "        //      1. Height decreasing\n",
    "        //      2. Number of infront (>= height) people increasing\n",
    "        sort(people.begin(), people.end(),\n",
    "            [](ii a, ii b) { return a.first > b.first || (a.first == b.first && a.second < b.second);});\n",
    "\n",
    "        // Group people\n",
    "        vector<ii> ans;\n",
    "        for(auto& p:people) ans.insert(ans.begin() + p.second, p);\n",
    "        return ans;\n",
    "    }\n",
    "};\n",
    "```"
   ]
  }
 ],
 "metadata": {
  "kernelspec": {
   "display_name": "Python 3.7",
   "language": "python",
   "name": "py37"
  },
  "language_info": {
   "codemirror_mode": {
    "name": "ipython",
    "version": 3
   },
   "file_extension": ".py",
   "mimetype": "text/x-python",
   "name": "python",
   "nbconvert_exporter": "python",
   "pygments_lexer": "ipython3",
   "version": "3.7.9"
  }
 },
 "nbformat": 4,
 "nbformat_minor": 2
}
