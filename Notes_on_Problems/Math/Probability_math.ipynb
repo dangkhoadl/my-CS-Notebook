{
 "cells": [
  {
   "cell_type": "markdown",
   "metadata": {},
   "source": [
    "# [Airplane Seat Assignment Probability](https://leetcode.com/problems/airplane-seat-assignment-probability/)\n",
    "- **Given**: `N` passengers with `N` seats\n",
    "    + The 1st passenger will pick a random seat\n",
    "    + After that, the other persons will pick their seat subsequently follows the rules\n",
    "        + 1. Take their **own seat** if it is still available\n",
    "        + 2. Pick other seats **randomly** when they find their seat occupied\n",
    "- **Return**: the probability that the nth person gets his own seat\n",
    "\n",
    "## Solution\n",
    "\n",
    "```py\n",
    "f(n) = \n",
    "    1/n                    # 1st person pick his own seat\n",
    "    + 1/n * 0              # 1st person picks last one's seat, there's no chance the n-th person get his own seat\n",
    "    + (n-2)/n * (          # 1st person picks one of the seats from 2nd to (n-1)th\n",
    "        1/(n-2) * f(n-1) + # 1st person picks 2nd seat; 2nd person become the 1st person (pick a random seat) in f(n-1)\n",
    "        1/(n-2) * f(n-2) + # 1st person picks 3rd seat; 2nd person pick his own seat; 3rd person become the 1st person in f(n-2)\n",
    "        1/(n-3) * f(n-2) + # 1st person picks 3rd seat; 2nd,3rd person pick their own seat; 4th person become the 1st person in f(n-3)\n",
    "        ...\n",
    "        1/(n-2) * f(2)     # 1st person pick (n-1)th seat, ...\n",
    "    )\n",
    "\n",
    "=> f(n) = 1/n + 0 + 1/n * (f(n-1) + f(n-2) + ... + f(2))\n",
    "        = 1/n * (f(n-1) + f(n-2) + ... + f(2) + 1)\n",
    "        = 1/n * (f(n-1) + f(n-2) + ... + f(2) + f(1)) because f(1) = 1\n",
    "```\n",
    "\n",
    "**f(n) is a converged series**"
   ]
  },
  {
   "cell_type": "code",
   "execution_count": 1,
   "metadata": {
    "scrolled": false
   },
   "outputs": [
    {
     "data": {
      "image/png": "[encoded data removed]",
      "text/plain": [
       "<Figure size 720x360 with 1 Axes>"
      ]
     },
     "metadata": {
      "needs_background": "light"
     },
     "output_type": "display_data"
    }
   ],
   "source": [
    "from functools import lru_cache\n",
    "import numpy as np\n",
    "import matplotlib.pyplot as plt\n",
    "\n",
    "@lru_cache(maxsize=None)\n",
    "def f(n):\n",
    "    if n == 1: return 1.0\n",
    "    ans = 0\n",
    "    for i in range(1,n): ans += f(i)\n",
    "    return 1/n * ans\n",
    "\n",
    "N = np.arange(1, int(1e2), 1)\n",
    "f_N = np.array([f(n) for n in N])\n",
    "\n",
    "plt.figure(figsize=(10,5))\n",
    "plt.plot(\n",
    "    N, f_N,\n",
    "    color='b', linewidth=1.5)\n",
    "plt.xlabel('N', fontsize=18)\n",
    "plt.ylabel('f(N)', fontsize=20)\n",
    "plt.show()"
   ]
  },
  {
   "cell_type": "markdown",
   "metadata": {},
   "source": [
    "#### Code\n",
    "\n",
    "```Cpp\n",
    "class Solution {\n",
    "public:\n",
    "    double nthPersonGetsNthSeat(int n) {\n",
    "        if(n == 1) return 1.0;\n",
    "        return 0.5;\n",
    "    }\n",
    "};\n",
    "```"
   ]
  }
 ],
 "metadata": {
  "kernelspec": {
   "display_name": "Python 3.8",
   "language": "python",
   "name": "py38"
  },
  "language_info": {
   "codemirror_mode": {
    "name": "ipython",
    "version": 3
   },
   "file_extension": ".py",
   "mimetype": "text/x-python",
   "name": "python",
   "nbconvert_exporter": "python",
   "pygments_lexer": "ipython3",
   "version": "3.8.13"
  }
 },
 "nbformat": 4,
 "nbformat_minor": 4
}
