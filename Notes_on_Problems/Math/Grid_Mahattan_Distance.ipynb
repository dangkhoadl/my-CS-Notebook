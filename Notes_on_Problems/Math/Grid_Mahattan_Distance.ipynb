{
 "cells": [
  {
   "cell_type": "markdown",
   "metadata": {},
   "source": [
    "## [Best Meeting Point](https://leetcode.com/problems/best-meeting-point/)\n",
    "- A group of wants to meet and minimize the total travel distance. You are given a 2D grid of values 0 or 1, where each 1 marks the home of someone in the group. \n",
    "- The distance is calculated using Manhattan Distance, where distance(p1, p2) = |p2.x - p1.x| + |p2.y - p1.y|\n",
    "- Example\n",
    "\n",
    "```\n",
    "Input: \n",
    "\n",
    "1 - 0 - 0 - 0 - 1\n",
    "|   |   |   |   |\n",
    "0 - 0 - 0 - 0 - 0\n",
    "|   |   |   |   |\n",
    "0 - 0 - 1 - 0 - 0\n",
    "\n",
    "Output: 6 \n",
    "\n",
    "Explanation: Given three people living at (0,0), (0,4), and (2,2):\n",
    "             The point (0,2) is an ideal meeting point, as the total travel distance \n",
    "             of 2+2+2=6 is minimal. So return 6.\n",
    "```\n",
    "\n"
   ]
  },
  {
   "cell_type": "markdown",
   "metadata": {},
   "source": [
    "#### Solution\n",
    "- Observation in 1D array\n",
    "    + [1,6] -> best point can be any where between 1~6\n",
    "    + [1,2,6] -> best point is 2\n",
    "    + [1,2,3,6] -> best point is 2.5 (2 or 3)\n",
    "    + --> best point is the median in 1D array\n",
    "- For 2D array and use Manhattan Distance we can split into X and Y\n",
    "    + dist(P) = dist(P.x) + dist(P.y)\n",
    "\n",
    "```C++\n",
    "class Solution {\n",
    "public:\n",
    "    int get_min(vector<int> &A) {\n",
    "        int N = A.size();\n",
    "        sort(A.begin(), A.end());\n",
    "\n",
    "        // Calculate median\n",
    "        int median = 0;\n",
    "        if(N % 2 == 1) median = A[N/2];\n",
    "        else median = (int)round((A[N/2-1] + A[N/2]) / 2);\n",
    "        \n",
    "        // Calculate total\n",
    "        int total = 0;\n",
    "        for(auto &a: A) total += abs(median - a);\n",
    "        return total;\n",
    "    }\n",
    "    int minTotalDistance(vector<vector<int>> &grid) {\n",
    "        int N = grid.size();\n",
    "        if(N == 0) return 0;\n",
    "        int M = grid[0].size();\n",
    "\n",
    "        vector<int> row;\n",
    "        vector<int> col;\n",
    "\n",
    "        for(int i=0; i<N; ++i) for(int j=0; j<M; ++j) {\n",
    "            if(grid[i][j] != 1) continue;\n",
    "            row.push_back(i);\n",
    "            col.push_back(j);\n",
    "        }\n",
    "\n",
    "        return get_min(row) + get_min(col);\n",
    "    }\n",
    "};\n",
    "```\n",
    "\n",
    "- We can use another way to calculate the total distance\n",
    "\n",
    "```C++\n",
    "int get_min(vector<int> &A) {\n",
    "    sort(A.begin(), A.end());\n",
    "\n",
    "    int i = 0;\n",
    "    int j = A.size()-1;\n",
    "\n",
    "    int total = 0;\n",
    "    while(i < j) total += (A[j--] - A[i++]);\n",
    "    return total;\n",
    "}\n",
    "```"
   ]
  },
  {
   "cell_type": "markdown",
   "metadata": {},
   "source": [
    "## NOTE !!!!\n",
    "- Mahattan distance can be seperated into X and Y to solve independently\n",
    "- mean minimizes total distance for euclidian distance\n",
    "- median minimzes total distance for absolute deviation\n",
    "- mode minimizes distance for indicator function"
   ]
  }
 ],
 "metadata": {
  "kernelspec": {
   "display_name": "Python 3.8",
   "language": "python",
   "name": "py38"
  },
  "language_info": {
   "codemirror_mode": {
    "name": "ipython",
    "version": 3
   },
   "file_extension": ".py",
   "mimetype": "text/x-python",
   "name": "python",
   "nbconvert_exporter": "python",
   "pygments_lexer": "ipython3",
   "version": "3.8.13"
  }
 },
 "nbformat": 4,
 "nbformat_minor": 2
}
