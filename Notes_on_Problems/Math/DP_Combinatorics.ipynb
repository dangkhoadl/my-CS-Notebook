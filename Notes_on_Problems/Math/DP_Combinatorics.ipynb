{
 "cells": [
  {
   "cell_type": "markdown",
   "metadata": {},
   "source": [
    "# [Number of Music Playlists](https://leetcode.com/problems/number-of-music-playlists/)\n",
    "- **Given**\n",
    "    + `N`: Number of songs (distinct)\n",
    "    + `goal`: Number of songs to listen (not necessarily different, goal can > N)\n",
    "    + `K`: Number of other songs has to be played before a song repeat playing\n",
    "- **Return**: The number of possible playlists can create (mod $10^9 + 7$)\n",
    "\n",
    "#### Constraints\n",
    "- $0 \\leq k < n \\leq \\text{goal} \\leq 100$\n"
   ]
  }
 ],
 "metadata": {
  "kernelspec": {
   "display_name": "Python 3.8",
   "language": "python",
   "name": "py38"
  },
  "language_info": {
   "codemirror_mode": {
    "name": "ipython",
    "version": 3
   },
   "file_extension": ".py",
   "mimetype": "text/x-python",
   "name": "python",
   "nbconvert_exporter": "python",
   "pygments_lexer": "ipython3",
   "version": "3.8.13"
  }
 },
 "nbformat": 4,
 "nbformat_minor": 4
}
