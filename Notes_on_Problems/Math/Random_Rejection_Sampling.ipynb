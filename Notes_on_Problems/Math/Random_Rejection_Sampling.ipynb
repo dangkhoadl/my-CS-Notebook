{
 "cells": [
  {
   "cell_type": "markdown",
   "metadata": {},
   "source": [
    "# [Implement Rand10() Using Rand7()](https://leetcode.com/problems/implement-rand10-using-rand7/)\n",
    "- **Given**:  `rand7()` generates uniform random integer in range `[1,7]`\n",
    "- **Return**: Implement `rand10()` function uniform random integer in range `[1,10]`\n",
    "\n",
    "#### Solution\n",
    "- Use 2D grid <-> 1D array model to create `rand49()`\n",
    "- Use rejecting random to create `rand40()`\n",
    "\n",
    "```Cpp\n",
    "class Solution {\n",
    "public:\n",
    "    int __rand49() {\n",
    "        // Return [0,48]\n",
    "        int r = rand7()-1;\n",
    "        int c = rand7()-1;\n",
    "        return r*7+c;\n",
    "    }\n",
    "    int __rand40() {\n",
    "        // Return [0,39]\n",
    "        while(true) {\n",
    "            int num = __rand49();\n",
    "            if(num < 40) return num;\n",
    "        }\n",
    "        return -1;\n",
    "    }\n",
    "    int rand10() {\n",
    "        // Return [1, 10]\n",
    "        return __rand40()%10 + 1;\n",
    "    }\n",
    "};\n",
    "```"
   ]
  },
  {
   "cell_type": "markdown",
   "metadata": {},
   "source": [
    "# [Generate Random Point in a Circle](https://leetcode.com/problems/generate-random-point-in-a-circle/)\n",
    "- **Given**: `radius`, `x_center`, `y_center`\n",
    "- **Return**: A uniform random point in this circle\n",
    "\n",
    "#### Solution\n",
    "- Create a uniform random function in a square size 2r x 2r\n",
    "- Use rejecting random to remove the points outside the circle\n",
    "\n",
    "```Cpp\n",
    "class Solution {\n",
    "public:\n",
    "    double r;\n",
    "    double x_center, y_center;\n",
    "    Solution(double radius, double x_center, double y_center): \\\n",
    "        r(radius), x_center(x_center), y_center(y_center) {}\n",
    "\n",
    "    double rand_double(double a, double b) {\n",
    "        // Range [a, b]\n",
    "        return a + (double)rand()/(double)RAND_MAX*(b-a);\n",
    "    }\n",
    "    vector<double> randPoint() {\n",
    "        while(true) {\n",
    "            // x,y in a square size 2r * 2r\n",
    "            double x = rand_double(-r, r);\n",
    "            double y = rand_double(-r, r);\n",
    "            \n",
    "            // Reject points outside the circle\n",
    "            if(x*x + y*y <= r*r) {\n",
    "                return {x_center + x, y_center + y};\n",
    "            }\n",
    "        }\n",
    "\n",
    "        assert(false);\n",
    "        return {};\n",
    "    }\n",
    "};\n",
    "```"
   ]
  }
 ],
 "metadata": {
  "kernelspec": {
   "display_name": "Python 3.8",
   "language": "python",
   "name": "py38"
  },
  "language_info": {
   "codemirror_mode": {
    "name": "ipython",
    "version": 3
   },
   "file_extension": ".py",
   "mimetype": "text/x-python",
   "name": "python",
   "nbconvert_exporter": "python",
   "pygments_lexer": "ipython3",
   "version": "3.8.13"
  }
 },
 "nbformat": 4,
 "nbformat_minor": 4
}
