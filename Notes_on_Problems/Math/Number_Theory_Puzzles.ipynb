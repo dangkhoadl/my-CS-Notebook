{
 "cells": [
  {
   "cell_type": "markdown",
   "metadata": {},
   "source": [
    "#### How many digits that $2^{2020}$ has?\n",
    "- Solution\n",
    "    + Let $X = 2^{2020} = 10^{log_{10}2^{2020}} = 10^{2020*log_{10}2} = 10^{608.08}$\n",
    "    + Let `n+1` is the number of digit that `X` has\n",
    "\n",
    "$$\\begin{split}\n",
    "   & 10^n \\leq X < 10^{n+1} \\\\\n",
    "=>\\ & 10^n \\leq 10^{608.08} < 10^{n+1} \\\\\n",
    "=>\\ & n \\leq 608.08 < n+1 \\\\\n",
    "=>\\ & n \\subset N =>\\ n = 608, n+1 = 609\n",
    "\\end{split}$$\n",
    "\n",
    "- Conclusion: $2^{2020}$ has 609 digits"
   ]
  },
  {
   "cell_type": "markdown",
   "metadata": {},
   "source": [
    "#### From 1 to 100. How many Integer number divisible by 3?\n",
    "- Solution\n",
    "    + List out: x = `{3,6,9,...,a[i], a[i]+3,...}`\n",
    "    + Note that if $x \\vdots 3$\n",
    "        + $\\to x = 3k,\\ k\\in N$, $k = 1,2,3, \\dots$\n",
    "    + We have:\n",
    "\n",
    "$$\\begin{split}\n",
    "& 1 \\leq x \\leq 100 \\\\\n",
    "=>&\\ 1 \\leq 3k \\leq 100 \\\\\n",
    "=>&\\ \\frac{1}{3} \\leq k \\leq 33.33 \\\\\n",
    "=>&\\ k = 1,2,\\dots 33 \\\\\n",
    "\\end{split}$$\n",
    "\n",
    "- Conclusion: 33 Integer numbers in range [1, 100] divisible by 3"
   ]
  },
  {
   "cell_type": "markdown",
   "metadata": {},
   "source": [
    "#### What is the last digits of $1356748^n$?\n",
    "- Solution\n",
    "    + Noted that the last digit of $1356748^n$ is the same as the last digit of $8^n$\n",
    "    + The last digits of $8^n$ has the pattern: `1`, `8,4,2,6`, `8,4,2,6`, ... \n",
    "        + If n = 0, last_digit = 1\n",
    "        + If n mod 4 = 1, last_digit = 8\n",
    "        + If n mod 4 = 2, last_digit = 4\n",
    "        + If n mod 4 = 3, last_digit = 2\n",
    "        + If n mod 4 = 0, last_digit = 6"
   ]
  }
 ],
 "metadata": {
  "kernelspec": {
   "display_name": "Python 3.8",
   "language": "python",
   "name": "py38"
  },
  "language_info": {
   "codemirror_mode": {
    "name": "ipython",
    "version": 3
   },
   "file_extension": ".py",
   "mimetype": "text/x-python",
   "name": "python",
   "nbconvert_exporter": "python",
   "pygments_lexer": "ipython3",
   "version": "3.8.13"
  }
 },
 "nbformat": 4,
 "nbformat_minor": 4
}
