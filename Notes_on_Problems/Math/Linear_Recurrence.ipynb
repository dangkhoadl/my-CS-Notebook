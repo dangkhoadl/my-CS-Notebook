{
 "cells": [
  {
   "cell_type": "markdown",
   "metadata": {},
   "source": [
    "# Linear Recurrence\n",
    "- A(n) is a linear recurrence relation of order k if:\n",
    "$$A(n) = c_1A(n-1) + c_2A(n-2) + ... + c_kA(n-k)$$\n",
    "\n",
    "    + $c_1,c_2,...,c_k$ are constants\n",
    "\n",
    "- Example\n",
    "    + F(n) = F(n-1) + F(n-2), order = 2\n",
    "    + Z(n) = 5*Z(n-1) + 6*Z(n-2) + Z(n-5), order = 5\n",
    "    \n",
    "    \n",
    "## Solve Linear Recurrence $O(k^3log(n))$\n",
    "\n",
    "\n",
    "#### Fibonnaci, k=2\n",
    "$$f_0 = 0$$\n",
    "$$f_1 = 1$$\n",
    "$$f_n = f_{n-1} + f_{n-2}$$\n",
    "\n",
    "```\n",
    "We have 2 equations:\n",
    "        f(n)   = f(n-1) + f(n-2)\n",
    "        f(n-1) = f(n-1)\n",
    "\n",
    "By turning them into matrix realtion. we get:\n",
    "        | f(n)   |     | 1 1 |     | f(n-1) |\n",
    "        | f(n-1) |  =  | 1 0 |  *  | f(n-2) |\n",
    "\n",
    "Since we can compute an matrix exponent by O(log(n)), Simplify the relations into exponents\n",
    "        | f(n)   |     | 1 1 |^(n-1)     | f(1) |\n",
    "        | f(n-1) |  =  | 1 0 |       *   | f(0) |\n",
    "```\n",
    "\n",
    "#### Tribonnaci, k=3\n",
    "$$F(n) = a*F(n-1) + b*F(n-2) + c*F(n-3)$$\n",
    "\n",
    "```\n",
    "We have 3 equations:\n",
    "        f(n)   = a*f(n-1) + b*f(n-2) + c*f(n-3)\n",
    "        f(n-1) = f(n-1)\n",
    "        f(n-2) =          f(n-2)\n",
    "\n",
    "By turning them into matrix realtion. we get:\n",
    "        | f(n)   |     | a b c |     | f(n-1) |\n",
    "        | f(n-1) |  =  | 1 0 0 |  *  | f(n-2) |\n",
    "        | f(n-2) |     | 0 1 0 |     | f(n-3) |\n",
    "\n",
    "Since we can compute an matrix exponent by O(log(n)), Simplify the relation into exponents\n",
    "        | f(n)   |     | a b c |^(n-2)     | f(2) |\n",
    "        | f(n-1) |  =  | 1 0 0 |       *   | f(1) |\n",
    "        | f(n-2) |     | 0 1 0 |           | f(0) |\n",
    "\t\t\n",
    "```"
   ]
  },
  {
   "cell_type": "markdown",
   "metadata": {},
   "source": [
    "# Domino Tiling\n",
    "- A board has the size nx2\n",
    "- Can be tiled by dominos size (1x2)\n",
    "    + Vertical 1x2\n",
    "    + Horizontal 2x1\n",
    "- How many ways to cover the board f(n)?\n",
    "<img src=\"./img/3.jpg\" alt=\"drawing\" width=\"600\"/>\n",
    "\n",
    "#### Solution\n",
    "<img src=\"./img/4.jpg\" alt=\"drawing\" width=\"600\"/>\n",
    "\n",
    "- f(n) = f(n-1) + f(n-2)"
   ]
  },
  {
   "cell_type": "markdown",
   "metadata": {},
   "source": [
    "# Vending Machine Problem\n",
    "- 3 type of coin: (1), (2), (5)\n",
    "- How many way to pay n dollar by 3 type of coins\n",
    "    + Eg: 10 dollars = (1) + (2) + (2) + (5)\n",
    "    \n",
    "#### Solution\n",
    "<img src=\"./img/5.jpg\" alt=\"drawing\" width=\"600\"/>\n",
    "\n",
    "- A(n) = A(n-1) + A(n-2) + A(n-5), if n > 5\n",
    "- A(n) = A(n-1) + A(n-2), if n = 3,4\n",
    "- Base cases:\n",
    "    + A(1) = 1\n",
    "    + A(2) = 2\n",
    "    + A(5) = 9"
   ]
  }
 ],
 "metadata": {
  "kernelspec": {
   "display_name": "Python 3.8",
   "language": "python",
   "name": "py38"
  },
  "language_info": {
   "codemirror_mode": {
    "name": "ipython",
    "version": 3
   },
   "file_extension": ".py",
   "mimetype": "text/x-python",
   "name": "python",
   "nbconvert_exporter": "python",
   "pygments_lexer": "ipython3",
   "version": "3.8.13"
  }
 },
 "nbformat": 4,
 "nbformat_minor": 2
}
