{
 "cells": [
  {
   "cell_type": "markdown",
   "metadata": {},
   "source": [
    "# [Perfect Number](https://codeforces.com/contest/919/problem/B)\n",
    "- **Given**: an integer `K`\n",
    "- **Return**: the `K`-th Perfect number, defined as\n",
    "    + A number is perfect if the sum all of it digits = 10 \n",
    "\n",
    "#### Examples\n",
    "\n",
    "```\n",
    "Input: 1\n",
    "Output: 19\n",
    "\n",
    "Input: 2\n",
    "Output: 28\n",
    "```\n",
    "\n",
    "#### Constraints\n",
    "- $1 \\leq K \\leq 10000$"
   ]
  },
  {
   "cell_type": "markdown",
   "metadata": {},
   "source": [
    "## Solution\n",
    "- Bruteforce + memorized\n",
    "\n",
    "```Cpp\n",
    "// cache[num] = sum of digits (num)\n",
    "int cache[10800100 + 3];\n",
    "bool check(int num) {\n",
    "    if(num == 0) return 0;\n",
    "    if(cache[num]) return cache[num];\n",
    "    return (cache[num] = check(num/10) + num%10) == 10;\n",
    "}\n",
    "\n",
    "int solve(int K) {\n",
    "    int k = 0;\n",
    "    int num = 0;\n",
    "    while(true) {\n",
    "        num += 1;\n",
    "        if(check(num)) k += 1;\n",
    "        if(k == K) break;\n",
    "    }\n",
    "    return num;\n",
    "}\n",
    "```"
   ]
  }
 ],
 "metadata": {
  "kernelspec": {
   "display_name": "Python 3.8",
   "language": "python",
   "name": "py38"
  },
  "language_info": {
   "codemirror_mode": {
    "name": "ipython",
    "version": 3
   },
   "file_extension": ".py",
   "mimetype": "text/x-python",
   "name": "python",
   "nbconvert_exporter": "python",
   "pygments_lexer": "ipython3",
   "version": "3.8.13"
  }
 },
 "nbformat": 4,
 "nbformat_minor": 4
}
