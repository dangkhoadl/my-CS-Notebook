{
 "cells": [
  {
   "cell_type": "markdown",
   "metadata": {},
   "source": [
    "##  [Numbers With Repeated Digits](https://leetcode.com/problems/numbers-with-repeated-digits/)\n",
    "- Given a positive integer N, return the number of positive integers less than or equal to N that have at least 1 repeated digit.\n",
    "\n",
    "- **Examples**\n",
    "\n",
    "```\n",
    "Input: 20\n",
    "Output: 1\n",
    "Explanation: The only positive number (<= 20) with at least 1 repeated digit is 11.\n",
    "\n",
    "Input: 100\n",
    "Output: 10\n",
    "Explanation: The positive numbers (<= 100) with atleast 1 repeated digit are 11, 22, 33, 44, 55, 66, 77, 88, 99, and 100.\n",
    "\n",
    "Input: 1000\n",
    "Output: 262\n",
    "```\n",
    "\n",
    "#### Solution\n",
    "- Count the unique digit number\n",
    "    - bitset mark the exist number [0,9]. Example\n",
    "    - 125, biset = {1,5,2}\n",
    "- result = N - uniques\n",
    "\n",
    "```C++\n",
    "class Solution {\n",
    "public:\n",
    "    int N;\n",
    "    int cnt;\n",
    "    void count_unique_digit(long x, int bitset) {\n",
    "        if(x > N) return;\n",
    "\n",
    "        cnt = (x == 0) ? 0 : cnt+1;\n",
    "\n",
    "        for(int d=0; d<=9; ++d) {\n",
    "            if(bitset == 0 && d == 0) continue;\n",
    "            if(bitset & (1<<d)) continue;\n",
    "\n",
    "            count_unique_digit(10*x+d, bitset | (1<<d));\n",
    "        }\n",
    "    }\n",
    "    int numDupDigitsAtMostN(int N) {\n",
    "        this->N = N;\n",
    "        count_unique_digit(0,0);\n",
    "        return N-cnt; \n",
    "    }\n",
    "};\n",
    "```"
   ]
  }
 ],
 "metadata": {
  "kernelspec": {
   "display_name": "Python 3.8",
   "language": "python",
   "name": "py38"
  },
  "language_info": {
   "codemirror_mode": {
    "name": "ipython",
    "version": 3
   },
   "file_extension": ".py",
   "mimetype": "text/x-python",
   "name": "python",
   "nbconvert_exporter": "python",
   "pygments_lexer": "ipython3",
   "version": "3.8.13"
  }
 },
 "nbformat": 4,
 "nbformat_minor": 2
}
