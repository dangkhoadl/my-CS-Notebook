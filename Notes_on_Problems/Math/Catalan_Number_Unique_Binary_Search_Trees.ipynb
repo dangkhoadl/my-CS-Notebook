{
 "cells": [
  {
   "cell_type": "markdown",
   "metadata": {},
   "source": [
    "## [Numbers of Unique Binary Search Tree](https://leetcode.com/problems/unique-binary-search-trees/)\n",
    "\n",
    "- Given n, how many structurally unique BST's (binary search trees) that store values 1 ... n?\n",
    "\n",
    "```\n",
    "Input: 3\n",
    "Output: 5\n",
    "Explanation:\n",
    "Given n = 3, there are a total of 5 unique BST's:\n",
    "\n",
    "   1         3     3      2      1\n",
    "    \\       /     /      / \\      \\\n",
    "     3     2     1      1   3      2\n",
    "    /     /       \\                 \\\n",
    "   2     1         2                 3\n",
    "```\n"
   ]
  },
  {
   "cell_type": "markdown",
   "metadata": {},
   "source": [
    "#### Solution DP - $O(n^2)$\n",
    "- G(n): the number of unique BST for a sequence of length n\n",
    "\n",
    "- F(i,n): the number of unique BST has n nodes, where the number i is served as the root of BST ($1 \\leq i \\leq n$)\n",
    "    + $F(i,n) = G(i-1) * G(n-i)$\n",
    "    <img src=\"./img/8.png\" alt=\"drawing\" width=\"600\"/>\n",
    "\n",
    "- $G(n) = \\sum_{i=1}^{n}F(i,n) = \\sum_{i=1}^{n}G(i-1) * G(n-i)$\n",
    "    + G(0) = 1\n",
    "    + G(1) = 1\n",
    "\n",
    "```C++\n",
    "class Solution {\n",
    "public:\n",
    "    int N;\n",
    "    vector<int> dp;\n",
    "    int get(int n) {\n",
    "        if(n == 0 || n == 1) return 1;\n",
    "        if(dp[n] != -1) return dp[n];\n",
    "\n",
    "        dp[n] = 0;\n",
    "        for(int i=1; i<=n; ++i) \n",
    "            dp[n] += (get(i-1)*get(n-i));\n",
    "        \n",
    "        return dp[n];\n",
    "    }\n",
    "    int numTrees(int n) {\n",
    "        N = n;\n",
    "        dp.assign(N+1, -1);\n",
    "\n",
    "        return get(N);\n",
    "    }\n",
    "};\n",
    "```"
   ]
  },
  {
   "cell_type": "markdown",
   "metadata": {},
   "source": [
    "#### Solution Catalan Number - $O(n)$\n",
    "- $G(n)$ is Catalan number definition\n",
    "    + $G(0) = 1$\n",
    "    + $G(n+1) = \\frac{2(2n+1)}{n+2}G(n)$\n",
    "    + or $G(n) = \\frac{2(2n-1)}{n+1}G(n-1)$\n",
    "\n",
    "```C++\n",
    "class Solution {\n",
    "public:\n",
    "    long long get(int n) {\n",
    "        if(n == 0) return 1;\n",
    "\n",
    "        return 2*(2*n-1)*get(n-1)/(n+1);\n",
    "    }\n",
    "    int numTrees(int n) {\n",
    "        return static_cast<int>(get(n));\n",
    "    }\n",
    "};\n",
    "```"
   ]
  }
 ],
 "metadata": {
  "kernelspec": {
   "display_name": "Python 3.8",
   "language": "python",
   "name": "py38"
  },
  "language_info": {
   "codemirror_mode": {
    "name": "ipython",
    "version": 3
   },
   "file_extension": ".py",
   "mimetype": "text/x-python",
   "name": "python",
   "nbconvert_exporter": "python",
   "pygments_lexer": "ipython3",
   "version": "3.8.13"
  }
 },
 "nbformat": 4,
 "nbformat_minor": 2
}
