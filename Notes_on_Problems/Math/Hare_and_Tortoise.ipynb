{
 "cells": [
  {
   "cell_type": "markdown",
   "metadata": {},
   "source": [
    "# Hare and tortoise\n",
    "#### Detect if there is a cycle\n",
    "```C++\n",
    "int tor = 0;\n",
    "int hare = 0;\n",
    "\n",
    "do {\n",
    "    tor = a[tor];\n",
    "    hare = a[a[hare]];\n",
    "} while(tor != hare);\n",
    "```\n",
    "\n",
    "\n",
    "#### Find the entrance\n",
    "\n",
    "<img src=\"./img/9.jpg\" alt=\"drawing\" width=\"500\"/>\n",
    "\n",
    "\n",
    "```C++\n",
    "int p1 = 0;\n",
    "int p2 = tor;\n",
    "while (p1 != p2) {\n",
    "    p1 = a[p1];\n",
    "    p2 = a[p2];\n",
    "}\n",
    "\n",
    "return p1;\n",
    "```"
   ]
  },
  {
   "cell_type": "markdown",
   "metadata": {},
   "source": [
    "# Find duplicate number\n",
    "- Given\n",
    "    + An array `nums`, size `N+1`\n",
    "    + $nums[i] \\in [1,N], \\forall i \\in [0,N]$\n",
    "    + There is only 1 duplicate number (can be duplicated multiple times)\n",
    "- Find that duplicate one\n",
    "\n",
    "#### Example\n",
    "- `[3,1,3,4,2]`, ans = 3\n",
    "- `[1,2,3,4,2,2]`, ans = 2\n",
    "- `[1,4,2,2,2]`, ans = 2\n",
    "- `[1,2,2,2,4,5]`, ans = 2\n",
    "- `[1,3,4,3,5,3]`, ans = 3\n",
    "\n",
    "#### Solution\n",
    "- Consider `nums` represent a graph which: `nums[i] = next(i)`\n",
    "- If a number is duplicated the graph will become a circle linked list\n",
    "    + The starting point of the circle = duplicated member\n",
    "- Use hare and tortoise to find\n",
    "\n",
    "<img src=\"./img/2.png\" width=\"600\"/>\n"
   ]
  },
  {
   "cell_type": "code",
   "execution_count": 1,
   "metadata": {},
   "outputs": [],
   "source": [
    "def find_duplicate(nums):\n",
    "    # Detect cycle\n",
    "    tortoise = nums[0]\n",
    "    hare = nums[0]\n",
    "    while True:\n",
    "        tortoise = nums[tortoise]\n",
    "        hare = nums[nums[hare]]\n",
    "        \n",
    "        if tortoise == hare: break\n",
    "    \n",
    "    # Find the entrance\n",
    "    ptr1 = nums[0]\n",
    "    ptr2 = tortoise\n",
    "    while ptr1 != ptr2:\n",
    "        ptr1 = nums[ptr1]\n",
    "        ptr2 = nums[ptr2]\n",
    "\n",
    "    return ptr1"
   ]
  },
  {
   "cell_type": "code",
   "execution_count": 2,
   "metadata": {},
   "outputs": [
    {
     "data": {
      "text/plain": [
       "2"
      ]
     },
     "execution_count": 2,
     "metadata": {},
     "output_type": "execute_result"
    }
   ],
   "source": [
    "find_duplicate([1,2,3,4,2,2])"
   ]
  },
  {
   "cell_type": "code",
   "execution_count": 3,
   "metadata": {},
   "outputs": [
    {
     "data": {
      "text/plain": [
       "3"
      ]
     },
     "execution_count": 3,
     "metadata": {},
     "output_type": "execute_result"
    }
   ],
   "source": [
    "find_duplicate([3,1,3,4,2])"
   ]
  }
 ],
 "metadata": {
  "kernelspec": {
   "display_name": "Python 3.8",
   "language": "python",
   "name": "py38"
  },
  "language_info": {
   "codemirror_mode": {
    "name": "ipython",
    "version": 3
   },
   "file_extension": ".py",
   "mimetype": "text/x-python",
   "name": "python",
   "nbconvert_exporter": "python",
   "pygments_lexer": "ipython3",
   "version": "3.8.13"
  }
 },
 "nbformat": 4,
 "nbformat_minor": 4
}
