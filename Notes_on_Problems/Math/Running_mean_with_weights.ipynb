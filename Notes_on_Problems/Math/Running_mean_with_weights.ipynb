{
 "cells": [
  {
   "cell_type": "markdown",
   "id": "52e4713f",
   "metadata": {},
   "source": [
    "# 1. Mean with weights\n",
    "\n",
    "$$\\begin{split}\n",
    "\\mu &= \\frac{w_0 * A_0 + w_1 * A_1 + \\dots + w_{n-1} * A_{n-1} }{w_0 + w_1 + \\dots + w_{n-1}} \\\\\n",
    "    &= \\frac{\\sum\\limits_{t=0}^{n-1}w_t * A_t}{\\sum\\limits_{t=0}^{n-1}w_t}\n",
    "\\end{split}$$"
   ]
  },
  {
   "cell_type": "code",
   "execution_count": 1,
   "id": "34a8c6c2",
   "metadata": {},
   "outputs": [],
   "source": [
    "# (value, weight)\n",
    "data = [\n",
    "    {'weight': 0.10, 'value': 1913.18},\n",
    "    {'weight': 0.10, 'value': 1900.48},\n",
    "    {'weight': 0.05, 'value': 1889.90},\n",
    "    {'weight': 0.02, 'value': 1887.35},\n",
    "    {'weight': 0.02, 'value': 1888.12}]"
   ]
  },
  {
   "cell_type": "code",
   "execution_count": 2,
   "id": "026f17a8",
   "metadata": {},
   "outputs": [],
   "source": [
    "def get_mean(data):\n",
    "    total_val = 0.0\n",
    "    total_weight = 0.0\n",
    "\n",
    "    for example in data:\n",
    "        total_val    += example['weight'] * example['value']\n",
    "        total_weight += example['weight']\n",
    "    \n",
    "    mean_value = total_val / total_weight\n",
    "    return {\n",
    "        'weight': total_weight,\n",
    "        'value': mean_value,\n",
    "    }"
   ]
  },
  {
   "cell_type": "code",
   "execution_count": 3,
   "id": "c92749c4",
   "metadata": {
    "scrolled": true
   },
   "outputs": [
    {
     "data": {
      "text/plain": [
       "{'weight': 0.29000000000000004, 'value': 1901.2772413793098}"
      ]
     },
     "execution_count": 3,
     "metadata": {},
     "output_type": "execute_result"
    }
   ],
   "source": [
    "get_mean(data)"
   ]
  },
  {
   "cell_type": "markdown",
   "id": "bc1b365c",
   "metadata": {},
   "source": [
    "# 2. Running mean with weights in O(1)\n",
    "\n",
    "$$\\begin{split}\n",
    "    \\mu_t &= \\frac{w_0 * A_0 + w_1 * A_1 + \\dots + w_{t-1} * A_{t-1} + \\mathbf{w_{t} * A_{t}}}{w_0 + w_1 + \\dots + w_{t-1} + \\mathbf{w_{t}}} \\\\\n",
    "        &= \\frac{\\frac{w_0 * A_0 + w_1 * A_1 + \\dots + w_{t-1} * A_{t-1}}{w_0 + w_1 + \\dots + w_{t-1}} + \\frac{\\mathbf{w_{t} * A_{t}}}{w_0 + w_1 + \\dots + w_{t-1}}}{1 + \\frac{\\mathbf{w_{t}}}{w_0 + w_1 + \\dots + w_{t-1}}} \\\\\n",
    "        &= \\frac{\\mu_{t-1} + \\frac{\\mathbf{w_t*A_t}}{\\text{total_weights}_{t-1}} }{1 + \\frac{\\mathbf{w_t}}{\\text{total_weights}_{t-1}}} \\\\\n",
    "        &= \\frac{\\text{total_weights}_{t-1} * \\mu_{t-1} + \\mathbf{w_{t} * A_{t}}}{\\text{total_weights}_{t-1} + \\mathbf{w_t}}\n",
    "\\end{split}$$"
   ]
  },
  {
   "cell_type": "code",
   "execution_count": 4,
   "id": "a5ae41cb",
   "metadata": {},
   "outputs": [],
   "source": [
    "data = [\n",
    "    {'weight': 0.10, 'value': 1913.18},\n",
    "    {'weight': 0.10, 'value': 1900.48},\n",
    "    {'weight': 0.05, 'value': 1889.90},\n",
    "    {'weight': 0.02, 'value': 1887.35}]\n",
    "\n",
    "example = {'weight': 0.02, 'value': 1888.12}"
   ]
  },
  {
   "cell_type": "code",
   "execution_count": 5,
   "id": "f7242528",
   "metadata": {},
   "outputs": [],
   "source": [
    "def update_mean(cur, example):\n",
    "    new_total_weight = cur['weight'] + example['weight']\n",
    "    new_mean = (cur['weight']*cur['value'] + example['weight']*example['value']) / new_total_weight\n",
    "\n",
    "    return {\n",
    "        'weight': new_total_weight,\n",
    "        'value': new_mean,\n",
    "    }"
   ]
  },
  {
   "cell_type": "code",
   "execution_count": 6,
   "id": "71bc260f",
   "metadata": {},
   "outputs": [
    {
     "data": {
      "text/plain": [
       "{'weight': 0.29000000000000004, 'value': 1901.2772413793098}"
      ]
     },
     "execution_count": 6,
     "metadata": {},
     "output_type": "execute_result"
    }
   ],
   "source": [
    "cur = get_mean(data)\n",
    "update_mean(cur, example)"
   ]
  }
 ],
 "metadata": {
  "kernelspec": {
   "display_name": "Python 3.8",
   "language": "python",
   "name": "py38"
  },
  "language_info": {
   "codemirror_mode": {
    "name": "ipython",
    "version": 3
   },
   "file_extension": ".py",
   "mimetype": "text/x-python",
   "name": "python",
   "nbconvert_exporter": "python",
   "pygments_lexer": "ipython3",
   "version": "3.8.13"
  }
 },
 "nbformat": 4,
 "nbformat_minor": 5
}
