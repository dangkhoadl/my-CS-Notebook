{
 "cells": [
  {
   "cell_type": "markdown",
   "metadata": {},
   "source": [
    "# 0. XOR\n",
    "\n",
    "\n",
    "| **x** | **y** | **x^y** |\n",
    "|-------|-------|---------|\n",
    "| 0     | 0     | 0       |\n",
    "| 0     | 1     | 1       |\n",
    "| 1     | 0     | 1       |\n",
    "| 1     | 1     | 0       |\n",
    "\n",
    "#### Bitwise xor\n",
    "- 0011 ^ 0101 = 0110\n",
    "\n",
    "#### Properties\n",
    "- Commutativity: `x ^ y = y ^ x`\n",
    "- A num exor with 0 = itself: `x ^ 0 = x`\n",
    "- A num exor with itself = 0: `x ^ x = 0`"
   ]
  },
  {
   "cell_type": "markdown",
   "metadata": {},
   "source": [
    "# 1. Inplace swap\n",
    "\n",
    "```py\n",
    "# Swap x,y = y,x\n",
    "x = (x ^ y)\n",
    "y = (x ^ y)\n",
    "x = (x ^ y)\n",
    "```"
   ]
  },
  {
   "cell_type": "markdown",
   "metadata": {},
   "source": [
    "# 2. Finding the Missing Number\n",
    "- Given:\n",
    "    + An array `A` size `N-1`\n",
    "        + $x_i \\in [a,b]$, `b-a = N`\n",
    "        + All numbers appear exactly once, except one number, which is missing\n",
    "- Find this missing number\n",
    "\n",
    "#### Example\n",
    "+ `A = [1,3,5,2]`, missing 4\n",
    "+ `A = [6,5,4,2]`, missing 3\n",
    "\n",
    "#### Solution\n",
    "- xor with each other and with the correct series. Example\n",
    "    + Missing array: `c,a,d`\n",
    "    + Correct series: `a,b,c,d`\n",
    "- `(c^a^d) ^ (a^b^c^d) = a^a^c^c^d^d^b = 0^0^0^b = b`\n",
    "- **Note**:\n",
    "    + If the series starting with 1 or 0 can xor with the index of A (in-place)\n",
    "    + Other method: $\\sum$correct series - $\\sum$missing array"
   ]
  },
  {
   "cell_type": "markdown",
   "metadata": {},
   "source": [
    "# 3. Finding the Duplicate Number\n",
    "- Given:\n",
    "    + An array `A` size `N+1`\n",
    "        + $x_i \\in [a,b]$, `b-a = N`\n",
    "        + All numbers appear exactly once, except one number, which is duplicated\n",
    "- Find this duplicated number\n",
    "\n",
    "#### Solution\n",
    "- xor with each other and with the correct series. Example\n",
    "    + Duplicated array: `c,a,b,d,b`\n",
    "    + Correct series: `a,b,c,d`\n",
    "- `(c^a^b^d^b) ^ (a^b^c^d) = a^a^c^c^d^d^b^b^b = 0^0^0^0^b = b`\n",
    "\n",
    "- **Note**: If the number is duplicated multiple times consider `hare and tortoise` algo"
   ]
  }
 ],
 "metadata": {
  "kernelspec": {
   "display_name": "Python 3.8",
   "language": "python",
   "name": "py38"
  },
  "language_info": {
   "codemirror_mode": {
    "name": "ipython",
    "version": 3
   },
   "file_extension": ".py",
   "mimetype": "text/x-python",
   "name": "python",
   "nbconvert_exporter": "python",
   "pygments_lexer": "ipython3",
   "version": "3.8.13"
  }
 },
 "nbformat": 4,
 "nbformat_minor": 2
}
