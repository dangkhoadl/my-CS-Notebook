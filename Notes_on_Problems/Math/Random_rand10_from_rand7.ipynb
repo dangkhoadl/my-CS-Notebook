{
 "cells": [
  {
   "cell_type": "markdown",
   "metadata": {},
   "source": [
    "# [Implement Rand10() Using Rand7()](https://leetcode.com/problems/implement-rand10-using-rand7/)\n",
    "- **Given**:  `rand7()` generates uniform random integer in range `[1,7]`\n",
    "- **Return**: Implement `rand10()` function random integer in range `[1,10]`\n",
    "\n",
    "## Solution\n",
    "- Use 2D <-> 1D model to create `rand49()`\n",
    "- Trim off to create `rand40()`\n",
    "\n",
    "```Cpp\n",
    "class Solution {\n",
    "public:\n",
    "    int __rand49() {\n",
    "        // Return [0,48]\n",
    "        int r = rand7()-1;\n",
    "        int c = rand7()-1;\n",
    "        return r*7+c;\n",
    "    }\n",
    "    int __rand40() {\n",
    "        // Return [0,39]\n",
    "        while(true) {\n",
    "            int num = __rand49();\n",
    "            if(num < 40) return num;\n",
    "        }\n",
    "        return -1;\n",
    "    }\n",
    "    int rand10() {\n",
    "        // Return [1, 10]\n",
    "        return __rand40()%10 + 1;\n",
    "    }\n",
    "};\n",
    "```"
   ]
  }
 ],
 "metadata": {
  "kernelspec": {
   "display_name": "Python 3.8",
   "language": "python",
   "name": "py38"
  },
  "language_info": {
   "codemirror_mode": {
    "name": "ipython",
    "version": 3
   },
   "file_extension": ".py",
   "mimetype": "text/x-python",
   "name": "python",
   "nbconvert_exporter": "python",
   "pygments_lexer": "ipython3",
   "version": "3.8.13"
  }
 },
 "nbformat": 4,
 "nbformat_minor": 4
}
