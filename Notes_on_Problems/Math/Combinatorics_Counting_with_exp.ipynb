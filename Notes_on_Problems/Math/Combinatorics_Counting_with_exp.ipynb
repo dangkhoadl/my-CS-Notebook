{
 "cells": [
  {
   "cell_type": "markdown",
   "metadata": {},
   "source": [
    "# [Vowels of All Substrings](https://leetcode.com/problems/vowels-of-all-substrings/)\n",
    "- **Given**: A string `A`, len = `N`\n",
    "- **Return**: the **sum of the number of vowels** (a,u,e,i,o) existing in every substring of A\n",
    "\n",
    "\n",
    "#### Constraints\n",
    "- $1 \\leq N \\leq 10^5$\n",
    "\n",
    "#### Example 1\n",
    "\n",
    "```\n",
    "Input: A = \"aba\"\n",
    "Output: 6\n",
    "Explanation: All possible substrings are: \"a\", \"ab\", \"aba\", \"b\", \"ba\", and \"a\".\n",
    "    - \"b\" has 0 vowels in it\n",
    "    - \"a\", \"ab\", \"ba\", and \"a\" have 1 vowel each\n",
    "    - \"aba\" has 2 vowels in it\n",
    "Hence, the total sum of vowels = 0 + 1 + 1 + 1 + 1 + 2 = 6. \n",
    "```\n",
    "\n",
    "#### Example 2\n",
    "\n",
    "```\n",
    "Input: word = \"abc\"\n",
    "Output: 3\n",
    "Explanation: All possible substrings are: \"a\", \"ab\", \"abc\", \"b\", \"bc\", and \"c\".\n",
    "    - \"a\", \"ab\", and \"abc\" have 1 vowel each\n",
    "    - \"b\", \"bc\", and \"c\" have 0 vowels each\n",
    "Hence, the total sum of vowels = 1 + 1 + 1 + 0 + 0 + 0 = 3.\n",
    "```"
   ]
  },
  {
   "cell_type": "markdown",
   "metadata": {},
   "source": [
    "## Solution\n",
    "- Let `f(N, i)` = number of appearances in all substring from a parent string length = N, which contain index i, has\n",
    "- Plot the dp table with an exp"
   ]
  },
  {
   "cell_type": "code",
   "execution_count": 1,
   "metadata": {},
   "outputs": [
    {
     "name": "stdout",
     "output_type": "stream",
     "text": [
      "[N][i]\n",
      "[1][0] 1   \n",
      "[2][0] 2   [2][1] 2   \n",
      "[3][0] 3   [3][1] 4   [3][2] 3   \n",
      "[4][0] 4   [4][1] 6   [4][2] 6   [4][3] 4   \n",
      "[5][0] 5   [5][1] 8   [5][2] 9   [5][3] 8   [5][4] 5   \n",
      "[6][0] 6   [6][1]10   [6][2]12   [6][3]12   [6][4]10   [6][5] 6   \n",
      "[7][0] 7   [7][1]12   [7][2]15   [7][3]16   [7][4]15   [7][5]12   [7][6] 7   \n"
     ]
    }
   ],
   "source": [
    "from collections import defaultdict\n",
    "\n",
    "def do_exp(A):\n",
    "    stats = defaultdict(int)\n",
    "    N = len(A)\n",
    "    \n",
    "    # Travel all substr\n",
    "    for length in range(1, N+1):\n",
    "        for l in range(0, N-length+1):\n",
    "            substr = A[l:l+length]\n",
    "            for c in substr: stats[c] += 1\n",
    "    for i, value in stats.items():\n",
    "        print(f'[{N}][{i}]{value:{2}}', end='   ')\n",
    "    print()\n",
    "\n",
    "print(\"[N][i]\")\n",
    "do_exp(\"0\")\n",
    "do_exp(\"01\")\n",
    "do_exp(\"012\")\n",
    "do_exp(\"0123\")\n",
    "do_exp(\"01234\")\n",
    "do_exp(\"012345\")\n",
    "do_exp(\"0123456\")"
   ]
  },
  {
   "cell_type": "markdown",
   "metadata": {},
   "source": [
    "**Special pattern**: At each index i as N increases, it forms an arithmetic sequence with common difference = (i+1) and term position = (N-i) => `f(N,i) = (i+1)*(N-i)`\n",
    "\n",
    "#### Code\n",
    "\n",
    "```C++\n",
    "class Solution {\n",
    "public:\n",
    "    long long countVowels(string &A) {\n",
    "        long long N = A.size();\n",
    "        unordered_set<char> is_lower({'a', 'e', 'u', 'i', 'o'});\n",
    "\n",
    "        long long ans = 0;\n",
    "        for(int i=0; i<N; ++i) {\n",
    "            if(is_lower.count(A[i])) ans += (i+1) * (N-i);\n",
    "        }\n",
    "        return ans;\n",
    "    }\n",
    "};\n",
    "```"
   ]
  }
 ],
 "metadata": {
  "kernelspec": {
   "display_name": "Python 3.8",
   "language": "python",
   "name": "py38"
  },
  "language_info": {
   "codemirror_mode": {
    "name": "ipython",
    "version": 3
   },
   "file_extension": ".py",
   "mimetype": "text/x-python",
   "name": "python",
   "nbconvert_exporter": "python",
   "pygments_lexer": "ipython3",
   "version": "3.8.13"
  }
 },
 "nbformat": 4,
 "nbformat_minor": 4
}
