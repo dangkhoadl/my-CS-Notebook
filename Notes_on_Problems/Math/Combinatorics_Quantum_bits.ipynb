{
 "cells": [
  {
   "cell_type": "markdown",
   "metadata": {},
   "source": [
    "## [Poor Pigs](https://leetcode.com/problems/poor-pigs/)\n",
    "\n",
    "- There are `N` buckets, one and only one of them is poisonous, while the rest are filled with water. \n",
    "- If a pig drinks the poison it will die within `M` minutes. \n",
    "- What is the minimum amount of pigs you need to figure out which bucket is poisonous within `P` minutes?\n",
    "\n",
    "#### Solution\n",
    "- Simple case: P = M\n",
    "    + After M minutes, one pig has 2 states: dead(1) or alive(0)\n",
    "    + Example: we have 3 pigs, 8 buckets. Let all 3 pigs drink buckets 1-7\n",
    "        + 001: bucket 1 is poisonous\n",
    "        + 010: bucket 2 is poisonous\n",
    "        + 011: bucket 3 is poisonous\n",
    "        + 100: bucket 4 is poisonous\n",
    "        + 101: bucket 5 is poisonous\n",
    "        + 110: bucket 6 is poisonous\n",
    "        + 111: bucket 7 is poisonous\n",
    "        + 000: bucket 8 is poisonous\n",
    "    + The solution of this case is: $log_2{N}$\n",
    "\n",
    "- Quantum bit\n",
    "    + Binary bit: a bit has 2 states: 0 or 1\n",
    "    + Quantum bit: a bit has $\\geqslant 2$ states\n",
    "- Case: $P \\neq  M$\n",
    "    + Now a pig has multiple states. Example M = 15, P = 45:\n",
    "        + not die, die at 15, die at 30, die at 45\n",
    "    + Number of states = $\\frac{P}{M}+1$\n",
    "    + The solution of this case is: $log_{states}{N} = \\frac{log(N)}{log(states)}$\n",
    "    \n",
    "```C++\n",
    "class Solution {\n",
    "public:\n",
    "    int poorPigs(int N, int M, int P) {\n",
    "        int states = P / M + 1;\n",
    "        return (int)ceil(log(N)/log(states));\n",
    "    }\n",
    "};\n",
    "```"
   ]
  }
 ],
 "metadata": {
  "kernelspec": {
   "display_name": "Python 3.8",
   "language": "python",
   "name": "py38"
  },
  "language_info": {
   "codemirror_mode": {
    "name": "ipython",
    "version": 3
   },
   "file_extension": ".py",
   "mimetype": "text/x-python",
   "name": "python",
   "nbconvert_exporter": "python",
   "pygments_lexer": "ipython3",
   "version": "3.8.13"
  }
 },
 "nbformat": 4,
 "nbformat_minor": 2
}
