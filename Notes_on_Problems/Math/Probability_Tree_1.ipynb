{
 "cells": [
  {
   "cell_type": "markdown",
   "metadata": {},
   "source": [
    "<img src=\"./img/6.jpg\" width=\"500\"/>\n",
    "\n",
    "```py\n",
    "def get(cur):\n",
    "    if prefer_base_case: return 1.0\n",
    "    if not_prefer_base_case: return 0.0\n",
    "\n",
    "    sub_1_prob = get(sub_1)\n",
    "    sub_2_prob = get(sub_2)\n",
    "    sub_3_prob = get(sub_3)\n",
    "    \n",
    "    return 0.25*sub_1_prob + 0.4*sub_2_prob + 0.35*sub_3_prob\n",
    "```"
   ]
  },
  {
   "cell_type": "markdown",
   "metadata": {},
   "source": [
    "# [Soup Servings](https://leetcode.com/problems/soup-servings/)\n",
    "- **Given**:\n",
    "    + `N` ml of each 2 types of soups `A` and `B`\n",
    "    + We can do 4 types of operations. Each time 1 op is selected randomly with prob = 0.25\n",
    "        + 1. Serve `100` ml of **soup A** and `0` ml of **soup B**\n",
    "        + 2. Serve `75` ml of **soup A** and `25` ml of **soup B**\n",
    "        + 3. Serve `50` ml of **soup A** and `50` ml of **soup B**\n",
    "        + 4. Serve `25` ml of **soup A** and `75` ml of **soup B**\n",
    "    + If the remaining volume of soup is not enough to complete the operation, we will serve as much as possible\n",
    "- **Return**: The final sum probability such\n",
    "    + soup A empty first `x1.0`\n",
    "    + soup A and soup B empty at the same time `x0.5`\n",
    "    \n",
    "#### Constraints\n",
    "- $0 \\leq N \\leq 10^9$\n",
    "\n",
    "#### Example\n",
    "\n",
    "```\n",
    "Input: N = 50\n",
    "Output: 0.625\n",
    "Explanation: 0.25*1.0 + 0.25*1.0 + 0.25*0.5\n",
    "    + Choose 1: A empty 1st: 0.25*1.0\n",
    "    + Choose 2: A empty 1st: 0.25*1.0\n",
    "    + Choose 3: A,B empty at the same time:  0.25*0.5\n",
    "    + Choose 4: B empty 1st: 0\n",
    "\n",
    "Input: N = 100\n",
    "Output: 0.71875\n",
    "```\n",
    "\n",
    "#### Solution $O(N^2)$\n",
    "- Use prob tree recur to solve $O(N^2)$. But if we observe the pattern, as N increase the function f converges"
   ]
  },
  {
   "cell_type": "code",
   "execution_count": 1,
   "metadata": {},
   "outputs": [
    {
     "data": {
      "image/png": "[encoded data removed]",
      "text/plain": [
       "<Figure size 720x360 with 1 Axes>"
      ]
     },
     "metadata": {
      "needs_background": "light"
     },
     "output_type": "display_data"
    }
   ],
   "source": [
    "from functools import lru_cache\n",
    "import numpy as np\n",
    "import matplotlib.pyplot as plt\n",
    "\n",
    "@lru_cache(maxsize=None)\n",
    "def f(A, B):\n",
    "    if A <= 0 and B > 0: return 1.0\n",
    "    if A <= 0 and B <= 0: return 0.5\n",
    "    if B <= 0 and A > 0: return 0.0\n",
    "    return 0.25*(f(A-100,B) + f(A-100,B) + f(A-50, B-50) + f(A-25, B-75))\n",
    "\n",
    "N = np.arange(0, int(1e4), 1)\n",
    "f_N = np.array([f(n,n) for n in N])\n",
    "\n",
    "plt.figure(figsize=(10,5))\n",
    "plt.plot(\n",
    "    N, f_N,\n",
    "    color='b', linewidth=1.5)\n",
    "plt.xlabel('N', fontsize=18)\n",
    "plt.ylabel('f(N)', fontsize=20)\n",
    "plt.show()"
   ]
  },
  {
   "cell_type": "markdown",
   "metadata": {},
   "source": [
    "```Cpp\n",
    "class Solution {\n",
    "public:\n",
    "    unordered_map<int, unordered_map<int, double>> cache;\n",
    "    double get(int A, int B) {\n",
    "        if(A <= 0 && B > 0) return 1.0; // A empty before B\n",
    "        if(A <= 0 && B <= 0) return 0.5; // A,B empty at the same time\n",
    "        if(B <= 0 && A > 0) return 0.0; // B empty before A\n",
    "        if(cache[A][B] != 0) return cache[A][B];\n",
    "\n",
    "        double prob = 0.0;\n",
    "        prob += 0.25*get(A - 100, B);\n",
    "        prob += 0.25*get(A - 75, B - 25);\n",
    "        prob += 0.25*get(A - 50, B - 50);\n",
    "        prob += 0.25*get(A - 25, B - 75);\n",
    "\n",
    "        return cache[A][B] = prob;\n",
    "    }\n",
    "    double soupServings(int n) {\n",
    "        if(n > 4800) return 1.0;\n",
    "        return get(n, n);\n",
    "    }\n",
    "};\n",
    "```"
   ]
  }
 ],
 "metadata": {
  "kernelspec": {
   "display_name": "Python 3.8",
   "language": "python",
   "name": "py38"
  },
  "language_info": {
   "codemirror_mode": {
    "name": "ipython",
    "version": 3
   },
   "file_extension": ".py",
   "mimetype": "text/x-python",
   "name": "python",
   "nbconvert_exporter": "python",
   "pygments_lexer": "ipython3",
   "version": "3.8.13"
  }
 },
 "nbformat": 4,
 "nbformat_minor": 4
}
