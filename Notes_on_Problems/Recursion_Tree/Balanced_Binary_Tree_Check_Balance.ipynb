{
 "cells": [
  {
   "cell_type": "markdown",
   "metadata": {},
   "source": [
    "# [Check if a Binary tree is balanced](https://leetcode.com/problems/balanced-binary-tree/)\n",
    "- Example\n",
    "\n",
    "```\n",
    "    3\n",
    "   / \\\n",
    "  9  20\n",
    "    /  \\\n",
    "   15   7\n",
    "Return true\n",
    "\n",
    "\n",
    "       1\n",
    "      / \\\n",
    "     2   2\n",
    "    / \\\n",
    "   3   3\n",
    "  / \\\n",
    " 4   4\n",
    "Return false\n",
    "```\n",
    "\n",
    "#### Solution\n",
    "\n",
    "```C++\n",
    "class Solution {\n",
    "public:\n",
    "    int get_height(TreeNode* cur) {\n",
    "        if(cur == NULL) return 0;\n",
    "        return 1 + max(get_height(cur->left), get_height(cur->right));\n",
    "    }\n",
    "    bool check(TreeNode* cur) {\n",
    "        if(cur == NULL) return true;\n",
    "        \n",
    "        int l_h = get_height(cur->left);\n",
    "        int r_h = get_height(cur->right);\n",
    "        if(abs(l_h-r_h) > 1) return false;\n",
    "        \n",
    "        return check(cur->left) && check(cur->right);\n",
    "    }\n",
    "    bool isBalanced(TreeNode* root) {\n",
    "        return check(root);\n",
    "    }\n",
    "};\n",
    "```"
   ]
  }
 ],
 "metadata": {
  "kernelspec": {
   "display_name": "Python 3.8",
   "language": "python",
   "name": "py38"
  },
  "language_info": {
   "codemirror_mode": {
    "name": "ipython",
    "version": 3
   },
   "file_extension": ".py",
   "mimetype": "text/x-python",
   "name": "python",
   "nbconvert_exporter": "python",
   "pygments_lexer": "ipython3",
   "version": "3.8.13"
  }
 },
 "nbformat": 4,
 "nbformat_minor": 4
}
