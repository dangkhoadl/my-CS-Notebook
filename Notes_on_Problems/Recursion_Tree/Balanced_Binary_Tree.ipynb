{
 "cells": [
  {
   "cell_type": "markdown",
   "metadata": {},
   "source": [
    "# Balanced Binary Tree\n",
    "- a binary tree in which the height of the two subtrees of every node never differ by more than 1.\n",
    "$$|height(x\\to left) - height(x\\to right)| \\leq 1, \\forall\tx$$\n",
    "\n",
    "<img src=\"./img/BalancedBinary.png\" alt=\"drawing\" width=\"450\"/>"
   ]
  }
 ],
 "metadata": {
  "kernelspec": {
   "display_name": "Python 3.8",
   "language": "python",
   "name": "py38"
  },
  "language_info": {
   "codemirror_mode": {
    "name": "ipython",
    "version": 3
   },
   "file_extension": ".py",
   "mimetype": "text/x-python",
   "name": "python",
   "nbconvert_exporter": "python",
   "pygments_lexer": "ipython3",
   "version": "3.8.13"
  }
 },
 "nbformat": 4,
 "nbformat_minor": 4
}
