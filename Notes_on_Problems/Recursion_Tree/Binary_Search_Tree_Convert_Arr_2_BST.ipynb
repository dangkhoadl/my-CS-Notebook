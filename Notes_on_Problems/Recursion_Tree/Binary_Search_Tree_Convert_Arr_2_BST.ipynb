{
 "cells": [
  {
   "cell_type": "markdown",
   "metadata": {},
   "source": [
    "# [Insert -  Convert Sorted Array to Binary Search Tree](https://leetcode.com/problems/convert-sorted-array-to-binary-search-tree/)\n",
    "- Example\n",
    "\n",
    "```\n",
    "Given the sorted array: [-10,-3,0,5,9],\n",
    "\n",
    "One possible answer is: [0,-3,9,-10,null,5], which represents the following height balanced BST:\n",
    "\n",
    "      0\n",
    "     / \\\n",
    "   -3   9\n",
    "   /   /\n",
    " -10  5\n",
    "```\n",
    "\n",
    "#### Solution\n",
    "\n",
    "```C++\n",
    "class Solution {\n",
    "public:\n",
    "    vector<int> a;\n",
    "    TreeNode* insert(int l, int r) {\n",
    "        if(l>r) return NULL;\n",
    "\n",
    "        int m = l + (r-l)/2;\n",
    "\n",
    "        TreeNode* node = new TreeNode(num[m]);\n",
    "\n",
    "        node->left = insert(l, m-1);\n",
    "        node->right = insert(m+1, r);\n",
    "\n",
    "        return node;\n",
    "    }\n",
    "    TreeNode* sortedArrayToBST(vector<int>& nums) {\n",
    "        a = nums;\n",
    "        return insert(0, a.size()-1);\n",
    "    }\n",
    "};\n",
    "```"
   ]
  }
 ],
 "metadata": {
  "kernelspec": {
   "display_name": "Python 3.8",
   "language": "python",
   "name": "py38"
  },
  "language_info": {
   "codemirror_mode": {
    "name": "ipython",
    "version": 3
   },
   "file_extension": ".py",
   "mimetype": "text/x-python",
   "name": "python",
   "nbconvert_exporter": "python",
   "pygments_lexer": "ipython3",
   "version": "3.8.13"
  }
 },
 "nbformat": 4,
 "nbformat_minor": 4
}
