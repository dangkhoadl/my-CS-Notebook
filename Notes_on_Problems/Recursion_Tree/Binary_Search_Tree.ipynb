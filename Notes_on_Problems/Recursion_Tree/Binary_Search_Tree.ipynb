{
 "cells": [
  {
   "cell_type": "markdown",
   "metadata": {},
   "source": [
    "# Binary Search Tree\n",
    "- left_sub_tree(x) < x < right_sub_tree(x)\n",
    "- Search an element in O(log(n))\n",
    "\n",
    "<img src=\"./img/BST.png\" alt=\"drawing\" width=\"350\"/>\n",
    "\n",
    "```C++\n",
    "struct TreeNode {\n",
    "    int val;\n",
    "    TreeNode* left;\n",
    "    TreeNode* right;\n",
    "\n",
    "    TreeNode(int x) : val(x), left(NULL), right(NULL) {}\n",
    "};\n",
    "\n",
    "void insert(TreeNode *&cur, int val) {\n",
    "    // Insert\n",
    "    if(cur == NULL) {\n",
    "        cur = new TreeNode(val);\n",
    "        return;\n",
    "    }\n",
    "\n",
    "    // Find the correct position\n",
    "    if(val <=  cur->val) insert(cur->left, val);\n",
    "    else insert(cur->right, val);\n",
    "}\n",
    "```\n",
    "\n"
   ]
  }
 ],
 "metadata": {
  "kernelspec": {
   "display_name": "Python 3.8",
   "language": "python",
   "name": "py38"
  },
  "language_info": {
   "codemirror_mode": {
    "name": "ipython",
    "version": 3
   },
   "file_extension": ".py",
   "mimetype": "text/x-python",
   "name": "python",
   "nbconvert_exporter": "python",
   "pygments_lexer": "ipython3",
   "version": "3.8.13"
  }
 },
 "nbformat": 4,
 "nbformat_minor": 2
}
