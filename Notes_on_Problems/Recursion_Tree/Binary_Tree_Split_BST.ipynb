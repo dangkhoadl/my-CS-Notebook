{
 "cells": [
  {
   "cell_type": "markdown",
   "metadata": {},
   "source": [
    "# [Delete Node - Split Tree - Keep Parent Node](https://leetcode.com/problems/delete-nodes-and-return-forest/)\n",
    "- Example\n",
    "\n",
    "```\n",
    "        1                                       1\n",
    "      /   \\                                    / \n",
    "     2     3         -- Delete 3, 5 -->       2    ,  6  , 7 \n",
    "    / \\   / \\                                /   \n",
    "   4   5 6   7                              4\n",
    "\n",
    "```\n",
    "#### Solution\n",
    "\n",
    "```C++\n",
    "class Solution {\n",
    "public:\n",
    "    unordered_set<int> to_del;\n",
    "    vector<TreeNode*> ans;\n",
    "\n",
    "    void get(TreeNode *cur, TreeNode* par) {\n",
    "        if(cur == NULL) return;\n",
    "\n",
    "        get(cur->left, cur);\n",
    "        get(cur->right, cur);\n",
    "\n",
    "        /*------- Case not del node ------- */\n",
    "        if(to_del.count(cur->val) == 0) return;\n",
    "\n",
    "        /*------ Case Node is deleted - Split into 2 trees + root ------*/\n",
    "        if(cur->left != NULL) ans.push_back(cur->left);\n",
    "        if(cur->right != NULL) ans.push_back(cur->right);\n",
    "\n",
    "        // Delete node\n",
    "        if(par != NULL) {\n",
    "            if(par->left == cur) par->left = NULL;\n",
    "            if(par->right == cur) par->right = NULL;\n",
    "        }\n",
    "    }\n",
    "\n",
    "    vector<TreeNode*> delNodes(TreeNode* root, vector<int>& to_delete) {\n",
    "        for(auto num:to_delete) to_del.insert(num);\n",
    "        \n",
    "        get(root, NULL);\n",
    "        if(to_del.count(root->val) == 0) ans.push_back(root);\n",
    "\n",
    "        return ans;\n",
    "    }\n",
    "};\n",
    "```"
   ]
  }
 ],
 "metadata": {
  "kernelspec": {
   "display_name": "Python 3.8",
   "language": "python",
   "name": "py38"
  },
  "language_info": {
   "codemirror_mode": {
    "name": "ipython",
    "version": 3
   },
   "file_extension": ".py",
   "mimetype": "text/x-python",
   "name": "python",
   "nbconvert_exporter": "python",
   "pygments_lexer": "ipython3",
   "version": "3.8.13"
  }
 },
 "nbformat": 4,
 "nbformat_minor": 4
}
