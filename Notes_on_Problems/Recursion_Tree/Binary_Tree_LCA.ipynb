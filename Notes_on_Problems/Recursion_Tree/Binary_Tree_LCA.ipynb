{
 "cells": [
  {
   "cell_type": "markdown",
   "metadata": {},
   "source": [
    "# [LCA](https://leetcode.com/problems/lowest-common-ancestor-of-a-binary-tree/)\n",
    "- Example\n",
    "\n",
    "```\n",
    "        3\n",
    "      /   \\\n",
    "     5     1\n",
    "    / \\   / \\\n",
    "   6   2 0   8\n",
    "      / \\\n",
    "     7   4\n",
    "     \n",
    "LCA(5,1) = 3\n",
    "LCA(5,4) = 5\n",
    "LCA(6,4) = 5\n",
    "```\n",
    "\n",
    "\n",
    "#### Solution\n",
    "\n",
    "```C++\n",
    "class Solution {\n",
    "public:\n",
    "    TreeNode *p, *q;\n",
    "    TreeNode* dfs(TreeNode *cur) {\n",
    "        if(cur == NULL) return NULL; // Not found\n",
    "        if(cur == p || cur == q) return cur; // Found node\n",
    "\n",
    "        // Search left, right subtree\n",
    "        TreeNode *left_sub = dfs(cur->left);\n",
    "        TreeNode *right_sub = dfs(cur->right);\n",
    "\n",
    "        // Cur node = LCA if: left subtree found, right subtree found\n",
    "        if(left_sub && right_sub) return cur;\n",
    "\n",
    "        // Case   left found, right not found \n",
    "        //   or   right found, left not found\n",
    "        return left_sub != NULL ?  left_sub : right_sub;\n",
    "    }\n",
    "    TreeNode* lowestCommonAncestor(TreeNode* root, TreeNode* p, TreeNode* q) {\n",
    "        this->p = p;\n",
    "        this->q = q;\n",
    "\n",
    "        return dfs(root);\n",
    "    }\n",
    "};\n",
    "```"
   ]
  }
 ],
 "metadata": {
  "kernelspec": {
   "display_name": "Python 3.8",
   "language": "python",
   "name": "py38"
  },
  "language_info": {
   "codemirror_mode": {
    "name": "ipython",
    "version": 3
   },
   "file_extension": ".py",
   "mimetype": "text/x-python",
   "name": "python",
   "nbconvert_exporter": "python",
   "pygments_lexer": "ipython3",
   "version": "3.8.13"
  }
 },
 "nbformat": 4,
 "nbformat_minor": 4
}
