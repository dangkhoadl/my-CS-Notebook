{
 "cells": [
  {
   "cell_type": "markdown",
   "metadata": {},
   "source": [
    "# [Invert Binary Tree](https://leetcode.com/problems/invert-binary-tree/)\n",
    "\n",
    "- Example\n",
    "\n",
    "```\n",
    "- Input\n",
    "     4\n",
    "   /   \\\n",
    "  2     7\n",
    " / \\   / \\\n",
    "1   3 6   9\n",
    "\n",
    "- Output\n",
    "     4\n",
    "   /   \\\n",
    "  7     2\n",
    " / \\   / \\\n",
    "9   6 3   1\n",
    "```\n",
    "\n",
    "#### Solution\n",
    "\n",
    "```C++\n",
    "class Solution {\n",
    "public:\n",
    "    TreeNode* get(TreeNode* cur) {\n",
    "        if(cur == NULL) return NULL;\n",
    "\n",
    "        TreeNode* l_sub = get(cur->left);\n",
    "        TreeNode* r_sub = get(cur->right);\n",
    "\n",
    "        cur-> left = r_sub;\n",
    "        cur-> right = l_sub;\n",
    "\n",
    "        return cur;\n",
    "    }\n",
    "    TreeNode* invertTree(TreeNode* root) {\n",
    "        return get(root);\n",
    "    }\n",
    "};\n",
    "```"
   ]
  }
 ],
 "metadata": {
  "kernelspec": {
   "display_name": "Python 3.8",
   "language": "python",
   "name": "py38"
  },
  "language_info": {
   "codemirror_mode": {
    "name": "ipython",
    "version": 3
   },
   "file_extension": ".py",
   "mimetype": "text/x-python",
   "name": "python",
   "nbconvert_exporter": "python",
   "pygments_lexer": "ipython3",
   "version": "3.8.13"
  }
 },
 "nbformat": 4,
 "nbformat_minor": 4
}
