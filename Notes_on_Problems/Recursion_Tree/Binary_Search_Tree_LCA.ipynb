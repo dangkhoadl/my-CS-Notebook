{
 "cells": [
  {
   "cell_type": "markdown",
   "metadata": {},
   "source": [
    "# [LCA](https://leetcode.com/problems/lowest-common-ancestor-of-a-binary-search-tree/)\n",
    "\n",
    "```\n",
    "        6\n",
    "      /   \\\n",
    "     2     8\n",
    "    / \\   / \\\n",
    "   0   4 7   9\n",
    "      / \\\n",
    "     3   5\n",
    "     \n",
    "LCA(2,8) = 6\n",
    "LCA(2,4) = 2\n",
    "LCA(0,5) = 2\n",
    "```\n",
    "\n",
    "#### Solution\n",
    "- Note pattern: p <= LCA <= q\n",
    "\n",
    "```C++\n",
    "class Solution {\n",
    "public:\n",
    "    int p_val, q_val;\n",
    "    TreeNode* get_LCA(TreeNode* cur) {\n",
    "\n",
    "        // Case p, q in left sub tree: p < q < cur_val\n",
    "        if(p_val < cur->val && q_val < cur->val) return get_LCA(cur->left);\n",
    "\n",
    "        // case p,q in the right sub tree: cur_val < q < p\n",
    "        if(cur->val < q_val && cur->val < p_val) return get_LCA(cur->right);\n",
    "\n",
    "        // else cur node is LCA: p < cur_val < q\n",
    "        return cur;\n",
    "    }\n",
    "    TreeNode* lowestCommonAncestor(TreeNode* root, TreeNode* p, TreeNode* q) {\n",
    "        p_val = p->val;\n",
    "        q_val = q->val;\n",
    "        return get_LCA(root);\n",
    "    }\n",
    "};\n",
    "```"
   ]
  }
 ],
 "metadata": {
  "kernelspec": {
   "display_name": "Python 3.8",
   "language": "python",
   "name": "py38"
  },
  "language_info": {
   "codemirror_mode": {
    "name": "ipython",
    "version": 3
   },
   "file_extension": ".py",
   "mimetype": "text/x-python",
   "name": "python",
   "nbconvert_exporter": "python",
   "pygments_lexer": "ipython3",
   "version": "3.8.13"
  }
 },
 "nbformat": 4,
 "nbformat_minor": 4
}
