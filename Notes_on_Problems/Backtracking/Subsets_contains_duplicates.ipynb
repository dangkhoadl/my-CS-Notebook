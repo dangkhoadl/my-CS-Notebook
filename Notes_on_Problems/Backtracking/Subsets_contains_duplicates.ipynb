{
 "cells": [
  {
   "cell_type": "markdown",
   "metadata": {},
   "source": [
    "## [Generate all subset with duplicates](https://leetcode.com/problems/subsets-ii/)\n",
    "\n",
    "- Given a collection of integers that might contain duplicates, nums, return all possible subsets (the power set).\n",
    "\n",
    "- **Note**: The solution set must not contain duplicate subsets.\n",
    "- Example\n",
    "\n",
    "```\n",
    "Input: [1,2,2]\n",
    "Output:\n",
    "[\n",
    "  [2],\n",
    "  [1],\n",
    "  [1,2,2],\n",
    "  [2,2],\n",
    "  [1,2],\n",
    "  []\n",
    "]\n",
    "```\n",
    "\n",
    "#### Solution\n",
    "- Sort the array\n",
    "- 2 duplicates will be close to each other\n",
    "\n",
    "<img src=\"./img/12.jpg\" alt=\"drawing\" width=\"650\"/>\n",
    "\n",
    "```C++\n",
    "class Solution {\n",
    "public:\n",
    "    int N;\n",
    "    vector<int> a;\n",
    "\n",
    "    vector<vector<int>> ans;\n",
    "    vector<int> subs;\n",
    "    void dfs(int x) {\n",
    "        // x == n\n",
    "        ans.push_back(subs);\n",
    "\n",
    "        // backtrack\n",
    "        for(int i=x; i<N; ++i) {\n",
    "            if(i > x && a[i] == a[i-1]) continue; // skip duplicates\n",
    "\n",
    "            subs.push_back(a[i]);\n",
    "            dfs(i+1);\n",
    "            subs.pop_back();\n",
    "        }\n",
    "    }\n",
    "    vector<vector<int>> subsetsWithDup(vector<int>& nums) {\n",
    "        a = nums;\n",
    "        N = a.size();\n",
    "\n",
    "        sort(a.begin(), a.end());  // skip duplicates\n",
    "        dfs(0);\n",
    "        return ans;\n",
    "    }\n",
    "};\n",
    "```"
   ]
  }
 ],
 "metadata": {
  "kernelspec": {
   "display_name": "Python 3.8",
   "language": "python",
   "name": "py38"
  },
  "language_info": {
   "codemirror_mode": {
    "name": "ipython",
    "version": 3
   },
   "file_extension": ".py",
   "mimetype": "text/x-python",
   "name": "python",
   "nbconvert_exporter": "python",
   "pygments_lexer": "ipython3",
   "version": "3.8.13"
  }
 },
 "nbformat": 4,
 "nbformat_minor": 2
}
