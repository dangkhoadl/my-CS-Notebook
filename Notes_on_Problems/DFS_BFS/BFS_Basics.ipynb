{
 "cells": [
  {
   "cell_type": "code",
   "execution_count": 1,
   "metadata": {},
   "outputs": [],
   "source": [
    "A = [\n",
    "    [1,2,3],\n",
    "    [4,5,6],\n",
    "    [7,8,9]]"
   ]
  },
  {
   "cell_type": "markdown",
   "metadata": {},
   "source": [
    "#### Get distance by level"
   ]
  },
  {
   "cell_type": "code",
   "execution_count": 2,
   "metadata": {},
   "outputs": [
    {
     "name": "stdout",
     "output_type": "stream",
     "text": [
      "Distance from (0,0):\n",
      "  (0,0): 0\n",
      "  (0,1): 1\n",
      "  (1,0): 1\n",
      "  (0,2): 2\n",
      "  (1,1): 2\n",
      "  (2,0): 2\n",
      "  (1,2): 3\n",
      "  (2,1): 3\n",
      "  (2,2): 4\n"
     ]
    }
   ],
   "source": [
    "def bfs_level(A):\n",
    "    N = len(A)\n",
    "    M = len(A[0])\n",
    "    \n",
    "    vis = [ [False] * N for _ in range(M) ]\n",
    "    vis[0][0] = True\n",
    "    \n",
    "    Q = [(0,0)]\n",
    "    front = 0\n",
    "    dist = -1\n",
    "    while front < len(Q):\n",
    "        batch_size = len(Q)\n",
    "        dist += 1\n",
    "        \n",
    "        for _ in range(front, batch_size):\n",
    "            x, y = Q[front]\n",
    "            front += 1\n",
    "            \n",
    "            yield f'  ({x},{y}): {dist}'\n",
    "            \n",
    "            for x_, y_ in [(0,1), (1,0), (0,-1), (-1,0)]:\n",
    "                x_next = x + x_\n",
    "                y_next = y + y_\n",
    "                \n",
    "                if 0 <= x_next and x_next < N and \\\n",
    "                        0 <= y_next and y_next < M and \\\n",
    "                        vis[x_next][y_next] == False:\n",
    "                    Q.append((x_next, y_next))\n",
    "                    vis[x_next][y_next] = True\n",
    "\n",
    "print('Distance from (0,0):')\n",
    "for x in bfs_level(A): print(x)"
   ]
  },
  {
   "cell_type": "markdown",
   "metadata": {},
   "source": [
    "#### Get distance by dp"
   ]
  },
  {
   "cell_type": "code",
   "execution_count": 3,
   "metadata": {},
   "outputs": [
    {
     "name": "stdout",
     "output_type": "stream",
     "text": [
      "Distance from (0,0):\n"
     ]
    },
    {
     "data": {
      "text/plain": [
       "[[0, 1, 2], [1, 2, 3], [2, 3, 4]]"
      ]
     },
     "execution_count": 3,
     "metadata": {},
     "output_type": "execute_result"
    }
   ],
   "source": [
    "def bfs_dp(A):\n",
    "    N = len(A)\n",
    "    M = len(A[0])\n",
    "    INF = 1e9\n",
    "    \n",
    "    dist = [ [INF] * N for _ in range(M) ]\n",
    "    dist[0][0] = 0\n",
    "    \n",
    "    Q = [(0,0)]\n",
    "    front = 0\n",
    "    while front < len(Q):\n",
    "        x, y = Q[front]\n",
    "        front += 1\n",
    "\n",
    "        for x_, y_ in [(0,1), (1,0), (0,-1), (-1,0)]:\n",
    "            x_next = x + x_\n",
    "            y_next = y + y_\n",
    "\n",
    "            if 0 <= x_next and x_next < N and \\\n",
    "                    0 <= y_next and y_next < M and \\\n",
    "                    dist[x_next][y_next] == INF:\n",
    "                Q.append((x_next, y_next))\n",
    "                dist[x_next][y_next] = dist[x][y] + 1\n",
    "    return dist\n",
    "\n",
    "print('Distance from (0,0):')\n",
    "bfs_dp(A)"
   ]
  }
 ],
 "metadata": {
  "kernelspec": {
   "display_name": "Python 3.8",
   "language": "python",
   "name": "py38"
  },
  "language_info": {
   "codemirror_mode": {
    "name": "ipython",
    "version": 3
   },
   "file_extension": ".py",
   "mimetype": "text/x-python",
   "name": "python",
   "nbconvert_exporter": "python",
   "pygments_lexer": "ipython3",
   "version": "3.8.13"
  }
 },
 "nbformat": 4,
 "nbformat_minor": 4
}
