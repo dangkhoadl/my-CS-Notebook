{
 "cells": [
  {
   "cell_type": "markdown",
   "metadata": {},
   "source": [
    "```C++\n",
    "// Constructor\n",
    "struct Node {\n",
    "    int key;\n",
    "    int val;\n",
    "\n",
    "    Node(): key(0), val(0) {}\n",
    "    Node(int k, int v): key(k), val(v) {}\n",
    "};\n",
    "list<Node> A;\n",
    "list<Node>::iterator it;\n",
    "\n",
    "\n",
    "// Add/remove front\n",
    "A.push_front( Node(0, 1) );\n",
    "A.pop_front();\n",
    "\n",
    "// Add/remove back\n",
    "A.push_back( Node(10, 5) );\n",
    "A.pop_back();\n",
    "\n",
    "// Traverse\n",
    "it = A.begin();\n",
    "it = next(it, 1);\n",
    "\n",
    "// Insert/erase by it: 0 (it)1 2 --insert(5)--> 0 (it)5 1 2\n",
    "A.insert(it, Node(5,4));\n",
    "A.erase(it);\n",
    "```"
   ]
  }
 ],
 "metadata": {
  "kernelspec": {
   "display_name": "Python 3.7",
   "language": "python",
   "name": "py37"
  },
  "language_info": {
   "codemirror_mode": {
    "name": "ipython",
    "version": 3
   },
   "file_extension": ".py",
   "mimetype": "text/x-python",
   "name": "python",
   "nbconvert_exporter": "python",
   "pygments_lexer": "ipython3",
   "version": "3.7.9"
  }
 },
 "nbformat": 4,
 "nbformat_minor": 4
}
