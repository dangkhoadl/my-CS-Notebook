{
 "cells": [
  {
   "cell_type": "markdown",
   "metadata": {},
   "source": [
    "#### Notes\n",
    "- Consider `set` vs `multiset` cases\n",
    "\n",
    "#### Quick check if c in `{'a', 's', 'd'}`\n",
    "\n",
    "```cpp\n",
    "unordered_set<char>({'a','s','d'}).count(c) == true;\n",
    "```\n",
    "\n",
    "\n",
    "```cpp\n",
    "// Add to set\n",
    "s.insert(1);\n",
    "\n",
    "// Check\n",
    "s.count(1) == true;\n",
    "s.count(1) == false;\n",
    "\n",
    "// Remove\n",
    "s.erase(1);\n",
    "```\n"
   ]
  },
  {
   "cell_type": "markdown",
   "metadata": {},
   "source": [
    "# multiset\n",
    "## 1. multiset delete elements\n",
    "\n",
    "```cpp\n",
    "multiset<int> A(multiset<int>({2,2,2,3,3,5,9}));\n",
    "\n",
    "int del_val = 2;\n",
    "\n",
    "// Del 1 elem, note may del wrong elem if elem not exist\n",
    "// {2,2,3,3,5,9}\n",
    "A.erase(A.lower_bound(del_val));\n",
    "\n",
    "// Del all val\n",
    "// {3,3,5,9}\n",
    "A.erase(del_val);\n",
    "```\n",
    "\n",
    "## 2. multiset as PQ\n",
    "\n",
    "```cpp\n",
    "multiset<int> PQ({1,2,3,4,4,4,4,5,6,6});\n",
    "\n",
    "// pop min\n",
    "assert(PQ.size() > 0);\n",
    "int val = *PQ.begin();\n",
    "PQ.erase(PQ.begin());\n",
    "\n",
    "// pop max\n",
    "assert(PQ.size() > 0);\n",
    "int val = *PQ.rbegin();\n",
    "PQ.erase(prev(PQ.end()));\n",
    "\n",
    "// pop i-th small\n",
    "int i = 2;\n",
    "\n",
    "assert(PQ.size() > i);\n",
    "auto it = next(PQ.begin(), i);\n",
    "int val = *it;\n",
    "PQ.erase(it);\n",
    "\n",
    "\n",
    "// pop by key\n",
    "int val = 4;\n",
    "\n",
    "assert(PQ.size() > 0);\n",
    "auto it = PQ.find(val);\n",
    "if(it != PQ.end()) PQ.erase(PQ.lower_bound(val));\n",
    "```"
   ]
  }
 ],
 "metadata": {
  "kernelspec": {
   "display_name": "Python 3.7",
   "language": "python",
   "name": "py37"
  },
  "language_info": {
   "codemirror_mode": {
    "name": "ipython",
    "version": 3
   },
   "file_extension": ".py",
   "mimetype": "text/x-python",
   "name": "python",
   "nbconvert_exporter": "python",
   "pygments_lexer": "ipython3",
   "version": "3.7.9"
  }
 },
 "nbformat": 4,
 "nbformat_minor": 4
}
