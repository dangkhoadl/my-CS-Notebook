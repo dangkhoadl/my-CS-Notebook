{
 "cells": [
  {
   "cell_type": "markdown",
   "metadata": {},
   "source": [
    "\n",
    "#### Quick check if c in `{'a', 's', 'd'}`\n",
    "\n",
    "```cpp\n",
    "unordered_set<char>({'a','s','d'}).count(c) == true;\n",
    "```\n",
    "\n",
    "\n",
    "```cpp\n",
    "// Add to set\n",
    "s.insert(1);\n",
    "\n",
    "// Check\n",
    "s.count(1) == true;\n",
    "s.count(1) == false;\n",
    "\n",
    "// Remove\n",
    "s.erase(1);\n",
    "```\n"
   ]
  }
 ],
 "metadata": {
  "kernelspec": {
   "display_name": "Python 3.7",
   "language": "python",
   "name": "py37"
  },
  "language_info": {
   "codemirror_mode": {
    "name": "ipython",
    "version": 3
   },
   "file_extension": ".py",
   "mimetype": "text/x-python",
   "name": "python",
   "nbconvert_exporter": "python",
   "pygments_lexer": "ipython3",
   "version": "3.7.9"
  }
 },
 "nbformat": 4,
 "nbformat_minor": 4
}
