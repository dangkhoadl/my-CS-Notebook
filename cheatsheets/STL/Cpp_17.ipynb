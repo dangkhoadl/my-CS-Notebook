{
 "cells": [
  {
   "cell_type": "markdown",
   "metadata": {},
   "source": [
    "# Functional Programming\n",
    "\n",
    "```C++\n",
    "auto foo = [&](vector<int> nums) -> int {\n",
    "    int sums = 0;\n",
    "    for(int &num: nums) sums += num;\n",
    "    return sums;\n",
    "};\n",
    "\n",
    "cout << foo(vector<int>({1,2,3})) << endl;\n",
    "```"
   ]
  },
  {
   "cell_type": "markdown",
   "metadata": {},
   "source": [
    "# Return multiple vals\n",
    "\n",
    "```Cpp\n",
    "// pair\n",
    "pair<int, string> get() {\n",
    "    return {0, \"Hello\"};\n",
    "}\n",
    "auto [val_int, val_str] = get();\n",
    "\n",
    "\n",
    "// tuple\n",
    "tuple<int, int, double, string> get() {\n",
    "    return {0, 1, 5.5, \"Hello\"};\n",
    "}\n",
    "auto [val_0, val_1, val_double, val_str] = get();\n",
    "```"
   ]
  }
 ],
 "metadata": {
  "kernelspec": {
   "display_name": "Python 3.8",
   "language": "python",
   "name": "py38"
  },
  "language_info": {
   "codemirror_mode": {
    "name": "ipython",
    "version": 3
   },
   "file_extension": ".py",
   "mimetype": "text/x-python",
   "name": "python",
   "nbconvert_exporter": "python",
   "pygments_lexer": "ipython3",
   "version": "3.8.13"
  }
 },
 "nbformat": 4,
 "nbformat_minor": 4
}
