{
 "cells": [
  {
   "cell_type": "markdown",
   "metadata": {},
   "source": [
    "# 1. Decrease/ Increase pointers\n",
    "\n",
    "```C++\n",
    "// decrease\n",
    "prev(it);   // --it\n",
    "prev(it, 2); // it -= 2;\n",
    "\n",
    "// increase\n",
    "next(it);   // ++it\n",
    "next(it, 2); // it += 2;\n",
    "```"
   ]
  },
  {
   "cell_type": "markdown",
   "metadata": {},
   "source": [
    "# 2. C++ lower_bound, upper_bound pointers\n",
    "\n",
    "- **upper_bound(value)** return first element which is **> value**. `If not exist, return end()`\n",
    "    + **prev(upper_bound(value))** return first element which is **≤ value**. `If not exist, upper_bound(value) == begin()`\n",
    "- **lower_bound(value)** return first element which is **≥ value**. `If not, return end()`\n",
    "    + **prev(lower_bound(value))** return first element which is **< value**. `If not exist, lower_bound(value) == begin()`\n",
    "\n",
    "\n",
    "<img src=\"./img/2.jpg\" alt=\"drawing\" width=\"650\"/>\n",
    "\n",
    "- Trick: to avoid not exist using prev(it). Insert {0, MIN_VAL} to compare\n",
    "\n",
    "```Cpp\n",
    "map<int, int> dp;\n",
    "dp.insert( {0, 0} );\n",
    "\n",
    "prev(dp.upper_bound(value))\n",
    "```"
   ]
  }
 ],
 "metadata": {
  "kernelspec": {
   "display_name": "Python 3.7",
   "language": "python",
   "name": "py37"
  },
  "language_info": {
   "codemirror_mode": {
    "name": "ipython",
    "version": 3
   },
   "file_extension": ".py",
   "mimetype": "text/x-python",
   "name": "python",
   "nbconvert_exporter": "python",
   "pygments_lexer": "ipython3",
   "version": "3.7.9"
  }
 },
 "nbformat": 4,
 "nbformat_minor": 4
}
