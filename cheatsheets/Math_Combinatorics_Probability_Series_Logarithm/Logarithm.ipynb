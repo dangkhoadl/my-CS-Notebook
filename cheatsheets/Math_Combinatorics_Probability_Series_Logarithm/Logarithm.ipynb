{
 "cells": [
  {
   "cell_type": "markdown",
   "metadata": {},
   "source": [
    "#### Exponent Rules\n",
    "\n",
    "$$\\begin{split}\n",
    "& a^m * a^n = a^{m+n} \\\\\n",
    "& \\frac{a^m}{a^n} = a^{m-n} \\\\\n",
    "&  \\left(a^m \\right)^n = a^{mn} \\\\\n",
    "\\end{split}$$"
   ]
  },
  {
   "cell_type": "markdown",
   "metadata": {},
   "source": [
    "#### Logarithm Rules \n",
    "Single\n",
    "$$\\begin{split}\n",
    "& log_aa = 1 \\\\\n",
    "& log_a1 = 0 \\\\\n",
    "& log_a \\left( \\frac{1}{m} \\right) = -log_am \\\\\n",
    "& log_am = \\frac{1}{log_ma} \\\\\n",
    "\\end{split}$$\n",
    "\n",
    "Multi\n",
    "$$\\begin{split}\n",
    "& log_a(mn) = log_am + log_an \\\\\n",
    "& log_a \\left( \\frac{m}{n} \\right) = log_am - log_an \\\\\n",
    "& log_a(m^n) = n*log_am\\\\\n",
    "& log_mn = \\frac{log_an}{log_am} \\\\\n",
    "\\end{split}$$\n",
    "\n",
    "Advanced\n",
    "$$\\begin{split}\n",
    "& m = a^{log_am} \\\\\n",
    "& log_{a^\\alpha}m = \\frac{1}{\\alpha}log_am \\\\\n",
    "& log_{a^\\alpha}b^\\beta = \\frac{\\beta}{\\alpha} log_ab \\\\\n",
    "& log_am * log_ma = 1 \\\\\n",
    "& a^{log_cb} = b^{log_ca}\\ (a,b,c > 0, c \\neq 1) \\\\\n",
    "\\end{split}$$"
   ]
  }
 ],
 "metadata": {
  "kernelspec": {
   "display_name": "Python 3.8",
   "language": "python",
   "name": "py38"
  },
  "language_info": {
   "codemirror_mode": {
    "name": "ipython",
    "version": 3
   },
   "file_extension": ".py",
   "mimetype": "text/x-python",
   "name": "python",
   "nbconvert_exporter": "python",
   "pygments_lexer": "ipython3",
   "version": "3.8.13"
  }
 },
 "nbformat": 4,
 "nbformat_minor": 4
}
