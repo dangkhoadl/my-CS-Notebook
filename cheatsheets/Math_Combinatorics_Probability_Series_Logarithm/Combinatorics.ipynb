{
 "cells": [
  {
   "cell_type": "markdown",
   "metadata": {},
   "source": [
    "# 1. Permutation\n",
    "\n",
    "$$P^k_n = \\frac{n!}{(n-k)!} $$"
   ]
  },
  {
   "cell_type": "markdown",
   "metadata": {},
   "source": [
    "# 2. Binomial coefficients\n",
    "$$C^k_n = \\frac{n!}{k!(n-k)!} = \\frac{n(n-1)(n-2)...(n-k+1)}{k(k-1)(k-2)...1}$$\n",
    "\n",
    "\n",
    "- Properties 1\n",
    "    + Divide a set of n elements into two subsets\n",
    "    + the first contains k elements \n",
    "    + the second contains n − k elements.\n",
    "$$C_n^k = C^{n-k}_n$$\n",
    "\n",
    "- Properties 2\n",
    "    + fix an element x in the set\n",
    "    + If x is included in the subset, we have to choose k − 1 elements from n − 1 elements\n",
    "    + If x is not included in the subset, we have to choose k elements from n − 1 elements.\n",
    "$$C^k_n = C^{k-1}_{n-1} + C^{k}_{n-1}$$\n",
    "\n",
    "\n",
    "- Other Properties\n",
    "\n",
    "$$C^{0}_{n} = C^{n}_n = 1$$\n",
    "$$C^{1}_{n} = n$$\n",
    "\n",
    "#### Recurrence relation of $C^2_n$ \n",
    "- Let\n",
    "\n",
    "$$f(n) = \\begin{cases}\n",
    "    0, \\text{if } n = 1 \\\\\n",
    "    f(n-1) + n-1, \\text{if } n > 1\n",
    "\\end{cases}\n",
    "$$\n",
    "\n",
    "- Expand and simplify\n",
    "\n",
    "$$\\begin{split}\n",
    "f(n) &= (n-1) + f(n-1) \\\\\n",
    "    &= (n-1) + (n-2) + f(n-2) \\\\\n",
    "    &= (n-1) + (n-2) + (n-3) + \\dots + 2 + 1\n",
    "    &= \\frac{n(n-1)}{2} = C_n^2\n",
    "\\end{split}$$\n"
   ]
  },
  {
   "cell_type": "code",
   "execution_count": 1,
   "metadata": {},
   "outputs": [
    {
     "name": "stdout",
     "output_type": "stream",
     "text": [
      "True\n"
     ]
    }
   ],
   "source": [
    "import random\n",
    "\n",
    "def f(n): return f(n-1) + (n-1) if n > 1 else 0\n",
    "def com_n_choose_2(n): return n*(n-1)//2\n",
    "\n",
    "\n",
    "n = random.randint(0, 1000)\n",
    "print(f(n) == com_n_choose_2(n))"
   ]
  },
  {
   "cell_type": "markdown",
   "metadata": {},
   "source": [
    "#### Binomial theorem\n",
    "$$(a+b)^n = C_n^0a^nb^0 + C_n^1a^{n-1}b^1 + ... + C^k_na^{n-k}b^k + ... + C_n^na^0b^n = \\sum\\limits_{k=0}^{n}C^k_na^{n-k}b^k$$\n",
    "\n",
    "- Examples\n",
    "    + a = 1, b = x \n",
    "$$(1+x)^n = C^0_nx^0 + C^1_nx^1 + ... + C^k_nx^k + ... + C_n^nx^n = \\sum\\limits_{k=0}^{n}C^k_nx^k $$\n",
    "\n",
    "    + a = 1, b = 1\n",
    "$$2^n = C^0_n + C^1_n + ... + C^k_n + ... + C^n_n = \\sum\\limits_{k=0}^{n}C^k_n$$\n",
    "\n",
    "    + a = 1, b = -1\n",
    "$$0 = C^0_n - C^1_n + C^2_n - C^3_n + ... + (-1)^kC_n^k + ... + (-1)^nC_n^n = \\sum\\limits_{k=0}^{n}(-1)^kC_n^k$$\n",
    "$$C^0_n + C^2_n + C^4_n + ... = C^1_n + C^3_n + C^5_n + ...$$\n",
    "\n",
    "    + n = 2\n",
    "$$(x+y)^2 = x^2 + 2xy + y^2$$\n",
    "\n",
    "    + n = 3\n",
    "$$(x+y)^3 = x^3 + 3x^2y + 3xy^2 + y^3$$"
   ]
  },
  {
   "cell_type": "markdown",
   "metadata": {},
   "source": [
    "#### Combinatorics and statistics\n",
    "- There are $C^k_n$ ways to choose k elements from a set of n elements. (Set)\n",
    "- There are $C^k_{n+k-1}$ ways to choose k elements from a set of n elements if repetitions are allowed. (Multiset)\n",
    "- There are $C^k_{n+k}$ strings containing k ones and n zeros.\n",
    "- There are $C^k_{n+1}$ strings consisting of k ones and n zeros such that no two ones are adjacent\n"
   ]
  },
  {
   "cell_type": "markdown",
   "metadata": {},
   "source": [
    "# 3. Catalan Number\n",
    "$$\\frac{1}{n+1}C^n_{2n}$$"
   ]
  },
  {
   "cell_type": "markdown",
   "metadata": {},
   "source": [
    "# 4. Bionomial Distribution\n",
    "\n",
    "$$C_n^kp^k(1-p)^{n-k}$$"
   ]
  }
 ],
 "metadata": {
  "kernelspec": {
   "display_name": "Python 3.8",
   "language": "python",
   "name": "py38"
  },
  "language_info": {
   "codemirror_mode": {
    "name": "ipython",
    "version": 3
   },
   "file_extension": ".py",
   "mimetype": "text/x-python",
   "name": "python",
   "nbconvert_exporter": "python",
   "pygments_lexer": "ipython3",
   "version": "3.8.13"
  }
 },
 "nbformat": 4,
 "nbformat_minor": 2
}
