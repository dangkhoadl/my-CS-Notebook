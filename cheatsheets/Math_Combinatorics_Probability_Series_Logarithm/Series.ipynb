{
 "cells": [
  {
   "cell_type": "markdown",
   "metadata": {},
   "source": [
    "## Summation Properties\n",
    "- Given\n",
    "    + array `x` = {$x_0, x_1, ..., x_i, ..., x_{n-1}$}\n",
    "    + array `y` = {$y_0, y_1, ..., y_i, ..., y_{n-1}$}\n",
    "    + constant `c`\n",
    "\n",
    "$$\\sum_{i=0}^{n-1}c = cn$$\n",
    "$$\\sum_{i=0}^{n-1}cx[i] = c\\sum_{i=0}^{n-1}x[i]$$\n",
    "$$\\sum_{i=0}^{n-1}(x[i] + y[i]) = \\sum_{i=0}^{n-1}x[i] + \\sum_{i=0}^{n-1}y[i]$$\n",
    "$$\\sum_{i=0}^{n-1}(x[i] - y[i]) = \\sum_{i=0}^{n-1}x[i] - \\sum_{i=0}^{n-1}y[i]$$\n",
    "$$\\sum_{i=0}^{n-1}x[i] = \\sum_{i=0}^{a}x[i] + \\sum_{i=a+1}^{n-1}x[i]$$\n",
    "\n",
    "\n",
    "##### Prefix Sum\n",
    "- Given an array `x` = {$x_0, x_1, ..., x_i, ..., x_{n-1}$}:\n",
    "$$\\sum_{i=a}^{b}x[i] = \\sum_{i=0}^{b}x[i] - \\sum_{i=0}^{a-1}x[i]$$\n",
    "\n",
    "\n",
    "\n"
   ]
  },
  {
   "cell_type": "markdown",
   "metadata": {},
   "source": [
    "\n",
    "## Series\n",
    "- Arithmetic Series\n",
    "    + $a_1 = a,\\ a_2 = a + d,\\ a_3 = a + 2d,...,\\ a_n=a+(n-1)d$\n",
    "$$S = a_1 + a_2 + a_3 + ... + a_n = \\sum_{k=1}^{n}a+(k-1)d$$\n",
    "\n",
    "\n",
    "$$=\\frac{n(a_1+a_n)}{2} = \\frac{n[2a+(n-1)d]}{2} = na+\\frac{n(n-1)d}{2}$$\n",
    "\n",
    "- Arithmetic Series - Sequential Integer (1,2,3,4...)\n",
    "$$\\sum_{k=1}^nk=\\frac{n(n+1)}{2}$$\n",
    "\n",
    "- Arithmetic Series - Sequential Integer (1,2,3,4...)\n",
    "$$\\sum_{k=1}^n(k-1)=\\frac{n(n-1)}{2}$$\n",
    "\n",
    "- Arithmetic Series - Sequential kx Integer (x,2x,3x,4x...), Example x=3: (3,6,9,12...)\n",
    "$$\\sum_{k=1}^n{kx}=\\frac{xn(n+1)}{2}$$\n",
    "\n",
    "- Arithmetic Series - Squared Integer (1,4,9,16...)\n",
    "$$\\sum_{k=1}^nk^2=\\frac{n(n+1)(2n+1)}{6}$$\n",
    "\n",
    "- Arithmetic Series - Cubed Integer (1,8,27,64...)\n",
    "$$\\sum_{k=1}^nk^3=\\frac{n^2(n+1)^2}{4}$$\n",
    "\n",
    "- Arithmetic Series - Odd Integer (1,3,5,7...)\n",
    "$$\\sum_{k=1}^n(2k-1)=n^2$$\n",
    "\n",
    "- Arithmetic Series - Even Integer (2,4,6,8...)\n",
    "$$\\sum_{k=1}^n{2k}=n(n+1)$$\n",
    "\n",
    "- Geometric Series\n",
    "$$\\sum_{k=1}^nax^{k-1}= a + ax + ax^2 + ... + ax^{n-1} = \\frac{a(x^n - 1)}{x-1}$$\n",
    "\n",
    "- Geometric Series - a = 1\n",
    "$$\\sum_{k=0}^nx^{k}= 1 + x + x^2 + ... + x^n = \\frac{x^{n+1} - 1}{x-1}$$\n",
    "\n",
    "- Recurrence series. Let f(n) = f(n-1) + (n-1)\n",
    "\n",
    "$$\\begin{split}\n",
    "f(n) &= (n-1) + f(n-1) \\\\\n",
    "    &= (n-1) + (n-2) + f(n-2) \\\\\n",
    "    &= (n-1) + (n-2) + (n-3) + \\dots + 2 + 1 \\\\\n",
    "    &= \\sum\\limits_{k=1}^{n} (k-1) = \\frac{n(n-1)}{2} = C_n^2\n",
    "\\end{split}$$"
   ]
  },
  {
   "cell_type": "markdown",
   "metadata": {},
   "source": [
    "## Convergent series (Geometric Series - Infinite)\n",
    "\n",
    "- |x| < 1\n",
    "$$\\sum_{k=0}^{\\infty}x^k = 1 + x + x^2 + ... = \\frac{1}{1-x}$$\n",
    "\n",
    "- |x| < 1\n",
    "$$\\sum_{k=1}^{\\infty} x^{k-1} = 1 + x + x^2 + ... = \\frac{1}{1-x}$$\n",
    "\n",
    "- |x| < 1\n",
    "$$\\sum_{k=0}^{\\infty}ax^{k}= a + ax + ax^2 + ...=\\frac{a}{1-x}$$\n",
    "\n",
    "- |x| < 1\n",
    "$$\\sum_{k=1}^{\\infty}ax^{k-1}= a + ax + ax^2 + ...=\\frac{a}{1-x}$$\n",
    "\n",
    "- |x| < 1\n",
    "$$\\sum_{k=0}^{\\infty}(k+1)x^k=\\sum_{k=1}^{\\infty}kx^{k-1}=1 + 2x + 3x^2 + ... = \\frac{1}{(1-x)^2}$$\n",
    "\n",
    "- |a| < 1, |x| < 1\n",
    "$$\\sum_{k=0}^{\\infty}a^kx^k= 1 + ax + a^2x^2 + ... = \\frac{1}{1-ax}$$\n"
   ]
  },
  {
   "cell_type": "markdown",
   "metadata": {},
   "source": [
    "## Combinatorics series\n",
    "\n",
    "\n",
    "- |x| < 1\n",
    "$$\\sum_{k=0}^{\\infty}C^k_{n+k-1}x^k = 1 + C_n^1x + C_{n+1}^2x^2 + ... = \\frac{1}{(1-x)^n}$$\n",
    "\n",
    "- |x| < 1\n",
    "$$\\sum_{k=0}^{\\infty}C^k_{n+k-1}(-1)^kx^k = 1 - C_n^1x + C_{n+1}^2x^2 - ... = \\frac{1}{(1+x)^n}$$\n",
    "\n",
    "- |a| < 1, |x| < 1\n",
    "$$\\sum_{k=0}^{\\infty}C^k_{n+k-1}a^kx^k = 1 + C_n^1ax + C_{n+1}^2a^2x^2 + ... = \\frac{1}{(1-ax)^n}$$"
   ]
  },
  {
   "cell_type": "markdown",
   "metadata": {},
   "source": [
    "## Maclaurin series\n",
    "- |x| < 1\n",
    "$$\\sum_{k=0}^\\infty\\frac{x^k}{k!} = 1 + x + \\frac{x^2}{2!} + \\frac{x^3}{3!} + ... = e^x$$\n",
    "\n",
    "- |x| < 1\n",
    "$$\\sum_{k=1}^\\infty\\frac{(-1)^{k+1}}{k}x^k = x - \\frac{x^2}{2} + \\frac{x^3}{3} - \\frac{x^4}{4} + ... = ln(1+x)$$"
   ]
  }
 ],
 "metadata": {
  "kernelspec": {
   "display_name": "Python 3.8",
   "language": "python",
   "name": "py38"
  },
  "language_info": {
   "codemirror_mode": {
    "name": "ipython",
    "version": 3
   },
   "file_extension": ".py",
   "mimetype": "text/x-python",
   "name": "python",
   "nbconvert_exporter": "python",
   "pygments_lexer": "ipython3",
   "version": "3.8.13"
  }
 },
 "nbformat": 4,
 "nbformat_minor": 2
}
