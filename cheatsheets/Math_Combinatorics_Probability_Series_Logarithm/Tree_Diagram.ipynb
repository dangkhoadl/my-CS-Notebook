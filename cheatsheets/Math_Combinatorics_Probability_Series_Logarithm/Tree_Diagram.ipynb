{
 "cells": [
  {
   "cell_type": "markdown",
   "metadata": {},
   "source": [
    "# Counting\n",
    "- Count number of the bit strings\n",
    "    + size = 4\n",
    "    + without 2 consecutive bit '1'\n",
    "    \n",
    "#### Solution\n",
    "- 8\n",
    "<img src=\"./img/6.jpg\" alt=\"drawing\" width=\"500\"/>\n"
   ]
  },
  {
   "cell_type": "markdown",
   "metadata": {},
   "source": [
    "# Probability Tree\n",
    "\n",
    "```py\n",
    "def get(cur):\n",
    "    if prefer_base_case: return 1.0\n",
    "    if not_prefer_base_case: return 0.0\n",
    "\n",
    "    sub_1_prob = get(sub_1)\n",
    "    sub_2_prob = get(sub_2)\n",
    "    sub_3_prob = get(sub_3)\n",
    "    \n",
    "    return 0.25*sub_1_prob + 0.4*sub_2_prob + 0.35*sub_3_prob\n",
    "```\n",
    "\n",
    "\n",
    "<img src=\"./img/9.jpg\" width=\"600\"/>\n"
   ]
  }
 ],
 "metadata": {
  "kernelspec": {
   "display_name": "Python 3.8",
   "language": "python",
   "name": "py38"
  },
  "language_info": {
   "codemirror_mode": {
    "name": "ipython",
    "version": 3
   },
   "file_extension": ".py",
   "mimetype": "text/x-python",
   "name": "python",
   "nbconvert_exporter": "python",
   "pygments_lexer": "ipython3",
   "version": "3.8.13"
  }
 },
 "nbformat": 4,
 "nbformat_minor": 2
}
