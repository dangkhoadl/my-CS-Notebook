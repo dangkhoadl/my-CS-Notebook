{
 "cells": [
  {
   "cell_type": "markdown",
   "metadata": {},
   "source": [
    "#### Note\n",
    "- `rand()` return an **integer** in range `[0, RAND_MAX]`"
   ]
  },
  {
   "cell_type": "markdown",
   "metadata": {},
   "source": [
    "# 1. Rand Int\n",
    "#### Naive\n",
    "\n",
    "```Cpp\n",
    "// Random in range [a, b)\n",
    "int rand_int(int a, int b) {\n",
    "    return a + rand() % (b-a);\n",
    "}\n",
    "```\n",
    "\n",
    "#### True Random\n",
    "\n",
    "```Cpp\n",
    "// Random in range [a, b)\n",
    "int rand_int(int a, int b) {\n",
    "    // Seed with a real random value, if available\n",
    "    std::random_device r;\n",
    " \n",
    "    // Choose a random mean\n",
    "    std::default_random_engine e1(r());\n",
    "    std::uniform_int_distribution<int> uniform_dist(a, b-1);\n",
    "    return uniform_dist(e1);\n",
    "}\n",
    "```\n",
    "\n",
    "#### Random seed by `rand_int`\n",
    "\n",
    "```Cpp\n",
    "srand(time(0) + rand_int(0, 1e9));\n",
    "```"
   ]
  },
  {
   "cell_type": "markdown",
   "metadata": {},
   "source": [
    "# 2. Rand double\n",
    "\n",
    "#### Exclusive\n",
    "```Cpp\n",
    "double rand_double(double a, double b) {\n",
    "    // Range [a, b)\n",
    "    return a + static_cast<double>(rand())/(static_cast<double>(RAND_MAX)+1.0)*(b-a);\n",
    "}\n",
    "```\n",
    "\n",
    "#### Inclusive\n",
    "```Cpp\n",
    "double rand_double(double a, double b) {\n",
    "    // Range [a, b]\n",
    "    return a + static_cast<double>(rand())/static_cast<double>(RAND_MAX)*(b-a);\n",
    "}\n",
    "```"
   ]
  },
  {
   "cell_type": "markdown",
   "metadata": {},
   "source": [
    "# 3. Random with probability\n",
    "#### double\n",
    "```Cpp\n",
    "// Output: True/False\n",
    "// Input: Probability of True\n",
    "//      Eg: P(true) = 0.8\n",
    "bool rand_prob(double prob) {\n",
    "    return rand() <  prob * (static_cast<double>(RAND_MAX) + 1.0);\n",
    "}\n",
    "```\n",
    "\n",
    "#### Integer\n",
    "```Cpp\n",
    "// Output: True/False\n",
    "// Input: Probability of True in a/b\n",
    "//      Eg: P(true) = 4/5\n",
    "bool rand_prob(int a, int b) {\n",
    "    assert(a <= b);\n",
    "    return rand()%b < a;\n",
    "}\n",
    "```"
   ]
  },
  {
   "cell_type": "markdown",
   "metadata": {},
   "source": [
    "# 4. Shuffle\n",
    "#### Method 1\n",
    "```Cpp\n",
    "unsigned seed = std::chrono::system_clock::now().time_since_epoch().count();\n",
    "shuffle(nums.begin(), nums.end(), default_random_engine(seed));\n",
    "```\n",
    "\n",
    "#### Method 2 - Not affected by `srand(time(0) + rand_int(0, 1e9))`\n",
    "```Cpp\n",
    "mt19937 rng(5);\n",
    "shuffle(nums.begin(), nums.end(), rng);\n",
    "```"
   ]
  }
 ],
 "metadata": {
  "kernelspec": {
   "display_name": "Python 3.8",
   "language": "python",
   "name": "py38"
  },
  "language_info": {
   "codemirror_mode": {
    "name": "ipython",
    "version": 3
   },
   "file_extension": ".py",
   "mimetype": "text/x-python",
   "name": "python",
   "nbconvert_exporter": "python",
   "pygments_lexer": "ipython3",
   "version": "3.8.13"
  }
 },
 "nbformat": 4,
 "nbformat_minor": 4
}
