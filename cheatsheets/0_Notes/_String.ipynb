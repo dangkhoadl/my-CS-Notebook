{
 "cells": [
  {
   "cell_type": "markdown",
   "metadata": {},
   "source": [
    "## Hash table for string\n",
    "- ASCII characters\n",
    "\n",
    "```C++\n",
    "vector<int> cnt(128, 0);\n",
    "for(const auto &c: t) cnt[c] += 1;\n",
    "```\n",
    "\n",
    "- All lower case character\n",
    "\n",
    "```C++\n",
    "vector<int> cnt(26, 0);\n",
    "for(const char &c:s) cnt[c-'a'] += 1;\n",
    "```\n",
    "\n",
    "\n",
    "## Anagram\n",
    "- Words that have rearranged characters. Eg:\n",
    "    + \"listen\" = \"silent\"\n",
    "    + \"funeral\" = \"real fun\"\n",
    "- Solve\n",
    "    + Sort characters -> compare\n",
    "    + Note: sort using count sort O(k)\n",
    "        + k = size of the alphabet\n",
    "\n",
    "```C++\n",
    "string count_sort(const string &s) {\n",
    "    // count\n",
    "    vector<int> cnt(26, 0);\n",
    "    for(const char &c:s) cnt[c-'a'] += 1;\n",
    "\n",
    "    // Sort\n",
    "    string res = \"\";\n",
    "    for(int i=0; i<26; ++i) res += string(cnt[i], 'a'+i); \n",
    "        // Fill n*c / Eg: \"bbbb\" / n = 4, c = 'b'\n",
    "        // string(size_t n, char c)\n",
    "    return res;\n",
    "}\n",
    "```\n",
    "\n",
    "## Rotated string\n",
    "- [Check if string `s` can be rotated into `goal`](https://leetcode.com/problems/rotate-string/)\n",
    "    + Example: s = \"abcde\" -> goal = \"cdeab\";\n",
    "\n",
    "```C++\n",
    "(s.size() == goal.size()) && ((s + s).find(goal) != -1)\n",
    "```\n",
    "\n",
    "## Notes on () recursion\n",
    "- `(`\n",
    "    + call the recursive func\n",
    "- `)`\n",
    "    + Finish all operations\n",
    "    + return the recursive func\n",
    "- get(int &i)\n",
    "    + Put a reference to update current position after return from ')'\n",
    "\n",
    "## DP\n",
    "- Consider bottomup DP\n"
   ]
  },
  {
   "cell_type": "markdown",
   "metadata": {},
   "source": [
    "## Lexicographical Order Subsequence\n",
    "- **Tip**\n",
    "    + Compare characters and string like numbers (`a` < `b`), (`abc` < `acb`), (`123` < `132`)\n",
    "    + Use **Monotonic** structures (stack, deque) to solve"
   ]
  }
 ],
 "metadata": {
  "kernelspec": {
   "display_name": "Python 3.8",
   "language": "python",
   "name": "py38"
  },
  "language_info": {
   "codemirror_mode": {
    "name": "ipython",
    "version": 3
   },
   "file_extension": ".py",
   "mimetype": "text/x-python",
   "name": "python",
   "nbconvert_exporter": "python",
   "pygments_lexer": "ipython3",
   "version": "3.8.13"
  }
 },
 "nbformat": 4,
 "nbformat_minor": 4
}
