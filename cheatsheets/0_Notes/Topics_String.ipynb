{
 "cells": [
  {
   "cell_type": "markdown",
   "metadata": {},
   "source": [
    "# 1. Hash table for string\n",
    "- ASCII characters\n",
    "\n",
    "```C++\n",
    "vector<int> cnt(128, 0);\n",
    "for(const auto &c: t) cnt[c] += 1;\n",
    "```\n",
    "\n",
    "- All lower case character\n",
    "\n",
    "```C++\n",
    "vector<int> cnt(26, 0);\n",
    "for(const char &c:s) cnt[c-'a'] += 1;\n",
    "```\n",
    "\n",
    "\n",
    "# 2. Anagram\n",
    "- Words that have rearranged characters. Eg:\n",
    "    + \"listen\" = \"silent\"\n",
    "    + \"funeral\" = \"real fun\"\n",
    "- Solve\n",
    "    + Sort characters -> compare\n",
    "    + Note: sort using count sort O(k)\n",
    "        + k = size of the alphabet\n",
    "\n",
    "```C++\n",
    "string count_sort(const string &s) {\n",
    "    // count\n",
    "    vector<int> cnt(26, 0);\n",
    "    for(const char &c:s) cnt[c-'a'] += 1;\n",
    "\n",
    "    // Sort\n",
    "    string res = \"\";\n",
    "    for(int i=0; i<26; ++i) res += string(cnt[i], 'a'+i); \n",
    "        // Fill n*c / Eg: \"bbbb\" / n = 4, c = 'b'\n",
    "        // string(size_t n, char c)\n",
    "    return res;\n",
    "}\n",
    "```\n",
    "\n",
    "# 3. Rotated string\n",
    "- [Check if string `s` can be rotated into `goal`](https://leetcode.com/problems/rotate-string/)\n",
    "    + Example: s = \"abcde\" -> goal = \"cdeab\";\n",
    "\n",
    "```C++\n",
    "(s.size() == goal.size()) && ((s + s).find(goal) != -1)\n",
    "```\n",
    "\n",
    "# 4. Notes on () recursion\n",
    "- `(`\n",
    "    + call the recursive func\n",
    "- `)`\n",
    "    + Finish all operations\n",
    "    + return the recursive func\n",
    "- get(int &i)\n",
    "    + Put a reference to update current position after return from ')'\n",
    "\n",
    "# 5. DP\n",
    "- Consider bottomup DP\n",
    "\n",
    "#### Propagate subsequence\n",
    "\n",
    "```Cpp\n",
    "// 2 string A, B\n",
    "dp[i+1][j+1] = max(dp[i+1][j], dp[i][j+1]);\n",
    "\n",
    "// Subsequence within a string\n",
    "dp[i][j] = max(dp[i+1][j], dp[i][j-1]);\n",
    "```\n",
    "\n",
    "# 6. Lexicographical Order Subsequence\n",
    "- **Tip**\n",
    "    + Compare characters and string like numbers (`a` < `b`), (`abc` < `acb`), (`123` < `132`)\n",
    "    + Use **Monotonic** structures (stack, deque) to solve"
   ]
  },
  {
   "cell_type": "markdown",
   "metadata": {},
   "source": [
    "# 7. Cache prefix"
   ]
  },
  {
   "cell_type": "code",
   "execution_count": 1,
   "metadata": {},
   "outputs": [
    {
     "name": "stdout",
     "output_type": "stream",
     "text": [
      "True\n",
      "False\n",
      "{'', 'a', 'aab', 'aabbc', 'aabb', 'aa', 'aabbcc'}\n",
      "True\n",
      "False\n"
     ]
    }
   ],
   "source": [
    "S = 'aabbcc'\n",
    "P1 = 'aab'\n",
    "P2 = 'aac'\n",
    "\n",
    "# Check if P is a prefix of S\n",
    "print(S.startswith(P1))\n",
    "print(S.startswith(P2))\n",
    "\n",
    "# Use cache to check prefix in O(1)\n",
    "S_prefixes = set([S[:i] for i in range(len(S)+1)])\n",
    "print(S_prefixes)\n",
    "\n",
    "print(P1 in S_prefixes)\n",
    "print(P2 in S_prefixes)"
   ]
  }
 ],
 "metadata": {
  "kernelspec": {
   "display_name": "Python 3.8",
   "language": "python",
   "name": "py38"
  },
  "language_info": {
   "codemirror_mode": {
    "name": "ipython",
    "version": 3
   },
   "file_extension": ".py",
   "mimetype": "text/x-python",
   "name": "python",
   "nbconvert_exporter": "python",
   "pygments_lexer": "ipython3",
   "version": "3.8.13"
  }
 },
 "nbformat": 4,
 "nbformat_minor": 4
}
