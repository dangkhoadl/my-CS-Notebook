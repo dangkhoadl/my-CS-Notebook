{
 "cells": [
  {
   "cell_type": "markdown",
   "metadata": {},
   "source": [
    "\n",
    "# Divide & Conquer template\n",
    "\n",
    "```C++\n",
    "class Solution {\n",
    "    int __foo(int m, int l, int r) {\n",
    "        // do main task on [l,r] with m identified\n",
    "        return do_main_task;\n",
    "    }\n",
    "\n",
    "    int get(int l, int r) {\n",
    "        if(l == r) return base_case;\n",
    "\n",
    "        int m = l + (r-l)/2;\n",
    "\n",
    "        int get_left_half = get(l,m);\n",
    "        int get_right_half = get(m+1,r);\n",
    "        int get_across_2_halves = __foo(m, l, r);\n",
    "\n",
    "        return aggregate(get_left_half, get_right_half, get_across_2_halves);\n",
    "    }\n",
    "    int main(vector<int> &nums) {\n",
    "        return get(0, nums.size());\n",
    "    }\n",
    "};\n",
    "```\n"
   ]
  }
 ],
 "metadata": {
  "kernelspec": {
   "display_name": "Python 3.8",
   "language": "python",
   "name": "py38"
  },
  "language_info": {
   "codemirror_mode": {
    "name": "ipython",
    "version": 3
   },
   "file_extension": ".py",
   "mimetype": "text/x-python",
   "name": "python",
   "nbconvert_exporter": "python",
   "pygments_lexer": "ipython3",
   "version": "3.8.13"
  }
 },
 "nbformat": 4,
 "nbformat_minor": 4
}
