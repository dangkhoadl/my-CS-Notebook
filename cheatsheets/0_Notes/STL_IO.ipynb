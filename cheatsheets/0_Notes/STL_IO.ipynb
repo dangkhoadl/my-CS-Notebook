{
 "cells": [
  {
   "cell_type": "markdown",
   "id": "daf11060",
   "metadata": {},
   "source": [
    "## Read stdin line by line\n",
    "\n",
    "```Cpp\n",
    "vector<string> lines;\n",
    "string line = \"\";\n",
    "\n",
    "while(cin) {\n",
    "    getline(cin, line);\n",
    "    if(line != \"\") lines.push_back(line);\n",
    "};\n",
    "```"
   ]
  },
  {
   "cell_type": "markdown",
   "id": "289573ea",
   "metadata": {},
   "source": [
    "## Pipe files as stdin, stdout, stderr\n",
    "\n",
    "```Cpp\n",
    "./cpp/main.exe < input.in > output.out 2> cerr.ce\n",
    "```"
   ]
  }
 ],
 "metadata": {
  "kernelspec": {
   "display_name": "Python 3.8",
   "language": "python",
   "name": "py38"
  },
  "language_info": {
   "codemirror_mode": {
    "name": "ipython",
    "version": 3
   },
   "file_extension": ".py",
   "mimetype": "text/x-python",
   "name": "python",
   "nbconvert_exporter": "python",
   "pygments_lexer": "ipython3",
   "version": "3.8.13"
  }
 },
 "nbformat": 4,
 "nbformat_minor": 5
}
