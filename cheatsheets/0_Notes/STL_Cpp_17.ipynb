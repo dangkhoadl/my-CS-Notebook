{
 "cells": [
  {
   "cell_type": "markdown",
   "metadata": {},
   "source": [
    "# Functional Programming\n",
    "\n",
    "```C++\n",
    "auto foo = [&](vector<int> nums) -> int {\n",
    "    int sums = 0;\n",
    "    for(int &num: nums) sums += num;\n",
    "    return sums;\n",
    "};\n",
    "\n",
    "cout << foo(vector<int>({1,2,3})) << endl;\n",
    "```"
   ]
  },
  {
   "cell_type": "markdown",
   "metadata": {},
   "source": [
    "# Return multiple vals\n",
    "\n",
    "```Cpp\n",
    "// pair\n",
    "pair<int, string> get() {\n",
    "    return {0, \"Hello\"};\n",
    "}\n",
    "auto [val_int, val_str] = get();\n",
    "\n",
    "\n",
    "// tuple\n",
    "tuple<int, int, double, string> get() {\n",
    "    return {0, 1, 5.5, \"Hello\"};\n",
    "}\n",
    "auto [val_0, val_1, val_double, val_str] = get();\n",
    "```"
   ]
  },
  {
   "cell_type": "markdown",
   "metadata": {},
   "source": [
    "# Loop \n",
    "```C++\n",
    "// Key val pair\n",
    "unordered_map<string, int> table = { {\"one\", 1}, {\"two\", 2}, {\"three\", 3} };\n",
    "for(auto &[key, val]: table) {\n",
    "    cout << key << ',' << val << endl;\n",
    "}\n",
    "\n",
    "for(auto &[key, val]: unordered_map<string, int>{ {\"one\", 1}, {\"two\", 2}, {\"three\", 3} }) {\n",
    "    cout << key << ',' << val << endl;\n",
    "}\n",
    "\n",
    "// vector pairs\n",
    "for(auto &[x, y]: vector<pair<int,int>>{ {1, 100}, {2, 200}, {3, 300} }) {\n",
    "    cout << x << ',' << y << endl;\n",
    "}\n",
    "```"
   ]
  },
  {
   "cell_type": "markdown",
   "metadata": {},
   "source": [
    "# Max/Min multiple element\n",
    "\n",
    "```C++\n",
    "max( {a, b, c} );\n",
    "```"
   ]
  },
  {
   "cell_type": "markdown",
   "metadata": {},
   "source": [
    "# Constructor init by reference\n",
    "- Avoid creating new object\n",
    "\n",
    "```Cpp\n",
    "class Solution {\n",
    "private:\n",
    "    const vector<int> &_A;\n",
    "public:\n",
    "    Solution(const vector<int> &nums): _A(nums) {}\n",
    "\n",
    "    void print() {\n",
    "        for(const int &elem: _A) cout << elem << ' ';\n",
    "    }\n",
    "};\n",
    "```"
   ]
  }
 ],
 "metadata": {
  "kernelspec": {
   "display_name": "Python 3.8",
   "language": "python",
   "name": "py38"
  },
  "language_info": {
   "codemirror_mode": {
    "name": "ipython",
    "version": 3
   },
   "file_extension": ".py",
   "mimetype": "text/x-python",
   "name": "python",
   "nbconvert_exporter": "python",
   "pygments_lexer": "ipython3",
   "version": "3.8.13"
  }
 },
 "nbformat": 4,
 "nbformat_minor": 4
}
