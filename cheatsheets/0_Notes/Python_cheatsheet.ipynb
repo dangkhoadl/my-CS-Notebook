{
 "cells": [
  {
   "cell_type": "code",
   "execution_count": 1,
   "id": "ed5b9939",
   "metadata": {},
   "outputs": [],
   "source": [
    "from pprint import pprint"
   ]
  },
  {
   "cell_type": "markdown",
   "id": "445c13b7",
   "metadata": {},
   "source": [
    "#### I/O\n",
    "\n",
    "```py\n",
    "sys.stdin = open('input.in', 'r+')\n",
    "sys.stdout = open('output.out', 'w+')\n",
    "sys.stderr = open('cerr.ce', 'w+')\n",
    "\n",
    "lines = sys.stdin.read() \\\n",
    "    .strip().split('\\n')\n",
    "```"
   ]
  },
  {
   "cell_type": "code",
   "execution_count": null,
   "id": "c6e6e488",
   "metadata": {},
   "outputs": [],
   "source": []
  },
  {
   "cell_type": "markdown",
   "id": "98233b90",
   "metadata": {},
   "source": [
    "# 1. List"
   ]
  },
  {
   "cell_type": "markdown",
   "id": "119eb731",
   "metadata": {},
   "source": [
    "#### Init 2D array"
   ]
  },
  {
   "cell_type": "code",
   "execution_count": 2,
   "id": "b0d20fca",
   "metadata": {},
   "outputs": [
    {
     "name": "stdout",
     "output_type": "stream",
     "text": [
      "[[-1, -1, -1], [-1, -1, -1], [-1, -1, -1], [-1, -1, -1]]\n"
     ]
    }
   ],
   "source": [
    "A = [ [-1]*3 for x in range(4) ]\n",
    "\n",
    "pprint(A)"
   ]
  },
  {
   "cell_type": "markdown",
   "id": "736acddc",
   "metadata": {},
   "source": [
    "#### map, reduce"
   ]
  },
  {
   "cell_type": "code",
   "execution_count": 3,
   "id": "feed7c1b",
   "metadata": {},
   "outputs": [
    {
     "name": "stdout",
     "output_type": "stream",
     "text": [
      "A = [0, 2, 4]\n",
      "B = [0, -1, 2, -3, 4, -5]\n"
     ]
    }
   ],
   "source": [
    "examples = [0, 1, 2, 3, 4, 5]\n",
    "\n",
    "A = [ x for x in examples if x%2 == 0 ]\n",
    "B = [ x if x%2 == 0 else -x for x in examples ]\n",
    "\n",
    "print(f\"{A = }\")\n",
    "print(f\"{B = }\")"
   ]
  },
  {
   "cell_type": "markdown",
   "id": "64c4e818",
   "metadata": {},
   "source": [
    "# 2. Sort"
   ]
  },
  {
   "cell_type": "code",
   "execution_count": 4,
   "id": "d2f04f85",
   "metadata": {},
   "outputs": [
    {
     "name": "stdout",
     "output_type": "stream",
     "text": [
      "[(1, 4), (2, 3), (5, 1)]\n"
     ]
    }
   ],
   "source": [
    "A = [(2,3), (5,1), (1,4)]\n",
    "\n",
    "A = sorted(A, key=lambda x:x[1], reverse=True)\n",
    "print(A)"
   ]
  },
  {
   "cell_type": "markdown",
   "id": "fd045ddd",
   "metadata": {},
   "source": [
    "#### C++ sort"
   ]
  },
  {
   "cell_type": "code",
   "execution_count": 5,
   "id": "b251d9eb",
   "metadata": {},
   "outputs": [
    {
     "name": "stdout",
     "output_type": "stream",
     "text": [
      "['NO', 'OK', 'YES', 'Hello', 'Pardon']\n"
     ]
    }
   ],
   "source": [
    "from functools import cmp_to_key\n",
    "\n",
    "S = [\"OK\", \"Hello\", \"YES\", \"NO\", \"Pardon\"]\n",
    "\n",
    "def func(x, y):\n",
    "    n, m = len(x), len(y)\n",
    "    if n != m: return n - m   \n",
    "    return ord(x[0]) - ord(y[0])\n",
    "    \n",
    "S = sorted(S, key=cmp_to_key(func))\n",
    "print(S)"
   ]
  },
  {
   "cell_type": "markdown",
   "id": "a25dd395",
   "metadata": {},
   "source": [
    "# 3. String"
   ]
  },
  {
   "cell_type": "code",
   "execution_count": 6,
   "id": "4cc67ba0",
   "metadata": {},
   "outputs": [
    {
     "name": "stdout",
     "output_type": "stream",
     "text": [
      "abcdefghijklmnopqrstuvwxyz\n",
      "ABCDEFGHIJKLMNOPQRSTUVWXYZ\n",
      "0123456789\n"
     ]
    }
   ],
   "source": [
    "import string\n",
    "\n",
    "print(string.ascii_lowercase)\n",
    "print(string.ascii_uppercase)\n",
    "print(string.digits)"
   ]
  },
  {
   "cell_type": "markdown",
   "id": "4e38afa4",
   "metadata": {},
   "source": [
    "#### Convert ASCII"
   ]
  },
  {
   "cell_type": "code",
   "execution_count": 7,
   "id": "191a8b9b",
   "metadata": {},
   "outputs": [
    {
     "name": "stdout",
     "output_type": "stream",
     "text": [
      "48 57\n",
      "65 90\n",
      "97 122\n"
     ]
    }
   ],
   "source": [
    "print(ord('0'), ord('9'))\n",
    "print(ord('A'), ord('Z'))\n",
    "print(ord('a'), ord('z'))"
   ]
  }
 ],
 "metadata": {
  "kernelspec": {
   "display_name": "Python 3.8",
   "language": "python",
   "name": "py38"
  },
  "language_info": {
   "codemirror_mode": {
    "name": "ipython",
    "version": 3
   },
   "file_extension": ".py",
   "mimetype": "text/x-python",
   "name": "python",
   "nbconvert_exporter": "python",
   "pygments_lexer": "ipython3",
   "version": "3.8.13"
  }
 },
 "nbformat": 4,
 "nbformat_minor": 5
}
