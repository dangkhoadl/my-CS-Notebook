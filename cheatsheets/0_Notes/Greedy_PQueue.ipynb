{
 "cells": [
  {
   "cell_type": "markdown",
   "metadata": {},
   "source": [
    "#### Note\n",
    "- Consider `multimap` vs `map` carefully\n",
    "\n",
    "#### Consider Sorting - Grouping duplicated elements as always\n",
    "- Consider grouping duplicates to reduce runtime of map, priorityqueue etc...\n",
    "\n",
    "```\n",
    "    2 2 2 3 5\n",
    "    -> [{2:3}, {3:1}, {5:1}]\n",
    "```\n",
    "\n",
    "- map<int, int>\n",
    "- map<int, vector<>, vector<>>\n",
    "- priority_queue<int, int>\n",
    "\n",
    "#### Greedy - Combine strategy\n",
    "- If we have multiple strategies but not sure which one is the most optimal. Can combine by\n",
    "\n",
    "```C++\n",
    "return min(strat_1(x), strat_2(x), strat_3(x))\n",
    "```\n"
   ]
  }
 ],
 "metadata": {
  "kernelspec": {
   "display_name": "Python 3.7",
   "language": "python",
   "name": "py37"
  },
  "language_info": {
   "codemirror_mode": {
    "name": "ipython",
    "version": 3
   },
   "file_extension": ".py",
   "mimetype": "text/x-python",
   "name": "python",
   "nbconvert_exporter": "python",
   "pygments_lexer": "ipython3",
   "version": "3.7.9"
  }
 },
 "nbformat": 4,
 "nbformat_minor": 4
}
