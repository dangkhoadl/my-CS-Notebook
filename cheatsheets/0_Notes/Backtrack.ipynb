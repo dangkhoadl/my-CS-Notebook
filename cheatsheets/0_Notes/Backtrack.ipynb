{
 "cells": [
  {
   "cell_type": "markdown",
   "metadata": {},
   "source": [
    "\n",
    "#### Backtracking\n",
    "<img src=\"./img/9.jpg\" alt=\"drawing\" width=\"680\"/>\n",
    "\n",
    "#### Backtracking - remove tail recursion\n",
    "<img src=\"./img/10.jpg\" alt=\"drawing\" width=\"680\"/>\n",
    "\n",
    "#### DFS\n",
    "<img src=\"./img/11.jpg\" alt=\"drawing\" width=\"680\"/>\n"
   ]
  }
 ],
 "metadata": {
  "kernelspec": {
   "display_name": "Python 3.7",
   "language": "python",
   "name": "py37"
  },
  "language_info": {
   "codemirror_mode": {
    "name": "ipython",
    "version": 3
   },
   "file_extension": ".py",
   "mimetype": "text/x-python",
   "name": "python",
   "nbconvert_exporter": "python",
   "pygments_lexer": "ipython3",
   "version": "3.7.9"
  }
 },
 "nbformat": 4,
 "nbformat_minor": 4
}
