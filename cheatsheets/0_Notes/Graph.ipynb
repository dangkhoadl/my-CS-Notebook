{
 "cells": [
  {
   "cell_type": "markdown",
   "metadata": {},
   "source": [
    "#### Notes\n",
    "- When doing bfs, dfs. Check `vis` next node immediately to reduce time/space complexity\n",
    "\n",
    "```C++\n",
    "while(!Q.empty()) {\n",
    "    int cur_node = Q.front();\n",
    "    Q.pop();\n",
    "\n",
    "    // Check vis here\n",
    "    vis[cur_node] = 1;\n",
    "\n",
    "    for(int &d:dirs) {\n",
    "        int next_node = cur_node + d;\n",
    "\n",
    "        // [Note]: Check vis here to prune the search tree\n",
    "        if(vis[next_node] == 0) {\n",
    "            // Update\n",
    "            ...\n",
    "\n",
    "            // Also check vis here to reduce BFS complexity\n",
    "            vis[next_node] = 1;\n",
    "            Q.push(next_node);\n",
    "        }\n",
    "    }\n",
    "}\n",
    "```\n"
   ]
  }
 ],
 "metadata": {
  "kernelspec": {
   "display_name": "Python 3.8",
   "language": "python",
   "name": "py38"
  },
  "language_info": {
   "codemirror_mode": {
    "name": "ipython",
    "version": 3
   },
   "file_extension": ".py",
   "mimetype": "text/x-python",
   "name": "python",
   "nbconvert_exporter": "python",
   "pygments_lexer": "ipython3",
   "version": "3.8.13"
  }
 },
 "nbformat": 4,
 "nbformat_minor": 4
}
