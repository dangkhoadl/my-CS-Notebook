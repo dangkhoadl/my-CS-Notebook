{
 "cells": [
  {
   "cell_type": "markdown",
   "metadata": {},
   "source": [
    "# 1. iterator syntax\n",
    "\n",
    "```C++\n",
    "// decrease\n",
    "it = prev(it);   // --it\n",
    "it = prev(it, 2); // it -= 2;\n",
    "\n",
    "// increase\n",
    "it = next(it);   // ++it\n",
    "it = next(it, 2); // it += 2;\n",
    "\n",
    "// distance: (>0) if [a,b], (<0) if [b, a]\n",
    "int range = distance(it_a, it_b);\n",
    "\n",
    "// upper_bound: vector\n",
    "auto it = upper_bound(A.begin(), A.end(), val);\n",
    "\n",
    "// upper_bound: map, set\n",
    "auto it = A.upper_bound(val);\n",
    "\n",
    "// equal_range: {lower_bound, upper_bound} = {bounds.first, bound.second}\n",
    "auto bounds = equal_range(A.begin(), A.end(), val);\n",
    "```\n",
    "\n",
    "#### lower_bound, upper_bound for `vector<pair>`\n",
    "\n",
    "```Cpp\n",
    "// bool comp(const pair<int,int> &a, const pair<int,int> &b) {return a.first < b.first;};\n",
    "auto comp = [&](const pair<int,string> &a, const pair<int,string> &b) {return a.first < b.first;};\n",
    "\n",
    "vector<pair<int, string>> A( {{3, \"Peter\"}, {1, \"Helen\"}, {3, \"David\"}} );\n",
    "sort(A.begin(), A.end(), comp);\n",
    "\n",
    "// {lower_bound, upper_bound} = {bounds.first, bound.second}\n",
    "auto bounds = equal_range(A.begin(), A.end(), pair<int,string>({3, \"\"}), comp);\n",
    "int range = distance(bounds.first, bounds.second);\n",
    "\n",
    "// Or\n",
    "auto lo = lower_bound(A.begin(), A.end(), pair<int,string>({3, \"\"}), comp);\n",
    "auto up = upper_bound(A.begin(), A.end(), pair<int,string>({3, \"\"}), comp);\n",
    "range = distance(lo, up);\n",
    "```\n"
   ]
  },
  {
   "cell_type": "markdown",
   "metadata": {},
   "source": [
    "# 2. C++ lower_bound, upper_bound\n",
    "\n",
    "- **upper_bound(value)** return first element which is **> value**. `If not exist, return end()`\n",
    "    + **prev(upper_bound(value))** return first element which is **≤ value**. `If not exist, upper_bound(value) == begin()`\n",
    "- **lower_bound(value)** return first element which is **≥ value**. `If not, return end()`\n",
    "    + **prev(lower_bound(value))** return first element which is **< value**. `If not exist, lower_bound(value) == begin()`\n",
    "\n",
    "\n",
    "<img src=\"./img/5.jpg\" alt=\"drawing\" width=\"750\"/>\n",
    "\n",
    "#### Trick: to avoid not exist using prev(it). Insert {0, MIN_VAL} to compare\n",
    "\n",
    "```Cpp\n",
    "map<int, int> dp;\n",
    "dp.insert( {0, 0} );\n",
    "\n",
    "prev(dp.upper_bound(value))\n",
    "```"
   ]
  }
 ],
 "metadata": {
  "kernelspec": {
   "display_name": "Python 3.8",
   "language": "python",
   "name": "py38"
  },
  "language_info": {
   "codemirror_mode": {
    "name": "ipython",
    "version": 3
   },
   "file_extension": ".py",
   "mimetype": "text/x-python",
   "name": "python",
   "nbconvert_exporter": "python",
   "pygments_lexer": "ipython3",
   "version": "3.8.13"
  }
 },
 "nbformat": 4,
 "nbformat_minor": 4
}
