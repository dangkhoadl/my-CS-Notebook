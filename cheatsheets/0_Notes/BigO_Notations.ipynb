{
 "cells": [
  {
   "cell_type": "markdown",
   "metadata": {},
   "source": [
    "- We always examine\n",
    "    + Worst case\n",
    "    + Average case\n",
    "\n",
    "# Notations\n",
    "- f(n) and g(n)\n",
    "    + positive-valued functions\n",
    "+ $n, n_o \\in N$\n",
    "+ $C \\in R$\n",
    "\n",
    "## Big-O notation\n",
    "- f(n) is O(g(n)) if\n",
    "    + $f(n) \\leq C*g(n)$\n",
    "        + there exist a C and $n_o$\n",
    "        + for any n, $n \\geqslant n_o$\n",
    "    + for large enough n, f(n) grows at most as fast as g(n)\n",
    "    + Eg: 2n + 5 is $O(n^4)$\n",
    "\n",
    "## Big-$\\Omega$ notation\n",
    "- f(n) is $\\Omega(g(n))$ if\n",
    "    + $f(n) \\geqslant C*g(n)$\n",
    "        + there exist a C and $n_o$\n",
    "        + for any n, $n \\geqslant n_o$\n",
    "    + for large enough n, f(n) grows at least as fast as g(n)\n",
    "    + Eg: $2n^3 + 5$ is $\\Omega(n)$\n",
    "\n",
    "## Big-$\\Theta$ notation\n",
    "- f(n) is $\\Theta(g(n))$ if\n",
    "    + $C_1*g(n) \\geqslant f(n) \\leq C_2*g(n)$\n",
    "        + there exist $C_1, C_2$ and $n_o$\n",
    "        + for any n, $n \\geqslant n_o$\n",
    "    + for large enough n, f(n) grows as fast as g(n)\n",
    "    + Eg: $2n^3 + 5$ is $\\Theta(n^3)$\n",
    "\n",
    "## Small-o notation\n",
    "- f(n) is o(g(n)) if\n",
    "    + $f(n) < C*g(n)$\n",
    "        + there exist a C and $n_o$\n",
    "        + for any n, $n \\geqslant n_o$\n",
    "    + the ratio of f(n) and g(n) tends to 0 with increase in n\n",
    "        + $lim_{n->\\infty}\\frac{f(n)}{g(n)} = 0$\n",
    "    + Eg: $2n^3 + 5$ is $o(2^n)$"
   ]
  }
 ],
 "metadata": {
  "kernelspec": {
   "display_name": "Python 3.7",
   "language": "python",
   "name": "py37"
  },
  "language_info": {
   "codemirror_mode": {
    "name": "ipython",
    "version": 3
   },
   "file_extension": ".py",
   "mimetype": "text/x-python",
   "name": "python",
   "nbconvert_exporter": "python",
   "pygments_lexer": "ipython3",
   "version": "3.7.9"
  }
 },
 "nbformat": 4,
 "nbformat_minor": 2
}
