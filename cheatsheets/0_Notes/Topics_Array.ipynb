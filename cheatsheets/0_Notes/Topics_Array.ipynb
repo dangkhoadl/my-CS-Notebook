{
 "cells": [
  {
   "cell_type": "markdown",
   "metadata": {},
   "source": [
    "#### Notes\n",
    "- Try to `sort` array then solve"
   ]
  },
  {
   "cell_type": "markdown",
   "metadata": {},
   "source": [
    "# 1. Array - DP\n",
    "\n",
    "## 1.1 DP state\n",
    "- `dp[i][...]`\n",
    "    + `i` state: Optimal solution in the segment range `[0,i]`\n",
    "\n",
    "\n",
    "- Template: Build up `[0,i]` from `[0,j]`: `j < i`\n",
    "\n",
    "<img src=\"./img/2.jpg\" width=\"600\"/>\n",
    "\n",
    "```C++\n",
    "for(int i=0; i<=N; ++i) for(int j=-1; j<i;++j) {\n",
    "    if(j==-1) {\n",
    "        // Update base case i=0\n",
    "    }\n",
    "    if(j>=0) {\n",
    "        // DP\n",
    "        dp[i][] = min(dp[i][], dp[j][] + A[i]);\n",
    "    }\n",
    "}\n",
    "\n",
    "```\n",
    "\n",
    "\n",
    "\n",
    "## 1.2 Loop by length\n",
    "- Normal loop `A[i:j]`\n",
    "\n",
    "```C++\n",
    "// N = 4\n",
    "for(int i=0; i<N; ++i) {\n",
    "    for(int j=i; j<N; ++j) {\n",
    "\n",
    "        cout << i << ' ' << j << endl;\n",
    "    }\n",
    "}\n",
    "```\n",
    "\n",
    "```\n",
    "0 0\n",
    "0 1\n",
    "0 2\n",
    "0 3\n",
    "1 1\n",
    "1 2\n",
    "1 3\n",
    "2 2\n",
    "2 3\n",
    "3 3\n",
    "```\n",
    "\n",
    "- Loop by len: `A[l:r]`, `len = r-l+1`, `r = l+len-1`\n",
    "    + **Binary search with len**: since len is increasing, We can use binary search \n",
    "    - **For Topdown DP**: All substring states are computed -> Suit for Topdown DP with `substring`, `subsequence`\n",
    "\n",
    "```C++\n",
    "// N = 4\n",
    "for(int len=1; len<=N; ++len) {\n",
    "    for(int l=0; l+len-1<N; ++l) {\n",
    "        int r = l+len-1;\n",
    "\n",
    "        cout << l << ' ' << r << endl;\n",
    "    }\n",
    "}\n",
    "```\n",
    "\n",
    "```\n",
    "0 0\n",
    "1 1\n",
    "2 2\n",
    "3 3\n",
    "0 1\n",
    "1 2\n",
    "2 3\n",
    "0 2\n",
    "1 3\n",
    "0 3\n",
    "```"
   ]
  },
  {
   "cell_type": "markdown",
   "metadata": {},
   "source": [
    "# 2. Circular array\n",
    "- A circular array represented by A[i] can be duplicated to solve\n",
    "- Example: A = [5,6,1,2,3] -> [5,6,1,2,3,5,6,1,2,3]\n",
    "\n",
    "#### A wheels\n",
    "- A wheel has value from [1,N] has pre-defined positions `A[1,N]` can be duplicated to solve as `A[1,N,N+1,2*N]`\n",
    "- Example: `N = 10, A = [2,3,8,9]` -> `[2,3,8,9,12,13,18,19]`\n",
    "\n",
    "<img src=\"./img/1.jpg\" width=\"200\"/>"
   ]
  },
  {
   "cell_type": "markdown",
   "metadata": {},
   "source": [
    "# 3. Median base 0\n",
    "- **Even**: med1 = A[N/2 - 1], med2 = A[N/2]\n",
    "- **Odd**: med = A[N/2] or med = A[(N-1)/2]\n",
    "\n",
    "<img src=\"./img/1.png\" width=\"600\"/>"
   ]
  },
  {
   "cell_type": "markdown",
   "metadata": {},
   "source": [
    "# 4. SubArray - Prefix sum\n",
    "- Encounter **SubArray** -> Think about **Prefix Sum**\n",
    "- Example: Maximum Subarray Sum: $ \\max_{l,r} \\sum_{i=l}^rA[i]$\n",
    "    - Solve by\n",
    "\n",
    "$$ \\max_{l,r} \\sum_{i=l}^rA[i] = \\max_{l,r}(\\sum_{i=0}^rA[i] - \\sum_{i=0}^{l-1}A[i]) = \\max_{r}(\\sum_{i=0}^rA[i]) - \\min_{l}(\\sum_{i=0}^{l-1}A[i])$$ "
   ]
  },
  {
   "cell_type": "markdown",
   "metadata": {},
   "source": [
    "# 5. Multiple pointers\n",
    "- Multiple info from 1 loop\n",
    "- 1 loop can interact with multiple datapoints (Eg: cur, next)\n",
    "\n",
    "\n",
    "```C++\n",
    "for(int i=0; i<N-2; ++i) {\n",
    "    int cur = i;\n",
    "    int next = i+1;\n",
    "    int next_2 = i+2;\n",
    "}\n",
    "```"
   ]
  }
 ],
 "metadata": {
  "kernelspec": {
   "display_name": "Python 3.8",
   "language": "python",
   "name": "py38"
  },
  "language_info": {
   "codemirror_mode": {
    "name": "ipython",
    "version": 3
   },
   "file_extension": ".py",
   "mimetype": "text/x-python",
   "name": "python",
   "nbconvert_exporter": "python",
   "pygments_lexer": "ipython3",
   "version": "3.8.13"
  }
 },
 "nbformat": 4,
 "nbformat_minor": 4
}
