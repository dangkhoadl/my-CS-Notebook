{
 "cells": [
  {
   "cell_type": "markdown",
   "metadata": {},
   "source": [
    "# 1. Default pointer\n",
    "\n",
    "```C++\n",
    "class Node {\n",
    "public:\n",
    "    int _val;\n",
    "    Node* _left;\n",
    "    Node* _right;\n",
    "public:\n",
    "    Node(): _val(0), _left(NULL), _right(NULL) {}\n",
    "    Node(int v): _val(v), _left(NULL), _right(NULL) {}\n",
    "};\n",
    "\n",
    "\n",
    "// ptr\n",
    "Node* root = new Node(1);\n",
    "Node* ptr = root;\n",
    "\n",
    "// Create new\n",
    "ptr->_left = new Node(2);\n",
    "ptr->_right = new Node(3);\n",
    "\n",
    "// Delete\n",
    "delete ptr->_left;\n",
    "\n",
    "// move ptr\n",
    "ptr = ptr->_right;\n",
    "\n",
    "// Check NULL\n",
    "cout << (root->_left == NULL) << endl;\n",
    "cout << (root->_right == NULL) << endl;\n",
    "\n",
    "// Garbage collection\n",
    "delete root->_right;\n",
    "delete root;\n",
    "```"
   ]
  },
  {
   "cell_type": "markdown",
   "metadata": {},
   "source": [
    "# [2.smart ptr](https://www.geeksforgeeks.org/smart-pointers-cpp/)\n",
    "\n",
    "```C++\n",
    "class Node {\n",
    "public:\n",
    "    int _val;\n",
    "    shared_ptr<Node> _left, _right;\n",
    "public:\n",
    "    Node(): _val(0), _left(nullptr), _right(nullptr) {}\n",
    "    Node(int v): _val(v), _left(nullptr), _right(nullptr) {}\n",
    "};\n",
    "\n",
    "\n",
    "// ptr\n",
    "shared_ptr<Node> root(new Node(1));\n",
    "shared_ptr<Node> ptr = root;\n",
    "    // auto ptr = root;\n",
    "\n",
    "// Create new\n",
    "ptr->_left = shared_ptr<Node>(new Node(2));\n",
    "ptr->_right = shared_ptr<Node>(new Node(3));\n",
    "\n",
    "// Delete\n",
    "ptr->_left.reset();\n",
    "\n",
    "// move ptr\n",
    "ptr = ptr->_right;\n",
    "\n",
    "// Check NULL\n",
    "cout << (root->_left == nullptr) << endl;\n",
    "cout << (root->_right == nullptr) << endl;\n",
    "\n",
    "// Garbage collection - Not needed\n",
    "```"
   ]
  }
 ],
 "metadata": {
  "kernelspec": {
   "display_name": "Python 3.8",
   "language": "python",
   "name": "py38"
  },
  "language_info": {
   "codemirror_mode": {
    "name": "ipython",
    "version": 3
   },
   "file_extension": ".py",
   "mimetype": "text/x-python",
   "name": "python",
   "nbconvert_exporter": "python",
   "pygments_lexer": "ipython3",
   "version": "3.8.13"
  }
 },
 "nbformat": 4,
 "nbformat_minor": 4
}
