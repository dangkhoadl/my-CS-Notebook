{
 "cells": [
  {
   "cell_type": "markdown",
   "metadata": {},
   "source": [
    "## Steps in problem solving\n",
    "- Read -> formalize the statement\n",
    "    - Rephrase/Study the problem\n",
    "        - **Draw Graphic**\n",
    "        - **Math Equations**. Eg:\n",
    "            + for each index `i` return `H[i]`. Such that\n",
    "            + `H[i]` = count(c) and `H[i]` $\\leq$ c, $\\forall c$ in C[0:i]\n",
    "        - **Models**\n",
    "        - **Graph/Tree relation**\n",
    "        - **Do bruteforce/statical experiment in py --> Examine the pattern**\n",
    "    - Separate Conditions\n",
    "    - List all possible cases (if-else)(search problem -> reduce)\n",
    "\n",
    "- Invent a solution\n",
    "    + If no ideas -> brute-force (search problem)\n",
    "\n",
    "- Prove if the solution correct !!!\n",
    "    + Assume something -> write in statements -> Prove it\n",
    "    + If an assumption is wrong -> Correct it -> Prove it again\n",
    "- Implement -> Test with multiple test cases !!!"
   ]
  },
  {
   "cell_type": "markdown",
   "metadata": {},
   "source": [
    "## Testing\n",
    "#### String test pattern\n",
    "\n",
    "```\n",
    "aaaaaaa\n",
    "abcedef\n",
    "```\n",
    "\n",
    "#### Number test pattern\n",
    "\n",
    "```\n",
    "-1\n",
    "0\n",
    "N\n",
    "random test\n",
    "```\n",
    "\n",
    "#### Random test\n",
    "- generate a random test set"
   ]
  }
 ],
 "metadata": {
  "kernelspec": {
   "display_name": "Python 3.8",
   "language": "python",
   "name": "py38"
  },
  "language_info": {
   "codemirror_mode": {
    "name": "ipython",
    "version": 3
   },
   "file_extension": ".py",
   "mimetype": "text/x-python",
   "name": "python",
   "nbconvert_exporter": "python",
   "pygments_lexer": "ipython3",
   "version": "3.8.13"
  }
 },
 "nbformat": 4,
 "nbformat_minor": 2
}
