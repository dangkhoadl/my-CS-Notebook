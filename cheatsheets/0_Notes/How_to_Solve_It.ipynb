{
 "cells": [
  {
   "cell_type": "markdown",
   "metadata": {},
   "source": [
    "## Steps in problem solving\n",
    "- Read -> formalize the statement\n",
    "    - Rephrase the problem\n",
    "        - Draw Graphic\n",
    "        - Math Equations\n",
    "        - Models\n",
    "        - Graph/Tree relation\n",
    "        - Find Notations\n",
    "    - Separate Conditions\n",
    "    - List all possible cases (if-else)(search problem -> reduce)\n",
    "\n",
    "- Invent a solution\n",
    "    + If no idead -> brute-force\n",
    "\n",
    "- Prove if the solution correct !!!\n",
    "    + Assume something -> write in statements -> Prove it\n",
    "    + If an assumption is wrong -> Correct it -> Prove it again\n",
    "- Implement -> Test with multiple test cases !!!"
   ]
  },
  {
   "cell_type": "markdown",
   "metadata": {},
   "source": [
    "## Testing\n",
    "#### String test pattern\n",
    "\n",
    "```\n",
    "aaaaaaa\n",
    "abcedef\n",
    "```\n",
    "\n",
    "#### Number test pattern\n",
    "\n",
    "```\n",
    "-1\n",
    "0\n",
    "N\n",
    "random test\n",
    "```\n",
    "\n",
    "#### Random test\n",
    "- generate a random test set"
   ]
  }
 ],
 "metadata": {
  "kernelspec": {
   "display_name": "Python 3.7",
   "language": "python",
   "name": "py37"
  },
  "language_info": {
   "codemirror_mode": {
    "name": "ipython",
    "version": 3
   },
   "file_extension": ".py",
   "mimetype": "text/x-python",
   "name": "python",
   "nbconvert_exporter": "python",
   "pygments_lexer": "ipython3",
   "version": "3.7.9"
  }
 },
 "nbformat": 4,
 "nbformat_minor": 2
}
