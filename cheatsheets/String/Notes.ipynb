{
 "cells": [
  {
   "cell_type": "markdown",
   "metadata": {},
   "source": [
    "\n",
    "## Trie\n",
    "<img src=\"./img/trie.png\" alt=\"drawing\" width=\"650\"/>\n",
    "\n",
    "\n"
   ]
  },
  {
   "cell_type": "markdown",
   "metadata": {},
   "source": [
    "## Hash\n",
    "\n",
    "#### Simple hash func\n",
    "\n",
    "```C++\n",
    "int hash(int x, BUCKETS) {\n",
    "    int p = 982453397;\n",
    "    int a = 982462417, b = 982452479;\n",
    "    return (a*x + b) % p % BUCKETS;\n",
    "}\n",
    "```\n",
    "\n",
    "#### Hash string\n",
    "\n",
    "<img src=\"./img/hashString.jpg\" alt=\"drawing\" width=\"400\"/>"
   ]
  }
 ],
 "metadata": {
  "kernelspec": {
   "display_name": "Python 3.7",
   "language": "python",
   "name": "py37"
  },
  "language_info": {
   "codemirror_mode": {
    "name": "ipython",
    "version": 3
   },
   "file_extension": ".py",
   "mimetype": "text/x-python",
   "name": "python",
   "nbconvert_exporter": "python",
   "pygments_lexer": "ipython3",
   "version": "3.7.9"
  }
 },
 "nbformat": 4,
 "nbformat_minor": 4
}
