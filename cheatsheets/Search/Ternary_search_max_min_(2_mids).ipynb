{
 "cells": [
  {
   "cell_type": "markdown",
   "metadata": {},
   "source": [
    "# 1. Tenary search\n",
    "- For finding max, min in a unimodal function f\n",
    "\n",
    "- Unimodal function defined\n",
    "    + x is the maximum point\n",
    "    + $\\forall a,b$ with A ≤ a < b ≤ x | we have f(a) < f(b)\n",
    "    + and $\\forall a,b$ with x ≤ a < b ≤ B | we have f(a) > f(b)\n",
    "    \n",
    "<img src=\"./img/2.png\" width=\"400\"/>\n"
   ]
  },
  {
   "cell_type": "markdown",
   "metadata": {},
   "source": [
    "#### Recursive algorithm"
   ]
  },
  {
   "cell_type": "code",
   "execution_count": 1,
   "metadata": {},
   "outputs": [],
   "source": [
    "def ternary_search(f, l, r, absolute_precision) -> float:\n",
    "    \"\"\"l and r are the current bounds;\n",
    "    the maximum is between them.\n",
    "    \"\"\"\n",
    "    if abs(r - l) < absolute_precision:\n",
    "        return l + (r-l)/2\n",
    "\n",
    "    m1 = l + (r - l) / 3\n",
    "    m2 = r - (r - l) / 3\n",
    "\n",
    "    if f(m1) < f(m2):\n",
    "        return ternary_search(f, m1, r, absolute_precision)\n",
    "    else:\n",
    "        return ternary_search(f, l, m2, absolute_precision)"
   ]
  },
  {
   "cell_type": "markdown",
   "metadata": {},
   "source": [
    "#### Iterative algorithm\n"
   ]
  },
  {
   "cell_type": "code",
   "execution_count": 2,
   "metadata": {},
   "outputs": [],
   "source": [
    "def ternary_search(f, l, r, absolute_precision) -> float:\n",
    "    \"\"\"Find maximum of unimodal function f() within [l, r]\n",
    "    To find the minimum, reverse the if/else statement or reverse the comparison.\n",
    "    \"\"\"\n",
    "    while abs(r - l) >= absolute_precision:\n",
    "        m1 = l + (r - l) / 3\n",
    "        m2 = r - (r - l) / 3\n",
    "\n",
    "        if f(m1) < f(m2):\n",
    "            l = m1\n",
    "        else:\n",
    "            r = m2\n",
    "\n",
    "    # l and r are the current bounds; the maximum is between them\n",
    "    return l + (r-l)/2"
   ]
  },
  {
   "cell_type": "markdown",
   "metadata": {},
   "source": [
    "#### Example\n",
    "- Find max of the array: `A = [1,2,3,9,7,6,5,4,3,2,1]`"
   ]
  },
  {
   "cell_type": "code",
   "execution_count": 3,
   "metadata": {},
   "outputs": [],
   "source": [
    "def ternary_search_rc(A, l, r):\n",
    "    if r - l <= 2:\n",
    "        return l + (r-l)//2\n",
    "\n",
    "    m1 = l + (r - l) // 3\n",
    "    m2 = r - (r - l) // 3\n",
    "    \n",
    "    if A[m1] < A[m2]:\n",
    "        return ternary_search_rc(A, m1, r)\n",
    "    else:\n",
    "        return ternary_search_rc(A, l, m2)\n",
    "\n",
    "\n",
    "def ternary_search_it(A, l, r):\n",
    "    while r - l > 2:\n",
    "        m1 = l + (r - l) // 3\n",
    "        m2 = r - (r - l) // 3\n",
    "\n",
    "        if A[m1] < A[m2]:\n",
    "            l = m1\n",
    "        else:\n",
    "            r = m2\n",
    "\n",
    "    # l and r are the current bounds; the maximum is between them\n",
    "    return l + (r-l)//2"
   ]
  },
  {
   "cell_type": "code",
   "execution_count": 4,
   "metadata": {},
   "outputs": [
    {
     "name": "stdout",
     "output_type": "stream",
     "text": [
      "Recursive: Max val A[3] = 9\n",
      "Iterative: Max val A[3] = 9\n"
     ]
    }
   ],
   "source": [
    "A = [1,2,3,9,7,6,5,4,3,2,1]\n",
    "\n",
    "max_idx = ternary_search_rc(A,0,len(A)-1)\n",
    "print(f\"Recursive: Max val A[{max_idx}] = {A[max_idx]}\")\n",
    "\n",
    "max_idx = ternary_search_it(A,0,len(A)-1)\n",
    "print(f\"Iterative: Max val A[{max_idx}] = {A[max_idx]}\")"
   ]
  },
  {
   "cell_type": "markdown",
   "metadata": {},
   "source": [
    "# 2. Binary search\n",
    "- For finding `local` max, min\n",
    "\n",
    "<img src=\"./img/1.png\" width=\"400\"/>\n"
   ]
  },
  {
   "cell_type": "code",
   "execution_count": 8,
   "metadata": {},
   "outputs": [],
   "source": [
    "class Solution:\n",
    "    '''Return any local max in log(N)'''\n",
    "    def search(self, nums, l, r):\n",
    "        if l == r:\n",
    "            return l\n",
    "\n",
    "        m = l + (r-l)//2\n",
    "        m2 = m + 1\n",
    "\n",
    "        if nums[m] > nums[m2]:\n",
    "            return self.search(nums, l,m)\n",
    "        else:\n",
    "            return self.search(nums, m+1,r)\n",
    "    def find_local_max(self, nums:list) -> int:\n",
    "        return self.search(nums, 0, len(nums)-1)"
   ]
  }
 ],
 "metadata": {
  "kernelspec": {
   "display_name": "Python 3.8",
   "language": "python",
   "name": "py38"
  },
  "language_info": {
   "codemirror_mode": {
    "name": "ipython",
    "version": 3
   },
   "file_extension": ".py",
   "mimetype": "text/x-python",
   "name": "python",
   "nbconvert_exporter": "python",
   "pygments_lexer": "ipython3",
   "version": "3.8.13"
  }
 },
 "nbformat": 4,
 "nbformat_minor": 4
}
