{
 "cells": [
  {
   "cell_type": "markdown",
   "metadata": {},
   "source": [
    "# 1. Binary Search left/right pointer note\n",
    "#### Binary Search with left/right pointers\n",
    "\n",
    "<img src=\"./img/1.jpg\" alt=\"drawing\" width=\"650\"/>"
   ]
  },
  {
   "cell_type": "markdown",
   "metadata": {},
   "source": [
    "# 2. Binary Search verification\n",
    "- A determine range of x: `[a,b]`. Eg: segments\n",
    "- function f(x): check true/false. Eg: Rules, Requirements\n",
    "    + Find x to make f(x) optimal\n",
    "    + Easy to verify f(x) true/false than find x directly\n",
    "\n",
    "<img src=\"./img/3.jpg\" alt=\"drawing\" width=\"700\"/>"
   ]
  },
  {
   "cell_type": "markdown",
   "metadata": {},
   "source": [
    "# 3. Tenary search\n",
    "- For finding max, min in a unimodal function f\n",
    "\n",
    "<img src=\"./img/2.png\" width=\"400\"/>"
   ]
  }
 ],
 "metadata": {
  "kernelspec": {
   "display_name": "Python 3.8",
   "language": "python",
   "name": "py38"
  },
  "language_info": {
   "codemirror_mode": {
    "name": "ipython",
    "version": 3
   },
   "file_extension": ".py",
   "mimetype": "text/x-python",
   "name": "python",
   "nbconvert_exporter": "python",
   "pygments_lexer": "ipython3",
   "version": "3.8.13"
  }
 },
 "nbformat": 4,
 "nbformat_minor": 4
}
