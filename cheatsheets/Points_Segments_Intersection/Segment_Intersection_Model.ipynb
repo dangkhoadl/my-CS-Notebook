{
 "cells": [
  {
   "cell_type": "markdown",
   "metadata": {},
   "source": [
    "#### Segment model\n",
    "```C++\n",
    "struct Segment {\n",
    "    int id;\n",
    "    int start;\n",
    "    int end;\n",
    "    Segment() : id(0), start(0), end(0) {}\n",
    "    Segment(int id, int s, int e) : id(id), start(s), end(e) {}\n",
    "};\n",
    "\n",
    "vector<Segment> segments;\n",
    "```\n",
    "\n",
    "#### Intersection model\n",
    "<img src=\"./img/1.jpg\" alt=\"drawing\" width=\"950\"/>\n",
    "\n",
    "\n",
    "```C++\n",
    "// coordinate\n",
    "set<int> P; \n",
    "\n",
    "// [coordinate]: nums_start: coordinate p has `num_start` starting points\n",
    "unordered_map<int,int> num_start;\n",
    "// [coordinate]: nums_end: coordinate p has `num_end` ending points\n",
    "unordered_map<int,int> num_end;\n",
    "\n",
    "// [coordinate]: segment_id_starts(set)\n",
    "unordered_map<int, unordered_set<int>> start_ids;\n",
    "// [coordinate]: segment_id_ends(set)\n",
    "unordered_map<int, unordered_set<int>> end_ids;\n",
    "```\n",
    "\n",
    "#### Intersection model - quick\n",
    "```C++\n",
    "// [coordinate]: +1 if start, -1 if end\n",
    "map<int, int> P; \n",
    "```"
   ]
  }
 ],
 "metadata": {
  "kernelspec": {
   "display_name": "Python 3.8",
   "language": "python",
   "name": "py38"
  },
  "language_info": {
   "codemirror_mode": {
    "name": "ipython",
    "version": 3
   },
   "file_extension": ".py",
   "mimetype": "text/x-python",
   "name": "python",
   "nbconvert_exporter": "python",
   "pygments_lexer": "ipython3",
   "version": "3.8.13"
  }
 },
 "nbformat": 4,
 "nbformat_minor": 2
}
