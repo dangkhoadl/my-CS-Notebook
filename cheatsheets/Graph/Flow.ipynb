{
 "cells": [
  {
   "cell_type": "markdown",
   "metadata": {},
   "source": [
    "\n",
    "## 5_Flow_Dinic\n",
    "<img src=\"./img/5_Flow_Dinic.jpg\" alt=\"drawing\" width=\"650\"/>\n",
    "\n",
    "## 6_biGraph_MaximumMatching_Dinic\n",
    "<img src=\"./img/6_biGraph_MaximumMatching_Dinic.jpg\" alt=\"drawing\" width=\"800\"/>\n"
   ]
  }
 ],
 "metadata": {
  "kernelspec": {
   "display_name": "Python 3.7",
   "language": "python",
   "name": "py37"
  },
  "language_info": {
   "codemirror_mode": {
    "name": "ipython",
    "version": 3
   },
   "file_extension": ".py",
   "mimetype": "text/x-python",
   "name": "python",
   "nbconvert_exporter": "python",
   "pygments_lexer": "ipython3",
   "version": "3.7.9"
  }
 },
 "nbformat": 4,
 "nbformat_minor": 4
}
